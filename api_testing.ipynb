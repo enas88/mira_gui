{
 "cells": [
  {
   "cell_type": "code",
   "execution_count": 5,
   "metadata": {},
   "outputs": [],
   "source": [
    "# import requests\n",
    "\n",
    "# # Define the URL of your FastAPI server\n",
    "# url = \"http://localhost:8000\"  # Update with your server's URL\n",
    "\n",
    "# # Define the data to send as JSON\n",
    "# data = {\n",
    "#     \"text1\": \"Input Text 1\",\n",
    "#     \"text2\": \"Input Text 2\"\n",
    "# }\n",
    "\n",
    "# # Send a POST request with JSON data\n",
    "# response = requests.post(url, json=data)\n",
    "\n",
    "# # Check the response\n",
    "# if response.status_code == 200:\n",
    "#     result = response.json()\n",
    "#     similarity = result[\"similarity\"]\n",
    "#     print(f\"Cosine Similarity: {similarity}\")\n",
    "# else:\n",
    "#     print(f\"Request failed with status code: {response.status_code}\")"
   ]
  },
  {
   "cell_type": "code",
   "execution_count": 3,
   "metadata": {},
   "outputs": [
    {
     "name": "stdout",
     "output_type": "stream",
     "text": [
      "Person added successfully\n"
     ]
    }
   ],
   "source": [
    "import requests\n",
    "\n",
    "# Define the URL of your FastAPI server\n",
    "url = \"http://localhost:8000/add_person\"  # Update with your server's URL\n",
    "\n",
    "# Define the data to send as JSON\n",
    "person_data = {\n",
    "    \"first_name\": \"enas\",\n",
    "    \"last_name\": \"khwaileh\",\n",
    "    \"age\": 35\n",
    "}\n",
    "\n",
    "# Send a POST request with JSON data to add a person\n",
    "response = requests.post(url, json=person_data)\n",
    "\n",
    "# Check the response\n",
    "if response.status_code == 200:\n",
    "    result = response.json()\n",
    "    print(result[\"message\"])\n",
    "else:\n",
    "    print(f\"Request failed with status code: {response.status_code}\")\n"
   ]
  },
  {
   "cell_type": "code",
   "execution_count": 2,
   "metadata": {},
   "outputs": [
    {
     "data": {
      "text/plain": [
       "['test.csv', 'test2.csv', 'test3.csv']"
      ]
     },
     "execution_count": 2,
     "metadata": {},
     "output_type": "execute_result"
    }
   ],
   "source": [
    "import os\n",
    "os.listdir(\"uploads\")"
   ]
  },
  {
   "cell_type": "code",
   "execution_count": 13,
   "metadata": {},
   "outputs": [
    {
     "data": {
      "text/plain": [
       "{'TableName': {0: ' Machine Learning Engineer',\n",
       "  1: 'Data Scientist',\n",
       "  2: 'Data Analyst',\n",
       "  3: 'Software Developer',\n",
       "  4: 'Physicist'},\n",
       " 'SimilarityScore': {0: 0.8346510529518127,\n",
       "  1: 0.6666718125343323,\n",
       "  2: 0.6132876873016357,\n",
       "  3: 0.563723087310791,\n",
       "  4: 0.5109235644340515}}"
      ]
     },
     "execution_count": 13,
     "metadata": {},
     "output_type": "execute_result"
    }
   ],
   "source": [
    "import sentence_transformers\n",
    "from sentence_transformers import SentenceTransformer, util\n",
    "import numpy as np\n",
    "import pandas as pd\n",
    "\n",
    "\n",
    "db = np.array(['Data Scientist',' Machine Learning Engineer','Data Analyst', 'Software Developer','Front End Developer','Back End Developer','Mathematician','Physicist'])\n",
    "model = SentenceTransformer(\"all-mpnet-base-v2\")\n",
    "encodings = model.encode(db)\n",
    "k=5\n",
    "query = 'ML Engineer'\n",
    "query_emb = model.encode(query)\n",
    "cos_sims = util.cos_sim(query_emb, encodings).numpy()[0]\n",
    "top_k_indices = np.argsort(-cos_sims)[:k]\n",
    "\n",
    "top_k_results = list(zip(db[top_k_indices],cos_sims[top_k_indices]))\n",
    "top_k_results = pd.DataFrame(top_k_results, columns=['TableName','SimilarityScore']).to_dict()"
   ]
  },
  {
   "cell_type": "code",
   "execution_count": null,
   "metadata": {},
   "outputs": [],
   "source": []
  }
 ],
 "metadata": {
  "kernelspec": {
   "display_name": ".venv",
   "language": "python",
   "name": "python3"
  },
  "language_info": {
   "codemirror_mode": {
    "name": "ipython",
    "version": 3
   },
   "file_extension": ".py",
   "mimetype": "text/x-python",
   "name": "python",
   "nbconvert_exporter": "python",
   "pygments_lexer": "ipython3",
   "version": "3.9.6"
  },
  "orig_nbformat": 4
 },
 "nbformat": 4,
 "nbformat_minor": 2
}
