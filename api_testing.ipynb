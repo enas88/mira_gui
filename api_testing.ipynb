{
 "cells": [
  {
   "cell_type": "code",
   "execution_count": 5,
   "metadata": {},
   "outputs": [],
   "source": [
    "# import requests\n",
    "\n",
    "# # Define the URL of your FastAPI server\n",
    "# url = \"http://localhost:8000\"  # Update with your server's URL\n",
    "\n",
    "# # Define the data to send as JSON\n",
    "# data = {\n",
    "#     \"text1\": \"Input Text 1\",\n",
    "#     \"text2\": \"Input Text 2\"\n",
    "# }\n",
    "\n",
    "# # Send a POST request with JSON data\n",
    "# response = requests.post(url, json=data)\n",
    "\n",
    "# # Check the response\n",
    "# if response.status_code == 200:\n",
    "#     result = response.json()\n",
    "#     similarity = result[\"similarity\"]\n",
    "#     print(f\"Cosine Similarity: {similarity}\")\n",
    "# else:\n",
    "#     print(f\"Request failed with status code: {response.status_code}\")"
   ]
  },
  {
   "cell_type": "code",
   "execution_count": 3,
   "metadata": {},
   "outputs": [
    {
     "name": "stdout",
     "output_type": "stream",
     "text": [
      "Person added successfully\n"
     ]
    }
   ],
   "source": [
    "import requests\n",
    "\n",
    "# Define the URL of your FastAPI server\n",
    "url = \"http://localhost:8000/add_person\"  # Update with your server's URL\n",
    "\n",
    "# Define the data to send as JSON\n",
    "person_data = {\n",
    "    \"first_name\": \"enas\",\n",
    "    \"last_name\": \"khwaileh\",\n",
    "    \"age\": 35\n",
    "}\n",
    "\n",
    "# Send a POST request with JSON data to add a person\n",
    "response = requests.post(url, json=person_data)\n",
    "\n",
    "# Check the response\n",
    "if response.status_code == 200:\n",
    "    result = response.json()\n",
    "    print(result[\"message\"])\n",
    "else:\n",
    "    print(f\"Request failed with status code: {response.status_code}\")\n"
   ]
  },
  {
   "cell_type": "code",
   "execution_count": 2,
   "metadata": {},
   "outputs": [
    {
     "data": {
      "text/plain": [
       "['test.csv', 'test2.csv', 'test3.csv']"
      ]
     },
     "execution_count": 2,
     "metadata": {},
     "output_type": "execute_result"
    }
   ],
   "source": [
    "import os\n",
    "os.listdir(\"uploads\")"
   ]
  },
  {
   "cell_type": "code",
   "execution_count": 13,
   "metadata": {},
   "outputs": [
    {
     "data": {
      "text/plain": [
       "{'TableName': {0: ' Machine Learning Engineer',\n",
       "  1: 'Data Scientist',\n",
       "  2: 'Data Analyst',\n",
       "  3: 'Software Developer',\n",
       "  4: 'Physicist'},\n",
       " 'SimilarityScore': {0: 0.8346510529518127,\n",
       "  1: 0.6666718125343323,\n",
       "  2: 0.6132876873016357,\n",
       "  3: 0.563723087310791,\n",
       "  4: 0.5109235644340515}}"
      ]
     },
     "execution_count": 13,
     "metadata": {},
     "output_type": "execute_result"
    }
   ],
   "source": [
    "import sentence_transformers\n",
    "from sentence_transformers import SentenceTransformer, util\n",
    "import numpy as np\n",
    "import pandas as pd\n",
    "\n",
    "\n",
    "db = np.array(['Data Scientist',' Machine Learning Engineer','Data Analyst', 'Software Developer','Front End Developer','Back End Developer','Mathematician','Physicist'])\n",
    "model = SentenceTransformer(\"all-mpnet-base-v2\")\n",
    "encodings = model.encode(db)\n",
    "k=5\n",
    "query = 'ML Engineer'\n",
    "query_emb = model.encode(query)\n",
    "cos_sims = util.cos_sim(query_emb, encodings).numpy()[0]\n",
    "top_k_indices = np.argsort(-cos_sims)[:k]\n",
    "\n",
    "top_k_results = list(zip(db[top_k_indices],cos_sims[top_k_indices]))\n",
    "top_k_results = pd.DataFrame(top_k_results, columns=['TableName','SimilarityScore']).to_dict()"
   ]
  },
  {
   "cell_type": "code",
   "execution_count": 1,
   "metadata": {},
   "outputs": [
    {
     "name": "stderr",
     "output_type": "stream",
     "text": [
      "c:\\Users\\leandros\\Documents\\GitHub\\mira_gui\\.venv\\lib\\site-packages\\tqdm\\auto.py:21: TqdmWarning: IProgress not found. Please update jupyter and ipywidgets. See https://ipywidgets.readthedocs.io/en/stable/user_install.html\n",
      "  from .autonotebook import tqdm as notebook_tqdm\n"
     ]
    }
   ],
   "source": [
    "import os\n",
    "from os.path import isfile, join\n",
    "import pandas as pd\n",
    "from sentence_transformers import SentenceTransformer, util\n",
    "import torch\n",
    "from prettytable import PrettyTable\n"
   ]
  },
  {
   "cell_type": "code",
   "execution_count": 13,
   "metadata": {},
   "outputs": [],
   "source": [
    "datasetpath =  f\"semantic_matching/data/GroundTruth_Data/\"\n",
    "embeddingspath = f\"semantic_matching/data/newdataembedding/\"\n",
    "\n",
    "files = [f for f in os.listdir(datasetpath) if (isfile(join(datasetpath, f)) and f.endswith('.csv'))]\n",
    "embeddingsFiles = [f for f in os.listdir(embeddingspath) if (isfile(join(embeddingspath, f)) and f.endswith('.pt'))]\n",
    "\n",
    "embeddings = torch.empty(0, device = 'cpu')\n",
    "for embeddingsFile in embeddingsFiles:\n",
    "    embeddingsOffile = torch.load(embeddingspath+ embeddingsFile, map_location=torch.device('cpu'))\n",
    "    embeddings = torch.concat([embeddings, embeddingsOffile])"
   ]
  },
  {
   "cell_type": "code",
   "execution_count": 15,
   "metadata": {},
   "outputs": [
    {
     "name": "stdout",
     "output_type": "stream",
     "text": [
      "Error in reading a csv file: file name: Airbnb_Open_Data.csv, Error message: Error tokenizing data. C error: EOF inside string starting at row 36\n"
     ]
    }
   ],
   "source": [
    "filesContent = {}\n",
    "content = []\n",
    "\n",
    "for file in files:\n",
    "    try:\n",
    "        df = pd.read_csv( datasetpath + file, encoding = \"ISO-8859-1\", on_bad_lines = \"skip\")\n",
    "        filesContent[file] = df.columns.tolist()\n",
    "        content += df.columns.tolist()\n",
    "        for row in df.values:\n",
    "            filesContent[file] += list(map(str,row))\n",
    "            content += list(map(str,row))\n",
    "    except Exception as e:\n",
    "        print(f\"Error in reading a csv file: file name: {file}, Error message: {e}\")"
   ]
  },
  {
   "cell_type": "code",
   "execution_count": null,
   "metadata": {},
   "outputs": [],
   "source": []
  },
  {
   "cell_type": "code",
   "execution_count": 5,
   "metadata": {},
   "outputs": [
    {
     "data": {
      "text/plain": [
       "['GroundTruth_Data']"
      ]
     },
     "execution_count": 5,
     "metadata": {},
     "output_type": "execute_result"
    }
   ],
   "source": [
    "os.listdir(datasetpath)"
   ]
  },
  {
   "cell_type": "code",
   "execution_count": 19,
   "metadata": {},
   "outputs": [
    {
     "data": {
      "text/plain": [
       "array([0.18616231], dtype=float32)"
      ]
     },
     "execution_count": 19,
     "metadata": {},
     "output_type": "execute_result"
    }
   ],
   "source": [
    "\n",
    "model = SentenceTransformer(\"all-mpnet-base-v2\")\n",
    "\n",
    "query_embedding1 = model.encode('Computer Scientist')\n",
    "query_embedding2 = model.encode('parental level of education')\n",
    "cos_sims = util.cos_sim(query_embedding1, query_embedding2).numpy()[0]\n",
    "cos_sims"
   ]
  },
  {
   "cell_type": "code",
   "execution_count": null,
   "metadata": {},
   "outputs": [],
   "source": []
  },
  {
   "cell_type": "code",
   "execution_count": null,
   "metadata": {},
   "outputs": [],
   "source": []
  },
  {
   "cell_type": "code",
   "execution_count": null,
   "metadata": {},
   "outputs": [],
   "source": [
    "import os\n",
    "from os.path import isfile, join\n",
    "import pandas as pd\n",
    "from sentence_transformers import SentenceTransformer, util\n",
    "import torch\n",
    "from prettytable import PrettyTable\n",
    "\n",
    "def readFiles():\n",
    "\n",
    "\tdatasetpath =  f\"../data/GroundTruth_Data/\"\n",
    "\tembeddingspath = f\"../data/newdataembedding/\"\n",
    "\n",
    "\tfiles = [f for f in os.listdir(datasetpath) if (isfile(join(datasetpath, f)) and f.endswith('.csv'))]\n",
    "\tembeddingsFiles = [f for f in os.listdir(embeddingspath) if (isfile(join(embeddingspath, f)) and f.endswith('.pt'))]\n",
    "\t\n",
    "\tembeddings = torch.empty(0, device = 'cpu')\n",
    "\tfor embeddingsFile in embeddingsFiles:\n",
    "\t\tembeddingsOffile = torch.load(embeddingspath+ embeddingsFile)\n",
    "\t\tembeddings = torch.concat([embeddings, embeddingsOffile])\n",
    "\n",
    "\t\n",
    "\tfilesContent = {}\n",
    "\tcontent = []\n",
    "\t\n",
    "\tfor file in files:\n",
    "\t\ttry:\n",
    "\t\t\tdf = pd.read_csv( datasetpath + file, encoding = \"ISO-8859-1\", on_bad_lines = \"skip\")\n",
    "\t\t\tfilesContent[file] = df.columns.tolist()\n",
    "\t\t\tcontent += df.columns.tolist()\n",
    "\t\t\tfor row in df.values:\n",
    "\t\t\t\tfilesContent[file] += list(map(str,row))\n",
    "\t\t\t\tcontent += list(map(str,row))\n",
    "\t\texcept Exception as e:\n",
    "\t\t\tprint(f\"Error in reading a csv file: file name: {file}, Error message: {e}\")\n",
    "\t\t\n",
    "\treturn filesContent, content, embeddings\n",
    "\n",
    "def getMeXResults(X,top_results, filesContent, content):\n",
    "\tXResults = []\n",
    "\ti = 0\n",
    "\tcellsFileCombi = []\n",
    "\tfor score, idx in zip(top_results[0], top_results[1]):\n",
    "\t\tif float(\"{:.4f}\".format(score)) >= 0.3:\n",
    "\t\t\tfor filename, val in filesContent.items():\n",
    "\t\t\t\tif content[idx] in val:\n",
    "\t\t\t\t\tif (filename, content[idx]) not in cellsFileCombi:\n",
    "\t\t\t\t\t\tcellsFileCombi.append((filename, content[idx]))\n",
    "\t\t\t\t\t\tXResults.append((filename, content[idx], score))\n",
    "\t\t\t\t\t\ti += 1\n",
    "\t\t\t\t\t\tif i == X:\n",
    "\t\t\t\t\t\t\treturn XResults\n",
    "\treturn XResults\n",
    "\n",
    "def results(query, filesContent, content, embeddings):   \n",
    "\t\n",
    "\tsymmetric_embedder = SentenceTransformer('all-mpnet-base-v2')\n",
    "\tresults = {}\n",
    "\t\n",
    "\tquery_embedding = symmetric_embedder.encode(query, convert_to_tensor = True)\n",
    "\ttop_k = min(10, len(embeddings))\n",
    "\tcos_scores = util.cos_sim(query_embedding, embeddings)[0]\n",
    "\ttop_results = torch.topk(cos_scores, len(embeddings), sorted = True)\n",
    "\t\n",
    "\tresults = getMeXResults(top_k, top_results, filesContent, content)\n",
    "\treturn results\n",
    "\n",
    "def matching():\n",
    "\tfilesContent, content, embeddings = readFiles()\n",
    "\twhile True:\n",
    "\t\tquery = \"Rock Music\"\n",
    "\t\tresult = results(query, filesContent, content, embeddings)\n",
    "\t\tprint(\"============================\")\n",
    "\t\tprint(f\"your query is: {query}\")\n",
    "\t\t\n",
    "\t\ttable = [['Filename', 'Cell Value', 'Score']]\n",
    "\t\tfor i in result:\n",
    "\t\t\ttable.append([i[0], i[1], \"{:.4f}\".format(i[2])])\n",
    "\t\ttab = PrettyTable(table[0])\n",
    "\t\ttab.add_rows(table[1:])\n",
    "\t\tprint(tab)\n",
    "\t\t\n",
    "if __name__ == \"__main__\":\n",
    "\tmatching()\n"
   ]
  },
  {
   "cell_type": "markdown",
   "metadata": {},
   "source": [
    "# Embeddings generation"
   ]
  },
  {
   "cell_type": "code",
   "execution_count": 148,
   "metadata": {},
   "outputs": [],
   "source": [
    "import os\n",
    "import torch\n",
    "import numpy as np\n",
    "import pandas as pd\n",
    "from sentence_transformers import SentenceTransformer, util"
   ]
  },
  {
   "cell_type": "code",
   "execution_count": null,
   "metadata": {},
   "outputs": [],
   "source": [
    "model = SentenceTransformer(\"all-mpnet-base-v2\")"
   ]
  },
  {
   "cell_type": "code",
   "execution_count": 152,
   "metadata": {},
   "outputs": [],
   "source": [
    "\n",
    "def create_embeddings(table_name, base_path):\n",
    "\n",
    "    if os.path.exists(base_path + table_name.replace('.csv', '.pt') ):\n",
    "        return 'Embeddings file already exist'\n",
    "\n",
    "    df = pd.read_csv(base_path + table_name)\n",
    "\n",
    "    col_names = df.columns.tolist()\n",
    "    df_columns = pd.DataFrame([col_names], columns=col_names)\n",
    "\n",
    "    df = pd.concat([df_columns,df], ignore_index=True)\n",
    "    df = df.map(lambda cell_value: str(cell_value))\n",
    "    cell_values_flat = df.values.flatten()\n",
    "\n",
    "    # Create embeddings for all cell values\n",
    "    embeddings_list_flat = model.encode(cell_values_flat)\n",
    "\n",
    "    # Save embeddings to pt file\n",
    "    torch.save(embeddings_list_flat, base_path + table_name.replace('.csv', '.pt') )\n",
    "\n",
    "    return 'Embeddings created successfully'"
   ]
  },
  {
   "cell_type": "code",
   "execution_count": 158,
   "metadata": {},
   "outputs": [
    {
     "data": {
      "text/plain": [
       "'Embeddings created successfully'"
      ]
     },
     "execution_count": 158,
     "metadata": {},
     "output_type": "execute_result"
    }
   ],
   "source": [
    "table_name = 'shopping_trends.csv'\n",
    "base_path = 'semantic_matching/data/'\n",
    "\n",
    "create_embeddings(table_name, base_path)"
   ]
  },
  {
   "cell_type": "code",
   "execution_count": 162,
   "metadata": {},
   "outputs": [],
   "source": [
    "def create_data(table_name):\n",
    "\n",
    "    print(f'Processing table: {table_name}')\n",
    "\n",
    "    # Read csv data\n",
    "    # base_path = 'semantic_matching/data/'\n",
    "    df = pd.read_csv(table_name)\n",
    "\n",
    "    # Add column names as first row\n",
    "    col_names = df.columns.tolist()\n",
    "    df_columns = pd.DataFrame([col_names], columns=col_names)\n",
    "    df = pd.concat([df_columns,df], ignore_index=True)\n",
    "    df = df.map(lambda cell_value: str(cell_value))\n",
    "    cell_values_flat = df.values.flatten()\n",
    "\n",
    "    # Create embeddings for all cell values\n",
    "    # embeddings_list_flat = model.encode(cell_values_flat)\n",
    "    embeddings_path = table_name.replace('.csv', '.pt')\n",
    "    assert os.path.exists(embeddings_path), \"Embeddings path doesn't exist\"\n",
    "    embeddings_list_flat = torch.load(embeddings_path)\n",
    "    \n",
    "    # cell_numbers_flat = list(range(len(cell_values_flat)))\n",
    "\n",
    "    col_names_flat = col_names * int((len(cell_values_flat)/len(col_names)))\n",
    "\n",
    "    # Final DataFrame\n",
    "    name_and_embs = pd.DataFrame(list(zip([table_name.split('/')[-1]]*len(embeddings_list_flat), cell_values_flat , col_names_flat, embeddings_list_flat)), columns=['TableName','CellValue','CellValue_Column','Embeddings'])\n",
    "\n",
    "    return name_and_embs\n"
   ]
  },
  {
   "cell_type": "code",
   "execution_count": 126,
   "metadata": {},
   "outputs": [],
   "source": [
    "def get_top_k(query, input_df, k):\n",
    "\n",
    "    query_emb = model.encode(query)\n",
    "    cos_sims = util.cos_sim(query_emb, input_df['Embeddings']).numpy()[0]\n",
    "    input_df['SimilaritiyScores'] = cos_sims\n",
    "    input_df =  input_df.drop_duplicates(subset='CellValue').reset_index(drop=True)\n",
    "    input_df =  input_df.sort_values('SimilaritiyScores', ascending=False)\n",
    "\n",
    "    return input_df.iloc[:k]"
   ]
  },
  {
   "cell_type": "code",
   "execution_count": 140,
   "metadata": {},
   "outputs": [],
   "source": [
    "def batch_semantic_matching(query, table_names, k):\n",
    "\n",
    "    total_results_df = pd.DataFrame([],columns=['TableName','CellValue','CellValue_Column','Embeddings'])\n",
    "\n",
    "    for table_name in table_names:\n",
    "\n",
    "        # Calculate cosine similarities \n",
    "        res_df = create_data(table_name)\n",
    "        total_results_df = pd.concat([total_results_df, res_df], ignore_index=True)\n",
    "\n",
    "    # Get top-k similar results\n",
    "    top_k_df = get_top_k(query, total_results_df, k).reset_index(drop=True)\n",
    "\n",
    "    return top_k_df\n"
   ]
  },
  {
   "cell_type": "code",
   "execution_count": 160,
   "metadata": {},
   "outputs": [
    {
     "data": {
      "text/plain": [
       "['semantic_matching/data/jobs.csv',\n",
       " 'semantic_matching/data/shopping_trends.csv']"
      ]
     },
     "execution_count": 160,
     "metadata": {},
     "output_type": "execute_result"
    }
   ],
   "source": [
    "# Get all csv files:\n",
    "base_path = 'semantic_matching/data/'\n",
    "csv_files = [base_path+file for file in os.listdir(base_path) if file.endswith('.csv')]\n",
    "csv_files"
   ]
  },
  {
   "cell_type": "code",
   "execution_count": 161,
   "metadata": {},
   "outputs": [
    {
     "data": {
      "text/plain": [
       "'jobs.csv'"
      ]
     },
     "execution_count": 161,
     "metadata": {},
     "output_type": "execute_result"
    }
   ],
   "source": [
    "csv_files[0].split('/')[-1]"
   ]
  },
  {
   "cell_type": "code",
   "execution_count": 163,
   "metadata": {},
   "outputs": [
    {
     "name": "stdout",
     "output_type": "stream",
     "text": [
      "Processing table: semantic_matching/data/jobs.csv\n",
      "Processing table: semantic_matching/data/shopping_trends.csv\n"
     ]
    },
    {
     "data": {
      "text/html": [
       "<div>\n",
       "<style scoped>\n",
       "    .dataframe tbody tr th:only-of-type {\n",
       "        vertical-align: middle;\n",
       "    }\n",
       "\n",
       "    .dataframe tbody tr th {\n",
       "        vertical-align: top;\n",
       "    }\n",
       "\n",
       "    .dataframe thead th {\n",
       "        text-align: right;\n",
       "    }\n",
       "</style>\n",
       "<table border=\"1\" class=\"dataframe\">\n",
       "  <thead>\n",
       "    <tr style=\"text-align: right;\">\n",
       "      <th></th>\n",
       "      <th>TableName</th>\n",
       "      <th>CellValue</th>\n",
       "      <th>CellValue_Column</th>\n",
       "      <th>Embeddings</th>\n",
       "      <th>SimilaritiyScores</th>\n",
       "    </tr>\n",
       "  </thead>\n",
       "  <tbody>\n",
       "    <tr>\n",
       "      <th>0</th>\n",
       "      <td>shopping_trends.csv</td>\n",
       "      <td>Clothing</td>\n",
       "      <td>Category</td>\n",
       "      <td>[0.02621154, 0.04037507, -0.0047923974, -0.022...</td>\n",
       "      <td>0.569970</td>\n",
       "    </tr>\n",
       "    <tr>\n",
       "      <th>1</th>\n",
       "      <td>jobs.csv</td>\n",
       "      <td>Data Analyst</td>\n",
       "      <td>Job Name</td>\n",
       "      <td>[-0.015574576, 0.04354819, -0.07052371, -0.018...</td>\n",
       "      <td>0.544447</td>\n",
       "    </tr>\n",
       "    <tr>\n",
       "      <th>2</th>\n",
       "      <td>jobs.csv</td>\n",
       "      <td>Data Scientist</td>\n",
       "      <td>Job Name</td>\n",
       "      <td>[-0.0039955433, 0.064525425, -0.065324955, -0....</td>\n",
       "      <td>0.461979</td>\n",
       "    </tr>\n",
       "    <tr>\n",
       "      <th>3</th>\n",
       "      <td>shopping_trends.csv</td>\n",
       "      <td>Blouse</td>\n",
       "      <td>Item Purchased</td>\n",
       "      <td>[-0.007990204, 0.018430114, -0.017955607, -0.0...</td>\n",
       "      <td>0.420859</td>\n",
       "    </tr>\n",
       "    <tr>\n",
       "      <th>4</th>\n",
       "      <td>shopping_trends.csv</td>\n",
       "      <td>Dress</td>\n",
       "      <td>Item Purchased</td>\n",
       "      <td>[-0.019607369, 0.064712085, -0.0047004707, 0.0...</td>\n",
       "      <td>0.410074</td>\n",
       "    </tr>\n",
       "  </tbody>\n",
       "</table>\n",
       "</div>"
      ],
      "text/plain": [
       "             TableName       CellValue CellValue_Column  \\\n",
       "0  shopping_trends.csv        Clothing         Category   \n",
       "1             jobs.csv    Data Analyst         Job Name   \n",
       "2             jobs.csv  Data Scientist         Job Name   \n",
       "3  shopping_trends.csv          Blouse   Item Purchased   \n",
       "4  shopping_trends.csv           Dress   Item Purchased   \n",
       "\n",
       "                                          Embeddings  SimilaritiyScores  \n",
       "0  [0.02621154, 0.04037507, -0.0047923974, -0.022...           0.569970  \n",
       "1  [-0.015574576, 0.04354819, -0.07052371, -0.018...           0.544447  \n",
       "2  [-0.0039955433, 0.064525425, -0.065324955, -0....           0.461979  \n",
       "3  [-0.007990204, 0.018430114, -0.017955607, -0.0...           0.420859  \n",
       "4  [-0.019607369, 0.064712085, -0.0047004707, 0.0...           0.410074  "
      ]
     },
     "execution_count": 163,
     "metadata": {},
     "output_type": "execute_result"
    }
   ],
   "source": [
    "# table_names = ['jobs.csv', 'shopping_trends.csv']\n",
    "\n",
    "batch_semantic_matching('Fashion Data Analyst', csv_files, 5)"
   ]
  },
  {
   "cell_type": "code",
   "execution_count": 115,
   "metadata": {},
   "outputs": [
    {
     "name": "stdout",
     "output_type": "stream",
     "text": [
      "Processing table: jobs.csv\n"
     ]
    }
   ],
   "source": [
    "# res_df = create_data('jobs.csv')"
   ]
  },
  {
   "cell_type": "code",
   "execution_count": 117,
   "metadata": {},
   "outputs": [],
   "source": [
    "# query_emb = model.encode('Analyst')\n",
    "# cos_sims = util.cos_sim(query_emb, res_df['Embeddings']).numpy()[0]\n",
    "# res_df['SimilaritiyScores'] = cos_sims\n",
    "# res_df =  res_df.drop_duplicates(subset='CellValue').reset_index(drop=True)\n",
    "# # res_df['SimilarityScore_Rank'] = res_df['SimilaritiyScores'].rank(method='dense', ascending=False)\n",
    "# # res_df = res_df.sort_values('SimilaritiyScores', ascending=False)\n",
    "# # top_k_indices = np.argsort(-cos_sims)[:k]\n",
    "\n",
    "# # res = res_df.iloc[top_k_indices].reset_index(drop=True)\n",
    "# # res['SimilaritiyScores'] = cos_sims[top_k_indices]"
   ]
  },
  {
   "cell_type": "code",
   "execution_count": null,
   "metadata": {},
   "outputs": [],
   "source": [
    "# res_df.sort_values('SimilaritiyScores', ascending=False).iloc[:5]"
   ]
  },
  {
   "cell_type": "code",
   "execution_count": null,
   "metadata": {},
   "outputs": [],
   "source": [
    "# res_df = create_data(table_names[0])\n"
   ]
  },
  {
   "cell_type": "code",
   "execution_count": 65,
   "metadata": {},
   "outputs": [],
   "source": [
    "# top_k_df = get_top_k('Job', res_df, 5)"
   ]
  },
  {
   "cell_type": "code",
   "execution_count": 46,
   "metadata": {},
   "outputs": [],
   "source": [
    "# embeddings_data = test_table.map(lambda cell_value: model.encode(str(cell_value)))\n",
    "# embeddings_list_flat= embeddings_data.values.flatten()\n",
    "# cell_values_flat = test_table.values.flatten()\n",
    "# cell_numbers_flat = list(range(len(cell_values_flat)))"
   ]
  },
  {
   "cell_type": "code",
   "execution_count": null,
   "metadata": {},
   "outputs": [],
   "source": [
    "# col_names_flat = col_names * int((len(cell_values_flat)/len(col_names)))"
   ]
  },
  {
   "cell_type": "code",
   "execution_count": null,
   "metadata": {},
   "outputs": [],
   "source": [
    "# name_and_embs = pd.DataFrame(list(zip([test_table_name]*len(embeddings_list_flat), cell_values_flat , col_names_flat, embeddings_list_flat)), columns=['TableName','CellValue','CellValue_Column','Embeddings'])\n",
    "# name_and_embs"
   ]
  },
  {
   "cell_type": "code",
   "execution_count": null,
   "metadata": {},
   "outputs": [],
   "source": [
    "# k=5\n",
    "# query_emb = model.encode('Job')\n",
    "# cos_sims = util.cos_sim(query_emb, name_and_embs['Embeddings']).numpy()[0]\n",
    "# top_k_indices = np.argsort(-cos_sims)[:k]\n",
    "\n",
    "# res = name_and_embs.iloc[top_k_indices].reset_index(drop=True)\n",
    "# res['SimilaritiyScores'] = cos_sims[top_k_indices]\n",
    "# res"
   ]
  },
  {
   "cell_type": "code",
   "execution_count": null,
   "metadata": {},
   "outputs": [],
   "source": []
  },
  {
   "cell_type": "code",
   "execution_count": null,
   "metadata": {},
   "outputs": [],
   "source": []
  },
  {
   "cell_type": "code",
   "execution_count": null,
   "metadata": {},
   "outputs": [],
   "source": []
  },
  {
   "cell_type": "markdown",
   "metadata": {},
   "source": [
    "# Qdrant"
   ]
  },
  {
   "cell_type": "code",
   "execution_count": 21,
   "metadata": {},
   "outputs": [],
   "source": [
    "import qdrant_client\n",
    "from qdrant_client import QdrantClient\n",
    "\n",
    "client = QdrantClient(\"localhost\", port=6333)"
   ]
  },
  {
   "cell_type": "code",
   "execution_count": 23,
   "metadata": {},
   "outputs": [
    {
     "data": {
      "text/plain": [
       "True"
      ]
     },
     "execution_count": 23,
     "metadata": {},
     "output_type": "execute_result"
    }
   ],
   "source": [
    "from qdrant_client.http.models import Distance, VectorParams\n",
    "\n",
    "client.create_collection(\n",
    "    collection_name=\"test_collection\",\n",
    "    vectors_config=VectorParams(size=768, distance=Distance.COSINE),\n",
    ")"
   ]
  },
  {
   "cell_type": "code",
   "execution_count": null,
   "metadata": {},
   "outputs": [],
   "source": []
  }
 ],
 "metadata": {
  "kernelspec": {
   "display_name": ".venv",
   "language": "python",
   "name": "python3"
  },
  "language_info": {
   "codemirror_mode": {
    "name": "ipython",
    "version": 3
   },
   "file_extension": ".py",
   "mimetype": "text/x-python",
   "name": "python",
   "nbconvert_exporter": "python",
   "pygments_lexer": "ipython3",
   "version": "3.9.6"
  },
  "orig_nbformat": 4
 },
 "nbformat": 4,
 "nbformat_minor": 2
}
