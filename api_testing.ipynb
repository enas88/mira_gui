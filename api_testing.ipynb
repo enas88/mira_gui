{
 "cells": [
  {
   "cell_type": "markdown",
   "metadata": {},
   "source": [
    "# General Stuff"
   ]
  },
  {
   "cell_type": "code",
   "execution_count": 2,
   "metadata": {},
   "outputs": [
    {
     "name": "stderr",
     "output_type": "stream",
     "text": [
      "/Users/enaso/Library/CloudStorage/OneDrive-UniversiteitUtrecht/_GitHub/mira_gui/.venv/lib/python3.9/site-packages/tqdm/auto.py:21: TqdmWarning: IProgress not found. Please update jupyter and ipywidgets. See https://ipywidgets.readthedocs.io/en/stable/user_install.html\n",
      "  from .autonotebook import tqdm as notebook_tqdm\n"
     ]
    }
   ],
   "source": [
    "import mysql.connector\n",
    "import pandas \n",
    "import sentence_transformers "
   ]
  },
  {
   "cell_type": "code",
   "execution_count": 1,
   "metadata": {},
   "outputs": [
    {
     "name": "stdout",
     "output_type": "stream",
     "text": [
      "Collecting mysql-connector-python\n",
      "  Downloading mysql_connector_python-9.1.0-cp39-cp39-macosx_13_0_x86_64.whl.metadata (6.0 kB)\n",
      "Downloading mysql_connector_python-9.1.0-cp39-cp39-macosx_13_0_x86_64.whl (16.0 MB)\n",
      "\u001b[2K   \u001b[90m━━━━━━━━━━━━━━━━━━━━━━━━━━━━━━━━━━━━━━━━\u001b[0m \u001b[32m16.0/16.0 MB\u001b[0m \u001b[31m15.5 MB/s\u001b[0m eta \u001b[36m0:00:00\u001b[0ma \u001b[36m0:00:01\u001b[0m\n",
      "\u001b[?25hInstalling collected packages: mysql-connector-python\n",
      "Successfully installed mysql-connector-python-9.1.0\n",
      "Note: you may need to restart the kernel to use updated packages.\n"
     ]
    }
   ],
   "source": [
    "pip install mysql-connector-python\n"
   ]
  },
  {
   "cell_type": "code",
   "execution_count": 4,
   "metadata": {},
   "outputs": [
    {
     "name": "stdout",
     "output_type": "stream",
     "text": [
      "Requirement already satisfied: pip in ./.venv/lib/python3.9/site-packages (24.3.1)\n",
      "\u001b[31mERROR: Could not find a version that satisfies the requirement install (from versions: none)\u001b[0m\u001b[31m\n",
      "\u001b[0m\u001b[31mERROR: No matching distribution found for install\u001b[0m\u001b[31m\n",
      "\u001b[0mNote: you may need to restart the kernel to use updated packages.\n"
     ]
    }
   ],
   "source": [
    "pip install pip install mysql-connector-python "
   ]
  },
  {
   "cell_type": "code",
   "execution_count": 2,
   "metadata": {},
   "outputs": [
    {
     "ename": "FileNotFoundError",
     "evalue": "[Errno 2] No such file or directory: '../data/GroundTruth_Data/'",
     "output_type": "error",
     "traceback": [
      "\u001b[0;31m---------------------------------------------------------------------------\u001b[0m",
      "\u001b[0;31mFileNotFoundError\u001b[0m                         Traceback (most recent call last)",
      "\u001b[1;32m/Users/enaso/Library/CloudStorage/OneDrive-UniversiteitUtrecht/_GitHub/mira_gui/api_testing.ipynb Cell 2\u001b[0m line \u001b[0;36m8\n\u001b[1;32m     <a href='vscode-notebook-cell:/Users/enaso/Library/CloudStorage/OneDrive-UniversiteitUtrecht/_GitHub/mira_gui/api_testing.ipynb#W1sZmlsZQ%3D%3D?line=79'>80</a>\u001b[0m \t\t\u001b[39mprint\u001b[39m(tab)\n\u001b[1;32m     <a href='vscode-notebook-cell:/Users/enaso/Library/CloudStorage/OneDrive-UniversiteitUtrecht/_GitHub/mira_gui/api_testing.ipynb#W1sZmlsZQ%3D%3D?line=81'>82</a>\u001b[0m \u001b[39mif\u001b[39;00m \u001b[39m__name__\u001b[39m \u001b[39m==\u001b[39m \u001b[39m\"\u001b[39m\u001b[39m__main__\u001b[39m\u001b[39m\"\u001b[39m:\n\u001b[0;32m---> <a href='vscode-notebook-cell:/Users/enaso/Library/CloudStorage/OneDrive-UniversiteitUtrecht/_GitHub/mira_gui/api_testing.ipynb#W1sZmlsZQ%3D%3D?line=82'>83</a>\u001b[0m \tmatching()\n",
      "\u001b[1;32m/Users/enaso/Library/CloudStorage/OneDrive-UniversiteitUtrecht/_GitHub/mira_gui/api_testing.ipynb Cell 2\u001b[0m line \u001b[0;36m6\n\u001b[1;32m     <a href='vscode-notebook-cell:/Users/enaso/Library/CloudStorage/OneDrive-UniversiteitUtrecht/_GitHub/mira_gui/api_testing.ipynb#W1sZmlsZQ%3D%3D?line=66'>67</a>\u001b[0m \u001b[39mdef\u001b[39;00m \u001b[39mmatching\u001b[39m():\n\u001b[0;32m---> <a href='vscode-notebook-cell:/Users/enaso/Library/CloudStorage/OneDrive-UniversiteitUtrecht/_GitHub/mira_gui/api_testing.ipynb#W1sZmlsZQ%3D%3D?line=67'>68</a>\u001b[0m \tfilesContent, content, embeddings \u001b[39m=\u001b[39m readFiles()\n\u001b[1;32m     <a href='vscode-notebook-cell:/Users/enaso/Library/CloudStorage/OneDrive-UniversiteitUtrecht/_GitHub/mira_gui/api_testing.ipynb#W1sZmlsZQ%3D%3D?line=68'>69</a>\u001b[0m \t\u001b[39mwhile\u001b[39;00m \u001b[39mTrue\u001b[39;00m:\n\u001b[1;32m     <a href='vscode-notebook-cell:/Users/enaso/Library/CloudStorage/OneDrive-UniversiteitUtrecht/_GitHub/mira_gui/api_testing.ipynb#W1sZmlsZQ%3D%3D?line=69'>70</a>\u001b[0m \t\tquery \u001b[39m=\u001b[39m \u001b[39m\"\u001b[39m\u001b[39mRock Music\u001b[39m\u001b[39m\"\u001b[39m\n",
      "\u001b[1;32m/Users/enaso/Library/CloudStorage/OneDrive-UniversiteitUtrecht/_GitHub/mira_gui/api_testing.ipynb Cell 2\u001b[0m line \u001b[0;36m1\n\u001b[1;32m     <a href='vscode-notebook-cell:/Users/enaso/Library/CloudStorage/OneDrive-UniversiteitUtrecht/_GitHub/mira_gui/api_testing.ipynb#W1sZmlsZQ%3D%3D?line=9'>10</a>\u001b[0m datasetpath \u001b[39m=\u001b[39m  \u001b[39mf\u001b[39m\u001b[39m\"\u001b[39m\u001b[39m../data/GroundTruth_Data/\u001b[39m\u001b[39m\"\u001b[39m\n\u001b[1;32m     <a href='vscode-notebook-cell:/Users/enaso/Library/CloudStorage/OneDrive-UniversiteitUtrecht/_GitHub/mira_gui/api_testing.ipynb#W1sZmlsZQ%3D%3D?line=10'>11</a>\u001b[0m embeddingspath \u001b[39m=\u001b[39m \u001b[39mf\u001b[39m\u001b[39m\"\u001b[39m\u001b[39m../data/newdataembedding/\u001b[39m\u001b[39m\"\u001b[39m\n\u001b[0;32m---> <a href='vscode-notebook-cell:/Users/enaso/Library/CloudStorage/OneDrive-UniversiteitUtrecht/_GitHub/mira_gui/api_testing.ipynb#W1sZmlsZQ%3D%3D?line=12'>13</a>\u001b[0m files \u001b[39m=\u001b[39m [f \u001b[39mfor\u001b[39;00m f \u001b[39min\u001b[39;00m os\u001b[39m.\u001b[39;49mlistdir(datasetpath) \u001b[39mif\u001b[39;00m (isfile(join(datasetpath, f)) \u001b[39mand\u001b[39;00m f\u001b[39m.\u001b[39mendswith(\u001b[39m'\u001b[39m\u001b[39m.csv\u001b[39m\u001b[39m'\u001b[39m))]\n\u001b[1;32m     <a href='vscode-notebook-cell:/Users/enaso/Library/CloudStorage/OneDrive-UniversiteitUtrecht/_GitHub/mira_gui/api_testing.ipynb#W1sZmlsZQ%3D%3D?line=13'>14</a>\u001b[0m embeddingsFiles \u001b[39m=\u001b[39m [f \u001b[39mfor\u001b[39;00m f \u001b[39min\u001b[39;00m os\u001b[39m.\u001b[39mlistdir(embeddingspath) \u001b[39mif\u001b[39;00m (isfile(join(embeddingspath, f)) \u001b[39mand\u001b[39;00m f\u001b[39m.\u001b[39mendswith(\u001b[39m'\u001b[39m\u001b[39m.pt\u001b[39m\u001b[39m'\u001b[39m))]\n\u001b[1;32m     <a href='vscode-notebook-cell:/Users/enaso/Library/CloudStorage/OneDrive-UniversiteitUtrecht/_GitHub/mira_gui/api_testing.ipynb#W1sZmlsZQ%3D%3D?line=15'>16</a>\u001b[0m embeddings \u001b[39m=\u001b[39m torch\u001b[39m.\u001b[39mempty(\u001b[39m0\u001b[39m, device \u001b[39m=\u001b[39m \u001b[39m'\u001b[39m\u001b[39mcpu\u001b[39m\u001b[39m'\u001b[39m)\n",
      "\u001b[0;31mFileNotFoundError\u001b[0m: [Errno 2] No such file or directory: '../data/GroundTruth_Data/'"
     ]
    }
   ],
   "source": [
    "import os\n",
    "from os.path import isfile, join\n",
    "import pandas as pd\n",
    "from sentence_transformers import SentenceTransformer, util\n",
    "import torch\n",
    "from prettytable import PrettyTable\n",
    "\n",
    "def readFiles():\n",
    "\n",
    "\tdatasetpath =  f\"../data/GroundTruth_Data/\"\n",
    "\tembeddingspath = f\"../data/newdataembedding/\"\n",
    "\n",
    "\tfiles = [f for f in os.listdir(datasetpath) if (isfile(join(datasetpath, f)) and f.endswith('.csv'))]\n",
    "\tembeddingsFiles = [f for f in os.listdir(embeddingspath) if (isfile(join(embeddingspath, f)) and f.endswith('.pt'))]\n",
    "\t\n",
    "\tembeddings = torch.empty(0, device = 'cpu')\n",
    "\tfor embeddingsFile in embeddingsFiles:\n",
    "\t\tembeddingsOffile = torch.load(embeddingspath+ embeddingsFile)\n",
    "\t\tembeddings = torch.concat([embeddings, embeddingsOffile])\n",
    "\n",
    "\t\n",
    "\tfilesContent = {}\n",
    "\tcontent = []\n",
    "\t\n",
    "\tfor file in files:\n",
    "\t\ttry:\n",
    "\t\t\tdf = pd.read_csv( datasetpath + file, encoding = \"ISO-8859-1\", on_bad_lines = \"skip\")\n",
    "\t\t\tfilesContent[file] = df.columns.tolist()\n",
    "\t\t\tcontent += df.columns.tolist()\n",
    "\t\t\tfor row in df.values:\n",
    "\t\t\t\tfilesContent[file] += list(map(str,row))\n",
    "\t\t\t\tcontent += list(map(str,row))\n",
    "\t\texcept Exception as e:\n",
    "\t\t\tprint(f\"Error in reading a csv file: file name: {file}, Error message: {e}\")\n",
    "\t\t\n",
    "\treturn filesContent, content, embeddings\n",
    "\n",
    "def getMeXResults(X,top_results, filesContent, content):\n",
    "\tXResults = []\n",
    "\ti = 0\n",
    "\tcellsFileCombi = []\n",
    "\tfor score, idx in zip(top_results[0], top_results[1]):\n",
    "\t\tif float(\"{:.4f}\".format(score)) >= 0.3:\n",
    "\t\t\tfor filename, val in filesContent.items():\n",
    "\t\t\t\tif content[idx] in val:\n",
    "\t\t\t\t\tif (filename, content[idx]) not in cellsFileCombi:\n",
    "\t\t\t\t\t\tcellsFileCombi.append((filename, content[idx]))\n",
    "\t\t\t\t\t\tXResults.append((filename, content[idx], score))\n",
    "\t\t\t\t\t\ti += 1\n",
    "\t\t\t\t\t\tif i == X:\n",
    "\t\t\t\t\t\t\treturn XResults\n",
    "\treturn XResults\n",
    "\n",
    "def results(query, filesContent, content, embeddings):   \n",
    "\t\n",
    "\tsymmetric_embedder = SentenceTransformer('all-mpnet-base-v2')\n",
    "\tresults = {}\n",
    "\t\n",
    "\tquery_embedding = symmetric_embedder.encode(query, convert_to_tensor = True)\n",
    "\ttop_k = min(10, len(embeddings))\n",
    "\tcos_scores = util.cos_sim(query_embedding, embeddings)[0]\n",
    "\ttop_results = torch.topk(cos_scores, len(embeddings), sorted = True)\n",
    "\t\n",
    "\tresults = getMeXResults(top_k, top_results, filesContent, content)\n",
    "\treturn results\n",
    "\n",
    "def matching():\n",
    "\tfilesContent, content, embeddings = readFiles()\n",
    "\twhile True:\n",
    "\t\tquery = \"Rock Music\"\n",
    "\t\tresult = results(query, filesContent, content, embeddings)\n",
    "\t\tprint(\"============================\")\n",
    "\t\tprint(f\"your query is: {query}\")\n",
    "\t\t\n",
    "\t\ttable = [['Filename', 'Cell Value', 'Score']]\n",
    "\t\tfor i in result:\n",
    "\t\t\ttable.append([i[0], i[1], \"{:.4f}\".format(i[2])])\n",
    "\t\ttab = PrettyTable(table[0])\n",
    "\t\ttab.add_rows(table[1:])\n",
    "\t\tprint(tab)\n",
    "\t\t\n",
    "if __name__ == \"__main__\":\n",
    "\tmatching()\n"
   ]
  },
  {
   "cell_type": "markdown",
   "metadata": {},
   "source": [
    "# Embeddings generation"
   ]
  },
  {
   "cell_type": "code",
   "execution_count": 3,
   "metadata": {},
   "outputs": [],
   "source": [
    "import os\n",
    "import torch\n",
    "import numpy as np\n",
    "import pandas as pd\n",
    "from sentence_transformers import SentenceTransformer, util"
   ]
  },
  {
   "cell_type": "code",
   "execution_count": 4,
   "metadata": {},
   "outputs": [],
   "source": [
    "model = SentenceTransformer(\"all-mpnet-base-v2\")"
   ]
  },
  {
   "cell_type": "code",
   "execution_count": 5,
   "metadata": {},
   "outputs": [],
   "source": [
    "def create_embeddings(table_name, base_path):\n",
    "\n",
    "    if os.path.exists(base_path + table_name.replace('.csv', '.pt') ):\n",
    "        return 'Embeddings file already exist'\n",
    "\n",
    "    df = pd.read_csv(base_path + table_name)\n",
    "\n",
    "    col_names = df.columns.tolist()\n",
    "    df_columns = pd.DataFrame([col_names], columns=col_names)\n",
    "\n",
    "    df = pd.concat([df_columns,df], ignore_index=True)\n",
    "    df = df.map(lambda cell_value: str(cell_value))\n",
    "    cell_values_flat = df.values.flatten()\n",
    "\n",
    "    # Create embeddings for all cell values\n",
    "    embeddings_list_flat = model.encode(cell_values_flat)\n",
    "\n",
    "    # Save embeddings to pt file\n",
    "    torch.save(embeddings_list_flat, base_path + table_name.replace('.csv', '.pt') )\n",
    "\n",
    "    return 'Embeddings created successfully'"
   ]
  },
  {
   "cell_type": "code",
   "execution_count": 13,
   "metadata": {},
   "outputs": [
    {
     "data": {
      "text/plain": [
       "'Embeddings created successfully'"
      ]
     },
     "execution_count": 13,
     "metadata": {},
     "output_type": "execute_result"
    }
   ],
   "source": [
    "table_name = 'shopping_trends.csv'\n",
    "base_path = 'semantic_matching/data/'\n",
    "\n",
    "create_embeddings(table_name, base_path)"
   ]
  },
  {
   "cell_type": "code",
   "execution_count": 6,
   "metadata": {},
   "outputs": [],
   "source": [
    "def create_data(table_name):\n",
    "\n",
    "    print(f'Processing table: {table_name}')\n",
    "\n",
    "    # Read csv data\n",
    "    # base_path = 'semantic_matching/data/'\n",
    "    df = pd.read_csv(table_name)\n",
    "\n",
    "    # Add column names as first row\n",
    "    col_names = df.columns.tolist()\n",
    "    df_columns = pd.DataFrame([col_names], columns=col_names)\n",
    "    df = pd.concat([df_columns,df], ignore_index=True)\n",
    "    df = df.map(lambda cell_value: str(cell_value))\n",
    "    cell_values_flat = df.values.flatten()\n",
    "\n",
    "    # Create embeddings for all cell values\n",
    "    # embeddings_list_flat = model.encode(cell_values_flat)\n",
    "    embeddings_path = table_name.replace('.csv', '.pt')\n",
    "    assert os.path.exists(embeddings_path), \"Embeddings path doesn't exist\"\n",
    "    embeddings_list_flat = torch.load(embeddings_path)\n",
    "    \n",
    "    # cell_numbers_flat = list(range(len(cell_values_flat)))\n",
    "\n",
    "    col_names_flat = col_names * int((len(cell_values_flat)/len(col_names)))\n",
    "\n",
    "    # Final DataFrame\n",
    "    name_and_embs = pd.DataFrame(list(zip([table_name.split('/')[-1]]*len(embeddings_list_flat), cell_values_flat , col_names_flat, embeddings_list_flat)), columns=['TableName','CellValue','CellValue_Column','Embeddings'])\n",
    "\n",
    "    return name_and_embs\n"
   ]
  },
  {
   "cell_type": "code",
   "execution_count": 7,
   "metadata": {},
   "outputs": [],
   "source": [
    "def get_top_k(query, input_df, k):\n",
    "\n",
    "    query_emb = model.encode(query)\n",
    "    cos_sims = util.cos_sim(query_emb, input_df['Embeddings']).numpy()[0]\n",
    "    input_df['SimilaritiyScores'] = cos_sims\n",
    "    input_df =  input_df.drop_duplicates(subset='CellValue').reset_index(drop=True)\n",
    "    input_df =  input_df.sort_values('SimilaritiyScores', ascending=False)\n",
    "\n",
    "    return input_df.iloc[:k]"
   ]
  },
  {
   "cell_type": "code",
   "execution_count": 8,
   "metadata": {},
   "outputs": [],
   "source": [
    "def batch_semantic_matching(query, table_names, k):\n",
    "\n",
    "    total_results_df = pd.DataFrame([],columns=['TableName','CellValue','CellValue_Column','Embeddings'])\n",
    "\n",
    "    for table_name in table_names:\n",
    "\n",
    "        # Calculate cosine similarities \n",
    "        res_df = create_data(table_name)\n",
    "        total_results_df = pd.concat([total_results_df, res_df], ignore_index=True)\n",
    "\n",
    "    # Get top-k similar results\n",
    "    top_k_df = get_top_k(query, total_results_df, k).reset_index(drop=True)\n",
    "\n",
    "    return top_k_df\n"
   ]
  },
  {
   "cell_type": "code",
   "execution_count": 9,
   "metadata": {},
   "outputs": [
    {
     "data": {
      "text/plain": [
       "['semantic_matching/data/alt_jobs.csv',\n",
       " 'semantic_matching/data/shopping_trends.csv',\n",
       " 'semantic_matching/data/healthcare_dataset.csv',\n",
       " 'semantic_matching/data/jobs.csv',\n",
       " 'semantic_matching/data/music.csv']"
      ]
     },
     "execution_count": 9,
     "metadata": {},
     "output_type": "execute_result"
    }
   ],
   "source": [
    "# Get all csv files:\n",
    "base_path = 'semantic_matching/data/'\n",
    "csv_files = [base_path+file for file in os.listdir(base_path) if file.endswith('.csv')]\n",
    "csv_files"
   ]
  },
  {
   "cell_type": "code",
   "execution_count": 10,
   "metadata": {},
   "outputs": [
    {
     "data": {
      "text/plain": [
       "'alt_jobs.csv'"
      ]
     },
     "execution_count": 10,
     "metadata": {},
     "output_type": "execute_result"
    }
   ],
   "source": [
    "csv_files[0].split('/')[-1]"
   ]
  },
  {
   "cell_type": "code",
   "execution_count": 12,
   "metadata": {},
   "outputs": [
    {
     "name": "stdout",
     "output_type": "stream",
     "text": [
      "Processing table: semantic_matching/data/alt_jobs.csv\n"
     ]
    },
    {
     "ename": "AssertionError",
     "evalue": "Embeddings path doesn't exist",
     "output_type": "error",
     "traceback": [
      "\u001b[0;31m---------------------------------------------------------------------------\u001b[0m",
      "\u001b[0;31mAssertionError\u001b[0m                            Traceback (most recent call last)",
      "\u001b[1;32m/Users/enaso/Library/CloudStorage/OneDrive-UniversiteitUtrecht/_GitHub/mira_gui/api_testing.ipynb Cell 13\u001b[0m line \u001b[0;36m3\n\u001b[1;32m      <a href='vscode-notebook-cell:/Users/enaso/Library/CloudStorage/OneDrive-UniversiteitUtrecht/_GitHub/mira_gui/api_testing.ipynb#X15sZmlsZQ%3D%3D?line=0'>1</a>\u001b[0m table_names \u001b[39m=\u001b[39m [\u001b[39m'\u001b[39m\u001b[39mjobs.csv\u001b[39m\u001b[39m'\u001b[39m, \u001b[39m'\u001b[39m\u001b[39mshopping_trends.csv\u001b[39m\u001b[39m'\u001b[39m]\n\u001b[0;32m----> <a href='vscode-notebook-cell:/Users/enaso/Library/CloudStorage/OneDrive-UniversiteitUtrecht/_GitHub/mira_gui/api_testing.ipynb#X15sZmlsZQ%3D%3D?line=2'>3</a>\u001b[0m batch_semantic_matching(\u001b[39m'\u001b[39;49m\u001b[39mFashion Data Analyst\u001b[39;49m\u001b[39m'\u001b[39;49m, csv_files, \u001b[39m5\u001b[39;49m)\u001b[39m.\u001b[39mto_json()\n",
      "\u001b[1;32m/Users/enaso/Library/CloudStorage/OneDrive-UniversiteitUtrecht/_GitHub/mira_gui/api_testing.ipynb Cell 13\u001b[0m line \u001b[0;36m8\n\u001b[1;32m      <a href='vscode-notebook-cell:/Users/enaso/Library/CloudStorage/OneDrive-UniversiteitUtrecht/_GitHub/mira_gui/api_testing.ipynb#X15sZmlsZQ%3D%3D?line=2'>3</a>\u001b[0m total_results_df \u001b[39m=\u001b[39m pd\u001b[39m.\u001b[39mDataFrame([],columns\u001b[39m=\u001b[39m[\u001b[39m'\u001b[39m\u001b[39mTableName\u001b[39m\u001b[39m'\u001b[39m,\u001b[39m'\u001b[39m\u001b[39mCellValue\u001b[39m\u001b[39m'\u001b[39m,\u001b[39m'\u001b[39m\u001b[39mCellValue_Column\u001b[39m\u001b[39m'\u001b[39m,\u001b[39m'\u001b[39m\u001b[39mEmbeddings\u001b[39m\u001b[39m'\u001b[39m])\n\u001b[1;32m      <a href='vscode-notebook-cell:/Users/enaso/Library/CloudStorage/OneDrive-UniversiteitUtrecht/_GitHub/mira_gui/api_testing.ipynb#X15sZmlsZQ%3D%3D?line=4'>5</a>\u001b[0m \u001b[39mfor\u001b[39;00m table_name \u001b[39min\u001b[39;00m table_names:\n\u001b[1;32m      <a href='vscode-notebook-cell:/Users/enaso/Library/CloudStorage/OneDrive-UniversiteitUtrecht/_GitHub/mira_gui/api_testing.ipynb#X15sZmlsZQ%3D%3D?line=5'>6</a>\u001b[0m \n\u001b[1;32m      <a href='vscode-notebook-cell:/Users/enaso/Library/CloudStorage/OneDrive-UniversiteitUtrecht/_GitHub/mira_gui/api_testing.ipynb#X15sZmlsZQ%3D%3D?line=6'>7</a>\u001b[0m     \u001b[39m# Calculate cosine similarities \u001b[39;00m\n\u001b[0;32m----> <a href='vscode-notebook-cell:/Users/enaso/Library/CloudStorage/OneDrive-UniversiteitUtrecht/_GitHub/mira_gui/api_testing.ipynb#X15sZmlsZQ%3D%3D?line=7'>8</a>\u001b[0m     res_df \u001b[39m=\u001b[39m create_data(table_name)\n\u001b[1;32m      <a href='vscode-notebook-cell:/Users/enaso/Library/CloudStorage/OneDrive-UniversiteitUtrecht/_GitHub/mira_gui/api_testing.ipynb#X15sZmlsZQ%3D%3D?line=8'>9</a>\u001b[0m     total_results_df \u001b[39m=\u001b[39m pd\u001b[39m.\u001b[39mconcat([total_results_df, res_df], ignore_index\u001b[39m=\u001b[39m\u001b[39mTrue\u001b[39;00m)\n\u001b[1;32m     <a href='vscode-notebook-cell:/Users/enaso/Library/CloudStorage/OneDrive-UniversiteitUtrecht/_GitHub/mira_gui/api_testing.ipynb#X15sZmlsZQ%3D%3D?line=10'>11</a>\u001b[0m \u001b[39m# Get top-k similar results\u001b[39;00m\n",
      "\u001b[1;32m/Users/enaso/Library/CloudStorage/OneDrive-UniversiteitUtrecht/_GitHub/mira_gui/api_testing.ipynb Cell 13\u001b[0m line \u001b[0;36m1\n\u001b[1;32m     <a href='vscode-notebook-cell:/Users/enaso/Library/CloudStorage/OneDrive-UniversiteitUtrecht/_GitHub/mira_gui/api_testing.ipynb#X15sZmlsZQ%3D%3D?line=15'>16</a>\u001b[0m \u001b[39m# Create embeddings for all cell values\u001b[39;00m\n\u001b[1;32m     <a href='vscode-notebook-cell:/Users/enaso/Library/CloudStorage/OneDrive-UniversiteitUtrecht/_GitHub/mira_gui/api_testing.ipynb#X15sZmlsZQ%3D%3D?line=16'>17</a>\u001b[0m \u001b[39m# embeddings_list_flat = model.encode(cell_values_flat)\u001b[39;00m\n\u001b[1;32m     <a href='vscode-notebook-cell:/Users/enaso/Library/CloudStorage/OneDrive-UniversiteitUtrecht/_GitHub/mira_gui/api_testing.ipynb#X15sZmlsZQ%3D%3D?line=17'>18</a>\u001b[0m embeddings_path \u001b[39m=\u001b[39m table_name\u001b[39m.\u001b[39mreplace(\u001b[39m'\u001b[39m\u001b[39m.csv\u001b[39m\u001b[39m'\u001b[39m, \u001b[39m'\u001b[39m\u001b[39m.pt\u001b[39m\u001b[39m'\u001b[39m)\n\u001b[0;32m---> <a href='vscode-notebook-cell:/Users/enaso/Library/CloudStorage/OneDrive-UniversiteitUtrecht/_GitHub/mira_gui/api_testing.ipynb#X15sZmlsZQ%3D%3D?line=18'>19</a>\u001b[0m \u001b[39massert\u001b[39;00m os\u001b[39m.\u001b[39mpath\u001b[39m.\u001b[39mexists(embeddings_path), \u001b[39m\"\u001b[39m\u001b[39mEmbeddings path doesn\u001b[39m\u001b[39m'\u001b[39m\u001b[39mt exist\u001b[39m\u001b[39m\"\u001b[39m\n\u001b[1;32m     <a href='vscode-notebook-cell:/Users/enaso/Library/CloudStorage/OneDrive-UniversiteitUtrecht/_GitHub/mira_gui/api_testing.ipynb#X15sZmlsZQ%3D%3D?line=19'>20</a>\u001b[0m embeddings_list_flat \u001b[39m=\u001b[39m torch\u001b[39m.\u001b[39mload(embeddings_path)\n\u001b[1;32m     <a href='vscode-notebook-cell:/Users/enaso/Library/CloudStorage/OneDrive-UniversiteitUtrecht/_GitHub/mira_gui/api_testing.ipynb#X15sZmlsZQ%3D%3D?line=21'>22</a>\u001b[0m \u001b[39m# cell_numbers_flat = list(range(len(cell_values_flat)))\u001b[39;00m\n",
      "\u001b[0;31mAssertionError\u001b[0m: Embeddings path doesn't exist"
     ]
    }
   ],
   "source": [
    "table_names = ['jobs.csv', 'shopping_trends.csv']\n",
    "\n",
    "batch_semantic_matching('Fashion Data Analyst', csv_files, 5).to_json()"
   ]
  },
  {
   "cell_type": "markdown",
   "metadata": {},
   "source": [
    "# QDRANT"
   ]
  },
  {
   "cell_type": "code",
   "execution_count": 3,
   "metadata": {},
   "outputs": [
    {
     "name": "stderr",
     "output_type": "stream",
     "text": [
      "/Users/enaso/Library/CloudStorage/OneDrive-UniversiteitUtrecht/_GitHub/mira_gui/.venv/lib/python3.9/site-packages/tqdm/auto.py:21: TqdmWarning: IProgress not found. Please update jupyter and ipywidgets. See https://ipywidgets.readthedocs.io/en/stable/user_install.html\n",
      "  from .autonotebook import tqdm as notebook_tqdm\n"
     ]
    }
   ],
   "source": [
    "from qdrant_client import models\n",
    "from qdrant_client import QdrantClient\n",
    "from sentence_transformers import SentenceTransformer, util\n",
    "import numpy as np\n",
    "import pandas as pd\n",
    "import os\n",
    "import torch\n",
    "from config import *"
   ]
  },
  {
   "cell_type": "markdown",
   "metadata": {},
   "source": [
    "## Experiments"
   ]
  },
  {
   "cell_type": "code",
   "execution_count": 4,
   "metadata": {},
   "outputs": [],
   "source": [
    "# model = SentenceTransformer(\"all-mpnet-base-v2\")\n",
    "model = SentenceTransformer(SBERT_PATH)\n",
    "# model.save('sbertmodel')"
   ]
  },
  {
   "cell_type": "code",
   "execution_count": 5,
   "metadata": {},
   "outputs": [],
   "source": [
    "client = QdrantClient(host=\"localhost\", port=6333)"
   ]
  },
  {
   "cell_type": "code",
   "execution_count": 7,
   "metadata": {},
   "outputs": [],
   "source": [
    "table_name = '10-mai-2021.csv'"
   ]
  },
  {
   "cell_type": "code",
   "execution_count": 8,
   "metadata": {},
   "outputs": [
    {
     "name": "stdout",
     "output_type": "stream",
     "text": [
      "Counting occurencies of table: 10-mai-2021.csv\n"
     ]
    }
   ],
   "source": [
    "print(f\"Counting occurencies of table: {table_name}\")\n",
    "\n",
    "result = client.count(\n",
    "collection_name=COLLECTION_NAME,\n",
    "count_filter=models.Filter(\n",
    "    must=[\n",
    "            models.FieldCondition(key=\"TableName\", match=models.MatchValue(value=table_name)),\n",
    "    ]\n",
    "),\n",
    "exact=True,\n",
    ")"
   ]
  },
  {
   "cell_type": "code",
   "execution_count": 9,
   "metadata": {},
   "outputs": [
    {
     "name": "stdout",
     "output_type": "stream",
     "text": [
      "count=239\n"
     ]
    }
   ],
   "source": [
    "print(result)"
   ]
  },
  {
   "cell_type": "code",
   "execution_count": 10,
   "metadata": {},
   "outputs": [],
   "source": [
    "import os\n",
    "import time\n",
    "import json \n",
    "import shutil\n",
    "import logging\n",
    "\n",
    "import numpy as np\n",
    "import pandas as pd\n",
    "from pathlib import Path\n",
    "\n",
    "from fastapi.staticfiles import StaticFiles\n",
    "from fastapi.templating import Jinja2Templates\n",
    "from fastapi.responses import FileResponse, JSONResponse, RedirectResponse\n",
    "from fastapi import FastAPI, File, UploadFile, Response, HTTPException, Request\n",
    "\n",
    "import qdrant_client\n",
    "from qdrant_client import QdrantClient, models\n",
    "from qdrant_client.http.models import Distance, VectorParams\n",
    "\n",
    "from pydantic import BaseModel\n",
    "\n",
    "# from semantic_matching.code.config import *\n",
    "\n",
    "import sentence_transformers\n",
    "from sentence_transformers import SentenceTransformer, util\n",
    "from semantic_matching.code.semantic_matching_tables import *\n",
    "\n",
    "logging.basicConfig(level=logging.INFO)\n",
    "\n",
    "\n",
    "def efficient_search(query):\n",
    "    # Load table summaries JSON\n",
    "    table_summaries_path = 'semantic_matching/table_summaries.json'\n",
    "    with open(table_summaries_path, 'r') as f:\n",
    "        table_summaries = json.load(f)\n",
    "\n",
    "    # Perform clustering and search\n",
    "    top_k_results = 10\n",
    "    top_k_clusters = 20\n",
    "    clustering_index_path = 'semantic_matching/merged_data/clustering_index.joblib'\n",
    "    umap_trans_path = 'semantic_matching/merged_data/umap_trans.joblib'\n",
    "\n",
    "    umap_trans = joblib.load(umap_trans_path)\n",
    "    \n",
    "    df_efficient = cluster_search(\n",
    "        query, \n",
    "        top_k_results, \n",
    "        top_k_clusters, \n",
    "        clustering_index_path, \n",
    "        umap_trans, \n",
    "        client, \n",
    "        COLLECTION_NAME_CLUSTERED\n",
    "    )\n",
    "\n",
    "    # Merge results with table summaries\n",
    "    formatted_results = []\n",
    "    for _, row in df_efficient.iterrows():\n",
    "        table_name = row['TableName'].replace('.csv', '')\n",
    "        table_info = table_summaries[table_name]\n",
    "        \n",
    "        formatted_results.append({\n",
    "            \"TableName\": table_name,\n",
    "            \"Rows\": table_info['rows'],\n",
    "            \"Columns\": table_info['columns'],\n",
    "            \"Type\": table_info['dataset_type'],\n",
    "            \"CellValue\": row['CellValue'],\n",
    "            \"CellValue_Column\": row['CellValue_Column'],\n",
    "            \"SimilarityScores\": row['SimilaritiyScores']\n",
    "        })\n",
    "    return df_efficient"
   ]
  },
  {
   "cell_type": "code",
   "execution_count": 11,
   "metadata": {},
   "outputs": [
    {
     "name": "stderr",
     "output_type": "stream",
     "text": [
      "Batches: 100%|██████████| 1/1 [00:00<00:00,  1.08it/s]\n",
      "/Users/enaso/Library/CloudStorage/OneDrive-UniversiteitUtrecht/_GitHub/mira_gui/.venv/lib/python3.9/site-packages/sentence_transformers/util.py:39: UserWarning: Creating a tensor from a list of numpy.ndarrays is extremely slow. Please consider converting the list to a single numpy.ndarray with numpy.array() before converting to a tensor. (Triggered internally at /Users/runner/work/pytorch/pytorch/pytorch/torch/csrc/utils/tensor_new.cpp:264.)\n",
      "  b = torch.tensor(b)\n",
      "INFO:httpx:HTTP Request: POST http://localhost:6333/collections/miraculous_clustered/points/search \"HTTP/1.1 200 OK\"\n"
     ]
    },
    {
     "name": "stdout",
     "output_type": "stream",
     "text": [
      "EFFICIENT SEARCH\n",
      "   TableName            CellValue CellValue_Column  Cluster  SimilaritiyScores\n",
      "0  music.csv                 Rock            Genre      199           0.682206\n",
      "1  music.csv         Jimi Hendrix           Artist      236           0.474795\n",
      "2  music.csv     The Fame Monster            Album      236           0.472210\n",
      "3  music.csv                Queen           Artist      236           0.440522\n",
      "4  music.csv            Bob Dylan           Artist      236           0.432364\n",
      "5  music.csv  Queen & David Bowie           Artist      236           0.428086\n",
      "6  music.csv          Billie Jean            Title      236           0.422697\n",
      "7  music.csv               Artist           Artist      195           0.421042\n",
      "8  music.csv              Madonna           Artist      236           0.417045\n",
      "9  music.csv         Led Zeppelin           Artist      236           0.412368\n"
     ]
    }
   ],
   "source": [
    "df = efficient_search(\"Rock star\")\n",
    "print(df)"
   ]
  },
  {
   "cell_type": "code",
   "execution_count": 16,
   "metadata": {},
   "outputs": [
    {
     "name": "stderr",
     "output_type": "stream",
     "text": [
      "INFO:httpx:HTTP Request: PUT http://localhost:6333/collections/miraculous \"HTTP/1.1 200 OK\"\n"
     ]
    },
    {
     "data": {
      "text/plain": [
       "True"
      ]
     },
     "execution_count": 16,
     "metadata": {},
     "output_type": "execute_result"
    }
   ],
   "source": [
    "from qdrant_client.http.models import Distance, VectorParams\n",
    "\n",
    "client.create_collection(\n",
    "    collection_name=COLLECTION_NAME,\n",
    "    vectors_config=VectorParams(size=768, distance=Distance.COSINE),\n",
    ")"
   ]
  },
  {
   "cell_type": "code",
   "execution_count": 14,
   "metadata": {},
   "outputs": [
    {
     "name": "stdout",
     "output_type": "stream",
     "text": [
      "miraculous_clustered\n"
     ]
    }
   ],
   "source": [
    "print(COLLECTION_NAME_CLUSTERED)"
   ]
  },
  {
   "cell_type": "code",
   "execution_count": 15,
   "metadata": {},
   "outputs": [
    {
     "name": "stderr",
     "output_type": "stream",
     "text": [
      "INFO:httpx:HTTP Request: DELETE http://localhost:6333/collections/miraculous \"HTTP/1.1 200 OK\"\n"
     ]
    },
    {
     "data": {
      "text/plain": [
       "True"
      ]
     },
     "execution_count": 15,
     "metadata": {},
     "output_type": "execute_result"
    }
   ],
   "source": [
    "#client.delete_collection(\"miraculous\")"
   ]
  },
  {
   "cell_type": "code",
   "execution_count": 17,
   "metadata": {},
   "outputs": [],
   "source": [
    "table_name = 'semantic_matching/data/jobs.csv'\n",
    "df = pd.read_csv(table_name)"
   ]
  },
  {
   "cell_type": "code",
   "execution_count": null,
   "metadata": {},
   "outputs": [],
   "source": [
    "/Users/enaso/Library/CloudStorage/OneDrive-UniversiteitUtrecht/_GitHub/mira_gui/qdrant_storage"
   ]
  },
  {
   "cell_type": "code",
   "execution_count": 1,
   "metadata": {},
   "outputs": [
    {
     "ename": "NameError",
     "evalue": "name 'df' is not defined",
     "output_type": "error",
     "traceback": [
      "\u001b[0;31m---------------------------------------------------------------------------\u001b[0m",
      "\u001b[0;31mNameError\u001b[0m                                 Traceback (most recent call last)",
      "\u001b[1;32m/Users/enaso/Library/CloudStorage/OneDrive-UniversiteitUtrecht/_GitHub/mira_gui/api_testing.ipynb Cell 26\u001b[0m line \u001b[0;36m2\n\u001b[1;32m      <a href='vscode-notebook-cell:/Users/enaso/Library/CloudStorage/OneDrive-UniversiteitUtrecht/_GitHub/mira_gui/api_testing.ipynb#X34sZmlsZQ%3D%3D?line=0'>1</a>\u001b[0m \u001b[39m# Add column names as first row\u001b[39;00m\n\u001b[0;32m----> <a href='vscode-notebook-cell:/Users/enaso/Library/CloudStorage/OneDrive-UniversiteitUtrecht/_GitHub/mira_gui/api_testing.ipynb#X34sZmlsZQ%3D%3D?line=1'>2</a>\u001b[0m col_names \u001b[39m=\u001b[39m df\u001b[39m.\u001b[39mcolumns\u001b[39m.\u001b[39mtolist()\n\u001b[1;32m      <a href='vscode-notebook-cell:/Users/enaso/Library/CloudStorage/OneDrive-UniversiteitUtrecht/_GitHub/mira_gui/api_testing.ipynb#X34sZmlsZQ%3D%3D?line=2'>3</a>\u001b[0m df_columns \u001b[39m=\u001b[39m pd\u001b[39m.\u001b[39mDataFrame([col_names], columns\u001b[39m=\u001b[39mcol_names)\n\u001b[1;32m      <a href='vscode-notebook-cell:/Users/enaso/Library/CloudStorage/OneDrive-UniversiteitUtrecht/_GitHub/mira_gui/api_testing.ipynb#X34sZmlsZQ%3D%3D?line=3'>4</a>\u001b[0m df \u001b[39m=\u001b[39m pd\u001b[39m.\u001b[39mconcat([df_columns,df], ignore_index\u001b[39m=\u001b[39m\u001b[39mTrue\u001b[39;00m)\n",
      "\u001b[0;31mNameError\u001b[0m: name 'df' is not defined"
     ]
    }
   ],
   "source": [
    "# Add column names as first row\n",
    "col_names = df.columns.tolist()\n",
    "df_columns = pd.DataFrame([col_names], columns=col_names)\n",
    "df = pd.concat([df_columns,df], ignore_index=True)\n",
    "# df = df.map(lambda cell_value: str(cell_value))\n",
    "cell_values_flat = df.values.flatten()\n",
    "\n",
    "# Create embeddings for all cell values\n",
    "# embeddings_list_flat = model.encode(cell_values_flat)\n",
    "embeddings_path = '/semantic_matching/embeddings'\n",
    "print(embeddings_path)\n",
    "assert os.path.exists(embeddings_path), \"Embeddings path doesn't exist\"\n",
    "embeddings_list_flat = torch.load(embeddings_path)\n",
    "\n",
    "# cell_numbers_flat = list(range(len(cell_values_flat)))\n",
    "\n",
    "col_names_flat = col_names * int((len(cell_values_flat)/len(col_names)))\n",
    "\n",
    "# Final DataFrame\n",
    "name_and_embs = pd.DataFrame(list(zip([table_name.split('/')[-1]]*len(embeddings_list_flat), cell_values_flat , col_names_flat, embeddings_list_flat)), columns=['TableName','CellValue','CellValue_Column','Embeddings'])\n"
   ]
  },
  {
   "cell_type": "code",
   "execution_count": 23,
   "metadata": {},
   "outputs": [
    {
     "ename": "NameError",
     "evalue": "name 'name_and_embs' is not defined",
     "output_type": "error",
     "traceback": [
      "\u001b[0;31m---------------------------------------------------------------------------\u001b[0m",
      "\u001b[0;31mNameError\u001b[0m                                 Traceback (most recent call last)",
      "\u001b[1;32m/Users/enaso/Library/CloudStorage/OneDrive-UniversiteitUtrecht/_GitHub/mira_gui/api_testing.ipynb Cell 24\u001b[0m line \u001b[0;36m1\n\u001b[0;32m----> <a href='vscode-notebook-cell:/Users/enaso/Library/CloudStorage/OneDrive-UniversiteitUtrecht/_GitHub/mira_gui/api_testing.ipynb#X32sZmlsZQ%3D%3D?line=0'>1</a>\u001b[0m name_and_embs \u001b[39m=\u001b[39m  name_and_embs\u001b[39m.\u001b[39mdrop_duplicates(subset\u001b[39m=\u001b[39m\u001b[39m'\u001b[39m\u001b[39mCellValue\u001b[39m\u001b[39m'\u001b[39m)\u001b[39m.\u001b[39mreset_index(drop\u001b[39m=\u001b[39m\u001b[39mTrue\u001b[39;00m)\n",
      "\u001b[0;31mNameError\u001b[0m: name 'name_and_embs' is not defined"
     ]
    }
   ],
   "source": [
    "name_and_embs =  name_and_embs.drop_duplicates(subset='CellValue').reset_index(drop=True)"
   ]
  },
  {
   "cell_type": "code",
   "execution_count": 118,
   "metadata": {},
   "outputs": [
    {
     "data": {
      "text/html": [
       "<div>\n",
       "<style scoped>\n",
       "    .dataframe tbody tr th:only-of-type {\n",
       "        vertical-align: middle;\n",
       "    }\n",
       "\n",
       "    .dataframe tbody tr th {\n",
       "        vertical-align: top;\n",
       "    }\n",
       "\n",
       "    .dataframe thead th {\n",
       "        text-align: right;\n",
       "    }\n",
       "</style>\n",
       "<table border=\"1\" class=\"dataframe\">\n",
       "  <thead>\n",
       "    <tr style=\"text-align: right;\">\n",
       "      <th></th>\n",
       "      <th>TableName</th>\n",
       "      <th>CellValue</th>\n",
       "      <th>CellValue_Column</th>\n",
       "      <th>Embeddings</th>\n",
       "    </tr>\n",
       "  </thead>\n",
       "  <tbody>\n",
       "    <tr>\n",
       "      <th>0</th>\n",
       "      <td>music.csv</td>\n",
       "      <td>Title</td>\n",
       "      <td>Title</td>\n",
       "      <td>[0.0868767, 0.11400506, -0.0060333717, 0.05466...</td>\n",
       "    </tr>\n",
       "    <tr>\n",
       "      <th>1</th>\n",
       "      <td>music.csv</td>\n",
       "      <td>Artist</td>\n",
       "      <td>Artist</td>\n",
       "      <td>[0.020932574, 0.059109934, -0.012733743, 0.010...</td>\n",
       "    </tr>\n",
       "    <tr>\n",
       "      <th>2</th>\n",
       "      <td>music.csv</td>\n",
       "      <td>Album</td>\n",
       "      <td>Album</td>\n",
       "      <td>[0.021122865, 0.08372989, -0.008294431, -0.010...</td>\n",
       "    </tr>\n",
       "    <tr>\n",
       "      <th>3</th>\n",
       "      <td>music.csv</td>\n",
       "      <td>Year</td>\n",
       "      <td>Year</td>\n",
       "      <td>[0.002644233, 0.06685345, 0.015512964, -0.0041...</td>\n",
       "    </tr>\n",
       "    <tr>\n",
       "      <th>4</th>\n",
       "      <td>music.csv</td>\n",
       "      <td>Genre</td>\n",
       "      <td>Genre</td>\n",
       "      <td>[0.01897388, 0.04270177, 0.004695017, 0.009216...</td>\n",
       "    </tr>\n",
       "    <tr>\n",
       "      <th>5</th>\n",
       "      <td>music.csv</td>\n",
       "      <td>Bohemian Rhapsody</td>\n",
       "      <td>Title</td>\n",
       "      <td>[0.004845577, 0.043399297, -0.0050957813, -0.0...</td>\n",
       "    </tr>\n",
       "    <tr>\n",
       "      <th>6</th>\n",
       "      <td>music.csv</td>\n",
       "      <td>Queen</td>\n",
       "      <td>Artist</td>\n",
       "      <td>[0.0016129506, 0.007959083, -0.0048746886, -0....</td>\n",
       "    </tr>\n",
       "    <tr>\n",
       "      <th>7</th>\n",
       "      <td>music.csv</td>\n",
       "      <td>A Night at the Opera</td>\n",
       "      <td>Album</td>\n",
       "      <td>[0.0024867465, 0.052483708, -0.035862844, -0.0...</td>\n",
       "    </tr>\n",
       "    <tr>\n",
       "      <th>8</th>\n",
       "      <td>music.csv</td>\n",
       "      <td>1975</td>\n",
       "      <td>Year</td>\n",
       "      <td>[-0.01719815, 0.025505552, -0.0021372891, 0.02...</td>\n",
       "    </tr>\n",
       "    <tr>\n",
       "      <th>9</th>\n",
       "      <td>music.csv</td>\n",
       "      <td>Rock</td>\n",
       "      <td>Genre</td>\n",
       "      <td>[-0.027744388, 0.05039046, -0.008959857, 0.025...</td>\n",
       "    </tr>\n",
       "  </tbody>\n",
       "</table>\n",
       "</div>"
      ],
      "text/plain": [
       "   TableName             CellValue CellValue_Column  \\\n",
       "0  music.csv                 Title            Title   \n",
       "1  music.csv                Artist           Artist   \n",
       "2  music.csv                 Album            Album   \n",
       "3  music.csv                  Year             Year   \n",
       "4  music.csv                 Genre            Genre   \n",
       "5  music.csv     Bohemian Rhapsody            Title   \n",
       "6  music.csv                 Queen           Artist   \n",
       "7  music.csv  A Night at the Opera            Album   \n",
       "8  music.csv                  1975             Year   \n",
       "9  music.csv                  Rock            Genre   \n",
       "\n",
       "                                          Embeddings  \n",
       "0  [0.0868767, 0.11400506, -0.0060333717, 0.05466...  \n",
       "1  [0.020932574, 0.059109934, -0.012733743, 0.010...  \n",
       "2  [0.021122865, 0.08372989, -0.008294431, -0.010...  \n",
       "3  [0.002644233, 0.06685345, 0.015512964, -0.0041...  \n",
       "4  [0.01897388, 0.04270177, 0.004695017, 0.009216...  \n",
       "5  [0.004845577, 0.043399297, -0.0050957813, -0.0...  \n",
       "6  [0.0016129506, 0.007959083, -0.0048746886, -0....  \n",
       "7  [0.0024867465, 0.052483708, -0.035862844, -0.0...  \n",
       "8  [-0.01719815, 0.025505552, -0.0021372891, 0.02...  \n",
       "9  [-0.027744388, 0.05039046, -0.008959857, 0.025...  "
      ]
     },
     "execution_count": 118,
     "metadata": {},
     "output_type": "execute_result"
    }
   ],
   "source": [
    "name_and_embs.head(10)"
   ]
  },
  {
   "cell_type": "code",
   "execution_count": 119,
   "metadata": {},
   "outputs": [],
   "source": [
    "name_and_embs_dict = name_and_embs.to_dict('records')"
   ]
  },
  {
   "cell_type": "code",
   "execution_count": 138,
   "metadata": {},
   "outputs": [],
   "source": [
    "# payload = map(lambda row: row[1].to_dict(), name_and_embs[['TableName','CellValue','CellValue_Column']].iterrows())"
   ]
  },
  {
   "cell_type": "code",
   "execution_count": 139,
   "metadata": {},
   "outputs": [],
   "source": [
    "# client.upload_collection(\n",
    "#     collection_name=\"miraculous\",\n",
    "#     vectors=name_and_embs['Embeddings'].values,\n",
    "#     payload=payload,\n",
    "#     ids=None,  # Vector ids will be assigned automatically\n",
    "#     batch_size=256,  # How many vectors will be uploaded in a single request?\n",
    "# )"
   ]
  },
  {
   "cell_type": "code",
   "execution_count": 28,
   "metadata": {},
   "outputs": [],
   "source": [
    "import uuid"
   ]
  },
  {
   "cell_type": "code",
   "execution_count": 43,
   "metadata": {},
   "outputs": [
    {
     "ename": "NameError",
     "evalue": "name 'name_and_embs_dict' is not defined",
     "output_type": "error",
     "traceback": [
      "\u001b[0;31m---------------------------------------------------------------------------\u001b[0m",
      "\u001b[0;31mNameError\u001b[0m                                 Traceback (most recent call last)",
      "\u001b[1;32m/Users/enaso/Library/CloudStorage/OneDrive-UniversiteitUtrecht/_GitHub/mira_gui/api_testing.ipynb Cell 30\u001b[0m line \u001b[0;36m7\n\u001b[1;32m      <a href='vscode-notebook-cell:/Users/enaso/Library/CloudStorage/OneDrive-UniversiteitUtrecht/_GitHub/mira_gui/api_testing.ipynb#X41sZmlsZQ%3D%3D?line=0'>1</a>\u001b[0m client\u001b[39m.\u001b[39mupload_records(\n\u001b[1;32m      <a href='vscode-notebook-cell:/Users/enaso/Library/CloudStorage/OneDrive-UniversiteitUtrecht/_GitHub/mira_gui/api_testing.ipynb#X41sZmlsZQ%3D%3D?line=1'>2</a>\u001b[0m     collection_name\u001b[39m=\u001b[39mCOLLECTION_NAME,\n\u001b[1;32m      <a href='vscode-notebook-cell:/Users/enaso/Library/CloudStorage/OneDrive-UniversiteitUtrecht/_GitHub/mira_gui/api_testing.ipynb#X41sZmlsZQ%3D%3D?line=2'>3</a>\u001b[0m     records\u001b[39m=\u001b[39m[\n\u001b[1;32m      <a href='vscode-notebook-cell:/Users/enaso/Library/CloudStorage/OneDrive-UniversiteitUtrecht/_GitHub/mira_gui/api_testing.ipynb#X41sZmlsZQ%3D%3D?line=3'>4</a>\u001b[0m         models\u001b[39m.\u001b[39mRecord(\n\u001b[1;32m      <a href='vscode-notebook-cell:/Users/enaso/Library/CloudStorage/OneDrive-UniversiteitUtrecht/_GitHub/mira_gui/api_testing.ipynb#X41sZmlsZQ%3D%3D?line=4'>5</a>\u001b[0m             \u001b[39mid\u001b[39m\u001b[39m=\u001b[39m\u001b[39mstr\u001b[39m(uuid\u001b[39m.\u001b[39muuid4()), vector\u001b[39m=\u001b[39mdoc[\u001b[39m\"\u001b[39m\u001b[39mEmbeddings\u001b[39m\u001b[39m\"\u001b[39m]\u001b[39m.\u001b[39mtolist(), payload\u001b[39m=\u001b[39m{key: value \u001b[39mfor\u001b[39;00m key, value \u001b[39min\u001b[39;00m doc\u001b[39m.\u001b[39mitems() \u001b[39mif\u001b[39;00m key \u001b[39m!=\u001b[39m \u001b[39m'\u001b[39m\u001b[39mEmbeddings\u001b[39m\u001b[39m'\u001b[39m}\n\u001b[1;32m      <a href='vscode-notebook-cell:/Users/enaso/Library/CloudStorage/OneDrive-UniversiteitUtrecht/_GitHub/mira_gui/api_testing.ipynb#X41sZmlsZQ%3D%3D?line=5'>6</a>\u001b[0m         )\n\u001b[0;32m----> <a href='vscode-notebook-cell:/Users/enaso/Library/CloudStorage/OneDrive-UniversiteitUtrecht/_GitHub/mira_gui/api_testing.ipynb#X41sZmlsZQ%3D%3D?line=6'>7</a>\u001b[0m         \u001b[39mfor\u001b[39;00m idx, doc \u001b[39min\u001b[39;00m \u001b[39menumerate\u001b[39m(name_and_embs_dict)\n\u001b[1;32m      <a href='vscode-notebook-cell:/Users/enaso/Library/CloudStorage/OneDrive-UniversiteitUtrecht/_GitHub/mira_gui/api_testing.ipynb#X41sZmlsZQ%3D%3D?line=7'>8</a>\u001b[0m     ],\n\u001b[1;32m      <a href='vscode-notebook-cell:/Users/enaso/Library/CloudStorage/OneDrive-UniversiteitUtrecht/_GitHub/mira_gui/api_testing.ipynb#X41sZmlsZQ%3D%3D?line=8'>9</a>\u001b[0m )\n",
      "\u001b[0;31mNameError\u001b[0m: name 'name_and_embs_dict' is not defined"
     ]
    }
   ],
   "source": [
    "client.upload_records(\n",
    "    collection_name=COLLECTION_NAME,\n",
    "    records=[\n",
    "        models.Record(\n",
    "            id=str(uuid.uuid4()), vector=doc[\"Embeddings\"].tolist(), payload={key: value for key, value in doc.items() if key != 'Embeddings'}\n",
    "        )\n",
    "        for idx, doc in enumerate(name_and_embs_dict)\n",
    "    ],\n",
    ")"
   ]
  },
  {
   "cell_type": "code",
   "execution_count": 121,
   "metadata": {},
   "outputs": [
    {
     "name": "stdout",
     "output_type": "stream",
     "text": [
      "{'CellValue': 'Rock and Roll', 'CellValue_Column': 'Genre', 'TableName': 'music.csv'} score: 0.7538077\n",
      "{'CellValue': 'Rock', 'CellValue_Column': 'Genre', 'TableName': 'music.csv'} score: 0.7436799\n",
      "{'CellValue': 'Rock', 'CellValue_Column': 'Genre', 'TableName': 'music.csv'} score: 0.7436799\n"
     ]
    }
   ],
   "source": [
    "hits = client.search(\n",
    "    collection_name=COLLECTION_NAME,\n",
    "    query_vector=model.encode(\"rock music\").tolist(),\n",
    "    limit=3,\n",
    ")\n",
    "for hit in hits:\n",
    "    print(hit.payload, \"score:\", hit.score)"
   ]
  },
  {
   "cell_type": "code",
   "execution_count": 122,
   "metadata": {},
   "outputs": [],
   "source": [
    "table_name = 'semantic_matching/data/music.csv'\n",
    "df = pd.read_csv(table_name)"
   ]
  },
  {
   "cell_type": "code",
   "execution_count": 123,
   "metadata": {},
   "outputs": [
    {
     "name": "stdout",
     "output_type": "stream",
     "text": [
      "Port 8080 is not open. Qdrant may not be running.\n"
     ]
    }
   ],
   "source": [
    "import socket\n",
    "\n",
    "def is_port_open(host, port):\n",
    "    sock = socket.socket(socket.AF_INET, socket.SOCK_STREAM)\n",
    "    sock.settimeout(1)  # Adjust the timeout as needed\n",
    "    result = sock.connect_ex((host, port))\n",
    "    sock.close()\n",
    "    return result == 0\n",
    "\n",
    "# Example: Check if Qdrant is running on port 8080 locally\n",
    "host = \"localhost\"\n",
    "port = 8080\n",
    "\n",
    "if is_port_open(host, port):\n",
    "    print(f\"Port {port} is open. Qdrant is running.\")\n",
    "else:\n",
    "    print(f\"Port {port} is not open. Qdrant may not be running.\")"
   ]
  },
  {
   "cell_type": "code",
   "execution_count": 230,
   "metadata": {},
   "outputs": [],
   "source": [
    "# df.to_dict('records')"
   ]
  },
  {
   "cell_type": "code",
   "execution_count": 231,
   "metadata": {},
   "outputs": [],
   "source": [
    "from semantic_matching.code.semantic_matching_tables import add_to_collection, delete_collection, create_collection, count_table_occurencies"
   ]
  },
  {
   "cell_type": "code",
   "execution_count": 232,
   "metadata": {},
   "outputs": [],
   "source": [
    "client = QdrantClient(host=\"localhost\", port=6333)\n",
    "qdrant_is_running = True"
   ]
  },
  {
   "cell_type": "code",
   "execution_count": 237,
   "metadata": {},
   "outputs": [
    {
     "name": "stdout",
     "output_type": "stream",
     "text": [
      "Deleting collection: miraculous\n"
     ]
    }
   ],
   "source": [
    "delete_collection(client , 'miraculous')"
   ]
  },
  {
   "cell_type": "code",
   "execution_count": 238,
   "metadata": {},
   "outputs": [
    {
     "name": "stdout",
     "output_type": "stream",
     "text": [
      "Creating collection: miraculous\n"
     ]
    }
   ],
   "source": [
    "create_collection(client , 'miraculous')"
   ]
  },
  {
   "cell_type": "code",
   "execution_count": 131,
   "metadata": {},
   "outputs": [],
   "source": [
    "add_to_collection(UPLOAD_DIR+\"jobs.csv\", client, COLLECTION_NAME )"
   ]
  },
  {
   "cell_type": "code",
   "execution_count": 227,
   "metadata": {},
   "outputs": [],
   "source": [
    "client = QdrantClient(host=\"localhost\", port=6333)"
   ]
  },
  {
   "cell_type": "code",
   "execution_count": 24,
   "metadata": {},
   "outputs": [],
   "source": [
    "filename = \"jobs.csv\""
   ]
  },
  {
   "cell_type": "code",
   "execution_count": 25,
   "metadata": {},
   "outputs": [
    {
     "data": {
      "text/plain": [
       "152"
      ]
     },
     "execution_count": 25,
     "metadata": {},
     "output_type": "execute_result"
    }
   ],
   "source": [
    "result = client.count(\n",
    "    collection_name=COLLECTION_NAME,\n",
    "    count_filter=models.Filter(\n",
    "        must=[\n",
    "             models.FieldCondition(key=\"TableName\", match=models.MatchValue(value=filename)),\n",
    "        ]\n",
    "    ),\n",
    "    exact=True,\n",
    ")\n",
    "\n",
    "result.count"
   ]
  },
  {
   "cell_type": "code",
   "execution_count": 22,
   "metadata": {},
   "outputs": [
    {
     "data": {
      "text/plain": [
       "152"
      ]
     },
     "execution_count": 22,
     "metadata": {},
     "output_type": "execute_result"
    }
   ],
   "source": [
    "result.count"
   ]
  },
  {
   "cell_type": "code",
   "execution_count": 17,
   "metadata": {},
   "outputs": [
    {
     "data": {
      "text/plain": [
       "([Record(id='035cd210-e1a7-4006-a058-ed455dcf5f6f', payload={'CellValue': '25-01-22', 'CellValue_Column': 'Date Posted', 'TableName': 'jobs.csv'}, vector=None),\n",
       "  Record(id='036b76f4-abf7-44ec-a175-4e777fc07f11', payload={'CellValue': 'Quality Assurance Analyst', 'CellValue_Column': 'Job Name', 'TableName': 'jobs.csv'}, vector=None),\n",
       "  Record(id='071f9ead-1948-4b25-9c9b-336b0f890085', payload={'CellValue': '05-05-22', 'CellValue_Column': 'Date Posted', 'TableName': 'jobs.csv'}, vector=None),\n",
       "  Record(id='074b96cc-02b4-4517-83b0-957a91cf6a5a', payload={'CellValue': 115000, 'CellValue_Column': 'Salary', 'TableName': 'jobs.csv'}, vector=None),\n",
       "  Record(id='0979312a-5a89-4f55-860f-77dafb30d39c', payload={'CellValue': 'Customer Success Specialist', 'CellValue_Column': 'Job Name', 'TableName': 'jobs.csv'}, vector=None),\n",
       "  Record(id='0b69414a-91c9-4e0d-a1a9-96aa7e5b584c', payload={'CellValue': 95000, 'CellValue_Column': 'Salary', 'TableName': 'jobs.csv'}, vector=None),\n",
       "  Record(id='0fa22209-9946-4a9b-8fd2-f2d9ab21f854', payload={'CellValue': 'HR Specialist', 'CellValue_Column': 'Job Name', 'TableName': 'jobs.csv'}, vector=None),\n",
       "  Record(id='0ff8ec6e-3b9b-4551-a2a5-a94c2b23d6d0', payload={'CellValue': 'DevOps Engineer', 'CellValue_Column': 'Job Name', 'TableName': 'jobs.csv'}, vector=None),\n",
       "  Record(id='105c3163-4c0a-45ef-91e3-fca3a1c28c2a', payload={'CellValue': 'Salary', 'CellValue_Column': 'Salary', 'TableName': 'jobs.csv'}, vector=None),\n",
       "  Record(id='146c0f21-9419-40bc-969b-13ec4053ddd3', payload={'CellValue': 65000, 'CellValue_Column': 'Salary', 'TableName': 'jobs.csv'}, vector=None)],\n",
       " '1703dd56-9aff-4de6-99c9-e2b8d3c50713')"
      ]
     },
     "execution_count": 17,
     "metadata": {},
     "output_type": "execute_result"
    }
   ],
   "source": [
    "client.scroll(\n",
    "    collection_name=COLLECTION_NAME,\n",
    "    scroll_filter=models.Filter(\n",
    "        must=[\n",
    "            models.FieldCondition(key=\"TableName\", match=models.MatchValue(value=\"jobs.csv\")),\n",
    "        ]\n",
    "    ),\n",
    "    # limit=1,\n",
    "    with_payload=True,\n",
    "    # with_vectors=False,\n",
    ") "
   ]
  },
  {
   "cell_type": "markdown",
   "metadata": {},
   "source": [
    "# Efficient Search"
   ]
  },
  {
   "cell_type": "markdown",
   "metadata": {},
   "source": [
    "## Prepair Umap"
   ]
  },
  {
   "cell_type": "code",
   "execution_count": 18,
   "metadata": {},
   "outputs": [
    {
     "name": "stderr",
     "output_type": "stream",
     "text": [
      "huggingface/tokenizers: The current process just got forked, after parallelism has already been used. Disabling parallelism to avoid deadlocks...\n",
      "To disable this warning, you can either:\n",
      "\t- Avoid using `tokenizers` before the fork if possible\n",
      "\t- Explicitly set the environment variable TOKENIZERS_PARALLELISM=(true | false)\n",
      "huggingface/tokenizers: The current process just got forked, after parallelism has already been used. Disabling parallelism to avoid deadlocks...\n",
      "To disable this warning, you can either:\n",
      "\t- Avoid using `tokenizers` before the fork if possible\n",
      "\t- Explicitly set the environment variable TOKENIZERS_PARALLELISM=(true | false)\n",
      "huggingface/tokenizers: The current process just got forked, after parallelism has already been used. Disabling parallelism to avoid deadlocks...\n",
      "To disable this warning, you can either:\n",
      "\t- Avoid using `tokenizers` before the fork if possible\n",
      "\t- Explicitly set the environment variable TOKENIZERS_PARALLELISM=(true | false)\n",
      "huggingface/tokenizers: The current process just got forked, after parallelism has already been used. Disabling parallelism to avoid deadlocks...\n",
      "To disable this warning, you can either:\n",
      "\t- Avoid using `tokenizers` before the fork if possible\n",
      "\t- Explicitly set the environment variable TOKENIZERS_PARALLELISM=(true | false)\n",
      "huggingface/tokenizers: The current process just got forked, after parallelism has already been used. Disabling parallelism to avoid deadlocks...\n",
      "To disable this warning, you can either:\n",
      "\t- Avoid using `tokenizers` before the fork if possible\n",
      "\t- Explicitly set the environment variable TOKENIZERS_PARALLELISM=(true | false)\n",
      "/Users/enaso/Library/CloudStorage/OneDrive-UniversiteitUtrecht/_GitHub/mira_gui/.venv/lib/python3.9/site-packages/umap/plot.py:203: NumbaDeprecationWarning: \u001b[1mThe keyword argument 'nopython=False' was supplied. From Numba 0.59.0 the default is being changed to True and use of 'nopython=False' will raise a warning as the argument will have no effect. See https://numba.readthedocs.io/en/stable/reference/deprecation.html#deprecation-of-object-mode-fall-back-behaviour-when-using-jit for details.\u001b[0m\n",
      "  @numba.jit(nopython=False)\n"
     ]
    }
   ],
   "source": [
    "import os\n",
    "from os.path import isfile, join\n",
    "import torch\n",
    "import pandas as pd\n",
    "import numpy as np\n",
    "import time\n",
    "import matplotlib.pyplot as plt\n",
    "from tqdm import tqdm \n",
    "from sklearn.cluster import KMeans, DBSCAN\n",
    "from sklearn.metrics.pairwise import cosine_similarity\n",
    "from sklearn.decomposition import PCA\n",
    "import umap\n",
    "import hdbscan\n",
    "import sentence_transformers\n",
    "from sentence_transformers import SentenceTransformer, util\n",
    "import umap.plot\n",
    "from umap.umap_ import nearest_neighbors\n",
    "from qdrant_client import QdrantClient\n",
    "from qdrant_client.http import models\n",
    "from qdrant_client import QdrantClient, models\n",
    "from semantic_matching.code.semantic_matching_utils import *\n",
    "from semantic_matching.code.semantic_matching_tables import *"
   ]
  },
  {
   "cell_type": "code",
   "execution_count": 53,
   "metadata": {},
   "outputs": [],
   "source": [
    "def process_csv(csv_file, embeddings_path):\n",
    "    print(f'Processing table: {csv_file}')\n",
    "\n",
    "    # Read CSV data\n",
    "    df = pd.read_csv(csv_file)\n",
    "\n",
    "    # Load precomputed embeddings from file\n",
    "    embeddings_list = torch.load(embeddings_path)\n",
    "\n",
    "    # Add column names as the first row\n",
    "    col_names = df.columns.tolist()\n",
    "    df_columns = pd.DataFrame([col_names], columns=col_names)\n",
    "    df = pd.concat([df_columns, df], ignore_index=True)\n",
    "    df = df.map(lambda cell_value: str(cell_value))\n",
    "    cell_values_flat = df.values.flatten()\n",
    "\n",
    "    # Final DataFrame\n",
    "    name_and_embs = pd.DataFrame(\n",
    "        list(zip([csv_file.split('/')[-1]] * len(embeddings_list), cell_values_flat, col_names * len(embeddings_list), embeddings_list)),\n",
    "        columns=['TableName', 'CellValue', 'CellValue_Column', 'Embeddings'])\n",
    "\n",
    "    return name_and_embs"
   ]
  },
  {
   "cell_type": "code",
   "execution_count": 55,
   "metadata": {},
   "outputs": [],
   "source": [
    "def create_data_and_save_embeddings(csv_directory, embeddings_directory):\n",
    "    all_data_frames = []\n",
    "    # all_embeddings = []\n",
    "\n",
    "    # List all CSV files in the directory\n",
    "    csv_files = [f for f in os.listdir(csv_directory) if f.endswith('.csv')]\n",
    "\n",
    "    for csv_file in tqdm(csv_files, desc='Processing CSV files'):\n",
    "        csv_path = os.path.join(csv_directory, csv_file)\n",
    "        embeddings_path = os.path.join(embeddings_directory, f'{csv_file.split(\".\")[0]}.pt')\n",
    "\n",
    "        df = process_csv(csv_path, embeddings_path)\n",
    "        all_data_frames.append(df)\n",
    "        # all_embeddings.extend(embeddings)\n",
    "\n",
    "    # Concatenate data frames\n",
    "    merged_df = pd.concat(all_data_frames, ignore_index=True)\n",
    "\n",
    "    # Save the merged data frame to a CSV file (optional)\n",
    "    # merged_df.to_csv('merged_data.csv', index=False)\n",
    "    all_embeddings = merged_df['Embeddings']\n",
    "    # Save the embeddings array to a single file\n",
    "    torch.save(merged_df['Embeddings'].tolist(), embeddings_directory+'all_embeddings.pt')\n",
    "\n",
    "    return merged_df, all_embeddings"
   ]
  },
  {
   "cell_type": "code",
   "execution_count": 56,
   "metadata": {},
   "outputs": [
    {
     "name": "stderr",
     "output_type": "stream",
     "text": [
      "Processing CSV files:   0%|          | 0/28 [00:00<?, ?it/s]"
     ]
    },
    {
     "name": "stdout",
     "output_type": "stream",
     "text": [
      "Processing table: semantic_matching/data/GastronomicTourism.csv\n",
      "Processing table: semantic_matching/data/alt_jobs.csv\n",
      "Processing table: semantic_matching/data/international.csv\n",
      "Processing table: semantic_matching/data/shopping_trends.csv\n"
     ]
    },
    {
     "name": "stderr",
     "output_type": "stream",
     "text": [
      "Processing CSV files:  14%|█▍        | 4/28 [00:00<00:02, 10.35it/s]"
     ]
    },
    {
     "name": "stdout",
     "output_type": "stream",
     "text": [
      "Processing table: semantic_matching/data/healthcare_dataset.csv\n"
     ]
    },
    {
     "name": "stderr",
     "output_type": "stream",
     "text": [
      "Processing CSV files:  21%|██▏       | 6/28 [00:00<00:02,  8.36it/s]"
     ]
    },
    {
     "name": "stdout",
     "output_type": "stream",
     "text": [
      "Processing table: semantic_matching/data/national_percapita.csv\n",
      "Processing table: semantic_matching/data/TourismChallenges.csv\n",
      "Processing table: semantic_matching/data/TraditionalFestivals.csv\n",
      "Processing table: semantic_matching/data/10-mai-2021.csv\n"
     ]
    },
    {
     "name": "stderr",
     "output_type": "stream",
     "text": [
      "Processing CSV files:  54%|█████▎    | 15/28 [00:01<00:00, 17.38it/s]"
     ]
    },
    {
     "name": "stdout",
     "output_type": "stream",
     "text": [
      "Processing table: semantic_matching/data/EnvironmentalEducationPrograms.csv\n",
      "Processing table: semantic_matching/data/jobs.csv\n",
      "Processing table: semantic_matching/data/ClimateActionPolicies.csv\n",
      "Processing table: semantic_matching/data/InternationalClimateAgreements.csv\n",
      "Processing table: semantic_matching/data/WorldMusicTraditions.csv\n",
      "Processing table: semantic_matching/data/IndigenousTraditions.csv\n",
      "Processing table: semantic_matching/data/music.csv\n",
      "Processing table: semantic_matching/data/GreenTechnologyInnovations.csv\n",
      "Processing table: semantic_matching/data/SustainableTourismPractices.csv\n",
      "Processing table: semantic_matching/data/WorldHeritageSites.csv\n",
      "Processing table: semantic_matching/data/GlobalFilmandMediaInfluence.csv\n",
      "Processing table: semantic_matching/data/LocalHandicraftIndustries.csv\n",
      "Processing table: semantic_matching/data/RenewableEnergyPolicies.csv\n",
      "Processing table: semantic_matching/data/RenewableEnergyProjects.csv\n",
      "Processing table: semantic_matching/data/InternationalEnvironmentalConferences.csv\n"
     ]
    },
    {
     "name": "stderr",
     "output_type": "stream",
     "text": [
      "Processing CSV files: 100%|██████████| 28/28 [00:01<00:00, 22.12it/s]\n"
     ]
    },
    {
     "name": "stdout",
     "output_type": "stream",
     "text": [
      "Processing table: semantic_matching/data/UrbanSustainabilityProjects.csv\n",
      "Processing table: semantic_matching/data/CulturalPreservationEfforts.csv\n",
      "Processing table: semantic_matching/data/WildlifeProtectionPrograms.csv\n",
      "Processing table: semantic_matching/data/ConservationInitiatives.csv\n"
     ]
    }
   ],
   "source": [
    "# Create data and save embeddings\n",
    "merged_df, all_embeddings = create_data_and_save_embeddings(BASE_DIR+DATA_DIR, BASE_DIR+EMBEDDINGS_DIR)"
   ]
  },
  {
   "cell_type": "code",
   "execution_count": 57,
   "metadata": {},
   "outputs": [],
   "source": [
    "all_embeddings_array = np.vstack(all_embeddings)"
   ]
  },
  {
   "cell_type": "code",
   "execution_count": 58,
   "metadata": {},
   "outputs": [
    {
     "name": "stdout",
     "output_type": "stream",
     "text": [
      "Computing k-NNs process finished. Runtime: 1.51s\n"
     ]
    }
   ],
   "source": [
    "knns_jobs = precompute_umap_knn(all_embeddings_array, 20, \"euclidean\", False, filename=BASE_DIR+JOBLIBS_DIR+\"/allfiles_umap.joblib\")"
   ]
  },
  {
   "cell_type": "code",
   "execution_count": 59,
   "metadata": {},
   "outputs": [
    {
     "name": "stdout",
     "output_type": "stream",
     "text": [
      "UMAP finished. Runtime: 28.14s\n"
     ]
    }
   ],
   "source": [
    "umap_embeddings, umap_trans, _ = generate_umap_embeddings(20, 2, all_embeddings_array, pre_computed_knn=knns_jobs, n_jobs = -1)"
   ]
  },
  {
   "cell_type": "code",
   "execution_count": 60,
   "metadata": {},
   "outputs": [
    {
     "name": "stderr",
     "output_type": "stream",
     "text": [
      "/Users/enaso/Library/CloudStorage/OneDrive-UniversiteitUtrecht/_GitHub/mira_gui/.venv/lib/python3.9/site-packages/scipy/sparse/_index.py:143: SparseEfficiencyWarning: Changing the sparsity structure of a csr_matrix is expensive. lil_matrix is more efficient.\n",
      "  self._set_arrayXarray(i, j, x)\n"
     ]
    },
    {
     "data": {
      "text/plain": [
       "['umap_embeddings.joblib']"
      ]
     },
     "execution_count": 60,
     "metadata": {},
     "output_type": "execute_result"
    }
   ],
   "source": [
    "joblib.dump(umap_trans, \"umap_transformer.joblib\")\n",
    "joblib.dump(umap_embeddings, \"umap_embeddings.joblib\")"
   ]
  },
  {
   "cell_type": "code",
   "execution_count": 61,
   "metadata": {},
   "outputs": [
    {
     "name": "stderr",
     "output_type": "stream",
     "text": [
      "/Users/enaso/Library/CloudStorage/OneDrive-UniversiteitUtrecht/_GitHub/mira_gui/.venv/lib/python3.9/site-packages/umap/plot.py:449: UserWarning: *c* argument looks like a single numeric RGB or RGBA sequence, which should be avoided as value-mapping will have precedence in case its length matches with *x* & *y*.  Please use the *color* keyword-argument or provide a 2D array with a single row if you intend to specify the same RGB or RGBA value for all points.\n",
      "  ax.scatter(points[:, 0], points[:, 1], s=point_size, c=color)\n"
     ]
    },
    {
     "data": {
      "text/plain": [
       "<Axes: >"
      ]
     },
     "execution_count": 61,
     "metadata": {},
     "output_type": "execute_result"
    },
    {
     "data": {
      "image/png": "[encoded data removed]",
      "text/plain": [
       "<Figure size 800x800 with 1 Axes>"
      ]
     },
     "metadata": {},
     "output_type": "display_data"
    }
   ],
   "source": [
    "umap.plot.points(umap_trans)"
   ]
  },
  {
   "cell_type": "markdown",
   "metadata": {},
   "source": [
    "## HDBSCAN"
   ]
  },
  {
   "cell_type": "code",
   "execution_count": 62,
   "metadata": {},
   "outputs": [
    {
     "name": "stderr",
     "output_type": "stream",
     "text": [
      "huggingface/tokenizers: The current process just got forked, after parallelism has already been used. Disabling parallelism to avoid deadlocks...\n",
      "To disable this warning, you can either:\n",
      "\t- Avoid using `tokenizers` before the fork if possible\n",
      "\t- Explicitly set the environment variable TOKENIZERS_PARALLELISM=(true | false)\n",
      "huggingface/tokenizers: The current process just got forked, after parallelism has already been used. Disabling parallelism to avoid deadlocks...\n",
      "To disable this warning, you can either:\n",
      "\t- Avoid using `tokenizers` before the fork if possible\n",
      "\t- Explicitly set the environment variable TOKENIZERS_PARALLELISM=(true | false)\n",
      "huggingface/tokenizers: The current process just got forked, after parallelism has already been used. Disabling parallelism to avoid deadlocks...\n",
      "To disable this warning, you can either:\n",
      "\t- Avoid using `tokenizers` before the fork if possible\n",
      "\t- Explicitly set the environment variable TOKENIZERS_PARALLELISM=(true | false)\n",
      "huggingface/tokenizers: The current process just got forked, after parallelism has already been used. Disabling parallelism to avoid deadlocks...\n",
      "To disable this warning, you can either:\n",
      "\t- Avoid using `tokenizers` before the fork if possible\n",
      "\t- Explicitly set the environment variable TOKENIZERS_PARALLELISM=(true | false)\n"
     ]
    },
    {
     "name": "stdout",
     "output_type": "stream",
     "text": [
      "HDBSCAN finished. Runtime: 3.58s\n"
     ]
    }
   ],
   "source": [
    "# Run the HDBSCAN function \n",
    "cluster_labels, clustering_index, cluster_medoids, runtime = hdbscan_clustering(umap_embeddings, 5)"
   ]
  },
  {
   "cell_type": "code",
   "execution_count": 63,
   "metadata": {},
   "outputs": [],
   "source": [
    "clustering_index.to_csv(BASE_DIR+'/merged_data/'+'clustering_index.csv', index=False)"
   ]
  },
  {
   "cell_type": "code",
   "execution_count": 64,
   "metadata": {},
   "outputs": [],
   "source": [
    "merged_df['Cluster'] = cluster_labels\n",
    "merged_df.drop('Embeddings', axis=1, inplace=True)\n",
    "merged_df.to_csv(BASE_DIR+'/merged_data/datamerged_df_clustered.csv', index=False)"
   ]
  },
  {
   "cell_type": "code",
   "execution_count": 65,
   "metadata": {},
   "outputs": [],
   "source": [
    "client = QdrantClient(host=\"localhost\", port=6333)"
   ]
  },
  {
   "cell_type": "code",
   "execution_count": 49,
   "metadata": {},
   "outputs": [
    {
     "name": "stdout",
     "output_type": "stream",
     "text": [
      "Deleting collection: miraculous_clustered\n"
     ]
    },
    {
     "name": "stderr",
     "output_type": "stream",
     "text": [
      "INFO:httpx:HTTP Request: DELETE http://localhost:6333/collections/miraculous_clustered \"HTTP/1.1 200 OK\"\n"
     ]
    }
   ],
   "source": [
    "#delete_collection(client , COLLECTION_NAME_CLUSTERED)"
   ]
  },
  {
   "cell_type": "code",
   "execution_count": 50,
   "metadata": {},
   "outputs": [
    {
     "name": "stdout",
     "output_type": "stream",
     "text": [
      "Creating collection: miraculous_clustered\n"
     ]
    },
    {
     "name": "stderr",
     "output_type": "stream",
     "text": [
      "INFO:httpx:HTTP Request: PUT http://localhost:6333/collections/miraculous_clustered \"HTTP/1.1 200 OK\"\n"
     ]
    }
   ],
   "source": [
    "create_collection(client , COLLECTION_NAME_CLUSTERED)"
   ]
  },
  {
   "cell_type": "code",
   "execution_count": 40,
   "metadata": {},
   "outputs": [],
   "source": [
    "#merged_df.drop('Embeddings', axis=1, inplace=True)"
   ]
  },
  {
   "cell_type": "code",
   "execution_count": 110,
   "metadata": {},
   "outputs": [],
   "source": [
    "# merged_df  = pd.read_csv(BASE_DIR+'/merged_data/datamerged_df_clustered.csv')"
   ]
  },
  {
   "cell_type": "code",
   "execution_count": 66,
   "metadata": {},
   "outputs": [],
   "source": [
    "merged_df.to_csv(BASE_DIR+'/merged_data/datamerged_df_clustered.csv', index=False)"
   ]
  },
  {
   "cell_type": "code",
   "execution_count": null,
   "metadata": {},
   "outputs": [],
   "source": [
    "# add_to_collection_clustered(BASE_DIR+'/merged_data/datamerged_df_clustered.csv', client, BASE_DIR+EMBEDDINGS_DIR+'all_embeddings.pt', COLLECTION_NAME_CLUSTERED)"
   ]
  },
  {
   "cell_type": "code",
   "execution_count": 67,
   "metadata": {},
   "outputs": [],
   "source": [
    "table_name = BASE_DIR+'/merged_data/datamerged_df_clustered.csv'\n",
    "embeddings_path = BASE_DIR+EMBEDDINGS_DIR+'all_embeddings.pt'"
   ]
  },
  {
   "cell_type": "code",
   "execution_count": 68,
   "metadata": {},
   "outputs": [
    {
     "name": "stderr",
     "output_type": "stream",
     "text": [
      "INFO:httpx:HTTP Request: PUT http://localhost:6333/collections/miraculous_clustered/points?wait=false \"HTTP/1.1 200 OK\"\n",
      "INFO:httpx:HTTP Request: PUT http://localhost:6333/collections/miraculous_clustered/points?wait=false \"HTTP/1.1 200 OK\"\n",
      "INFO:httpx:HTTP Request: PUT http://localhost:6333/collections/miraculous_clustered/points?wait=false \"HTTP/1.1 200 OK\"\n",
      "INFO:httpx:HTTP Request: PUT http://localhost:6333/collections/miraculous_clustered/points?wait=false \"HTTP/1.1 200 OK\"\n",
      "INFO:httpx:HTTP Request: PUT http://localhost:6333/collections/miraculous_clustered/points?wait=false \"HTTP/1.1 200 OK\"\n",
      "INFO:httpx:HTTP Request: PUT http://localhost:6333/collections/miraculous_clustered/points?wait=false \"HTTP/1.1 200 OK\"\n",
      "INFO:httpx:HTTP Request: PUT http://localhost:6333/collections/miraculous_clustered/points?wait=false \"HTTP/1.1 200 OK\"\n",
      "INFO:httpx:HTTP Request: PUT http://localhost:6333/collections/miraculous_clustered/points?wait=false \"HTTP/1.1 200 OK\"\n",
      "INFO:httpx:HTTP Request: PUT http://localhost:6333/collections/miraculous_clustered/points?wait=false \"HTTP/1.1 200 OK\"\n",
      "INFO:httpx:HTTP Request: PUT http://localhost:6333/collections/miraculous_clustered/points?wait=false \"HTTP/1.1 200 OK\"\n",
      "INFO:httpx:HTTP Request: PUT http://localhost:6333/collections/miraculous_clustered/points?wait=false \"HTTP/1.1 200 OK\"\n",
      "INFO:httpx:HTTP Request: PUT http://localhost:6333/collections/miraculous_clustered/points?wait=false \"HTTP/1.1 200 OK\"\n",
      "INFO:httpx:HTTP Request: PUT http://localhost:6333/collections/miraculous_clustered/points?wait=false \"HTTP/1.1 200 OK\"\n",
      "INFO:httpx:HTTP Request: PUT http://localhost:6333/collections/miraculous_clustered/points?wait=false \"HTTP/1.1 200 OK\"\n",
      "INFO:httpx:HTTP Request: PUT http://localhost:6333/collections/miraculous_clustered/points?wait=false \"HTTP/1.1 200 OK\"\n",
      "INFO:httpx:HTTP Request: PUT http://localhost:6333/collections/miraculous_clustered/points?wait=false \"HTTP/1.1 200 OK\"\n",
      "INFO:httpx:HTTP Request: PUT http://localhost:6333/collections/miraculous_clustered/points?wait=false \"HTTP/1.1 200 OK\"\n",
      "INFO:httpx:HTTP Request: PUT http://localhost:6333/collections/miraculous_clustered/points?wait=false \"HTTP/1.1 200 OK\"\n",
      "INFO:httpx:HTTP Request: PUT http://localhost:6333/collections/miraculous_clustered/points?wait=false \"HTTP/1.1 200 OK\"\n",
      "INFO:httpx:HTTP Request: PUT http://localhost:6333/collections/miraculous_clustered/points?wait=false \"HTTP/1.1 200 OK\"\n",
      "INFO:httpx:HTTP Request: PUT http://localhost:6333/collections/miraculous_clustered/points?wait=false \"HTTP/1.1 200 OK\"\n",
      "INFO:httpx:HTTP Request: PUT http://localhost:6333/collections/miraculous_clustered/points?wait=false \"HTTP/1.1 200 OK\"\n",
      "INFO:httpx:HTTP Request: PUT http://localhost:6333/collections/miraculous_clustered/points?wait=false \"HTTP/1.1 200 OK\"\n",
      "INFO:httpx:HTTP Request: PUT http://localhost:6333/collections/miraculous_clustered/points?wait=false \"HTTP/1.1 200 OK\"\n",
      "INFO:httpx:HTTP Request: PUT http://localhost:6333/collections/miraculous_clustered/points?wait=false \"HTTP/1.1 200 OK\"\n",
      "INFO:httpx:HTTP Request: PUT http://localhost:6333/collections/miraculous_clustered/points?wait=false \"HTTP/1.1 200 OK\"\n",
      "INFO:httpx:HTTP Request: PUT http://localhost:6333/collections/miraculous_clustered/points?wait=false \"HTTP/1.1 200 OK\"\n",
      "INFO:httpx:HTTP Request: PUT http://localhost:6333/collections/miraculous_clustered/points?wait=false \"HTTP/1.1 200 OK\"\n",
      "INFO:httpx:HTTP Request: PUT http://localhost:6333/collections/miraculous_clustered/points?wait=false \"HTTP/1.1 200 OK\"\n",
      "INFO:httpx:HTTP Request: PUT http://localhost:6333/collections/miraculous_clustered/points?wait=false \"HTTP/1.1 200 OK\"\n",
      "INFO:httpx:HTTP Request: PUT http://localhost:6333/collections/miraculous_clustered/points?wait=false \"HTTP/1.1 200 OK\"\n",
      "INFO:httpx:HTTP Request: PUT http://localhost:6333/collections/miraculous_clustered/points?wait=false \"HTTP/1.1 200 OK\"\n",
      "INFO:httpx:HTTP Request: PUT http://localhost:6333/collections/miraculous_clustered/points?wait=false \"HTTP/1.1 200 OK\"\n",
      "INFO:httpx:HTTP Request: PUT http://localhost:6333/collections/miraculous_clustered/points?wait=false \"HTTP/1.1 200 OK\"\n",
      "INFO:httpx:HTTP Request: PUT http://localhost:6333/collections/miraculous_clustered/points?wait=false \"HTTP/1.1 200 OK\"\n",
      "INFO:httpx:HTTP Request: PUT http://localhost:6333/collections/miraculous_clustered/points?wait=false \"HTTP/1.1 200 OK\"\n",
      "INFO:httpx:HTTP Request: PUT http://localhost:6333/collections/miraculous_clustered/points?wait=false \"HTTP/1.1 200 OK\"\n",
      "INFO:httpx:HTTP Request: PUT http://localhost:6333/collections/miraculous_clustered/points?wait=false \"HTTP/1.1 200 OK\"\n",
      "INFO:httpx:HTTP Request: PUT http://localhost:6333/collections/miraculous_clustered/points?wait=false \"HTTP/1.1 200 OK\"\n",
      "INFO:httpx:HTTP Request: PUT http://localhost:6333/collections/miraculous_clustered/points?wait=false \"HTTP/1.1 200 OK\"\n",
      "INFO:httpx:HTTP Request: PUT http://localhost:6333/collections/miraculous_clustered/points?wait=false \"HTTP/1.1 200 OK\"\n",
      "INFO:httpx:HTTP Request: PUT http://localhost:6333/collections/miraculous_clustered/points?wait=false \"HTTP/1.1 200 OK\"\n",
      "INFO:httpx:HTTP Request: PUT http://localhost:6333/collections/miraculous_clustered/points?wait=false \"HTTP/1.1 200 OK\"\n",
      "INFO:httpx:HTTP Request: PUT http://localhost:6333/collections/miraculous_clustered/points?wait=false \"HTTP/1.1 200 OK\"\n",
      "INFO:httpx:HTTP Request: PUT http://localhost:6333/collections/miraculous_clustered/points?wait=false \"HTTP/1.1 200 OK\"\n",
      "INFO:httpx:HTTP Request: PUT http://localhost:6333/collections/miraculous_clustered/points?wait=false \"HTTP/1.1 200 OK\"\n",
      "INFO:httpx:HTTP Request: PUT http://localhost:6333/collections/miraculous_clustered/points?wait=false \"HTTP/1.1 200 OK\"\n",
      "INFO:httpx:HTTP Request: PUT http://localhost:6333/collections/miraculous_clustered/points?wait=false \"HTTP/1.1 200 OK\"\n",
      "INFO:httpx:HTTP Request: PUT http://localhost:6333/collections/miraculous_clustered/points?wait=false \"HTTP/1.1 200 OK\"\n",
      "INFO:httpx:HTTP Request: PUT http://localhost:6333/collections/miraculous_clustered/points?wait=false \"HTTP/1.1 200 OK\"\n",
      "INFO:httpx:HTTP Request: PUT http://localhost:6333/collections/miraculous_clustered/points?wait=false \"HTTP/1.1 200 OK\"\n",
      "INFO:httpx:HTTP Request: PUT http://localhost:6333/collections/miraculous_clustered/points?wait=false \"HTTP/1.1 200 OK\"\n",
      "INFO:httpx:HTTP Request: PUT http://localhost:6333/collections/miraculous_clustered/points?wait=false \"HTTP/1.1 200 OK\"\n",
      "INFO:httpx:HTTP Request: PUT http://localhost:6333/collections/miraculous_clustered/points?wait=false \"HTTP/1.1 200 OK\"\n",
      "INFO:httpx:HTTP Request: PUT http://localhost:6333/collections/miraculous_clustered/points?wait=false \"HTTP/1.1 200 OK\"\n",
      "INFO:httpx:HTTP Request: PUT http://localhost:6333/collections/miraculous_clustered/points?wait=false \"HTTP/1.1 200 OK\"\n",
      "INFO:httpx:HTTP Request: PUT http://localhost:6333/collections/miraculous_clustered/points?wait=false \"HTTP/1.1 200 OK\"\n",
      "INFO:httpx:HTTP Request: PUT http://localhost:6333/collections/miraculous_clustered/points?wait=false \"HTTP/1.1 200 OK\"\n",
      "INFO:httpx:HTTP Request: PUT http://localhost:6333/collections/miraculous_clustered/points?wait=false \"HTTP/1.1 200 OK\"\n",
      "INFO:httpx:HTTP Request: PUT http://localhost:6333/collections/miraculous_clustered/points?wait=false \"HTTP/1.1 200 OK\"\n",
      "INFO:httpx:HTTP Request: PUT http://localhost:6333/collections/miraculous_clustered/points?wait=false \"HTTP/1.1 200 OK\"\n",
      "INFO:httpx:HTTP Request: PUT http://localhost:6333/collections/miraculous_clustered/points?wait=false \"HTTP/1.1 200 OK\"\n",
      "INFO:httpx:HTTP Request: PUT http://localhost:6333/collections/miraculous_clustered/points?wait=false \"HTTP/1.1 200 OK\"\n",
      "INFO:httpx:HTTP Request: PUT http://localhost:6333/collections/miraculous_clustered/points?wait=false \"HTTP/1.1 200 OK\"\n",
      "INFO:httpx:HTTP Request: PUT http://localhost:6333/collections/miraculous_clustered/points?wait=false \"HTTP/1.1 200 OK\"\n",
      "INFO:httpx:HTTP Request: PUT http://localhost:6333/collections/miraculous_clustered/points?wait=false \"HTTP/1.1 200 OK\"\n",
      "INFO:httpx:HTTP Request: PUT http://localhost:6333/collections/miraculous_clustered/points?wait=false \"HTTP/1.1 200 OK\"\n",
      "INFO:httpx:HTTP Request: PUT http://localhost:6333/collections/miraculous_clustered/points?wait=false \"HTTP/1.1 200 OK\"\n",
      "INFO:httpx:HTTP Request: PUT http://localhost:6333/collections/miraculous_clustered/points?wait=false \"HTTP/1.1 200 OK\"\n",
      "INFO:httpx:HTTP Request: PUT http://localhost:6333/collections/miraculous_clustered/points?wait=false \"HTTP/1.1 200 OK\"\n",
      "INFO:httpx:HTTP Request: PUT http://localhost:6333/collections/miraculous_clustered/points?wait=false \"HTTP/1.1 200 OK\"\n",
      "INFO:httpx:HTTP Request: PUT http://localhost:6333/collections/miraculous_clustered/points?wait=false \"HTTP/1.1 200 OK\"\n",
      "INFO:httpx:HTTP Request: PUT http://localhost:6333/collections/miraculous_clustered/points?wait=false \"HTTP/1.1 200 OK\"\n",
      "INFO:httpx:HTTP Request: PUT http://localhost:6333/collections/miraculous_clustered/points?wait=false \"HTTP/1.1 200 OK\"\n",
      "INFO:httpx:HTTP Request: PUT http://localhost:6333/collections/miraculous_clustered/points?wait=false \"HTTP/1.1 200 OK\"\n",
      "INFO:httpx:HTTP Request: PUT http://localhost:6333/collections/miraculous_clustered/points?wait=false \"HTTP/1.1 200 OK\"\n",
      "INFO:httpx:HTTP Request: PUT http://localhost:6333/collections/miraculous_clustered/points?wait=false \"HTTP/1.1 200 OK\"\n",
      "INFO:httpx:HTTP Request: PUT http://localhost:6333/collections/miraculous_clustered/points?wait=false \"HTTP/1.1 200 OK\"\n",
      "INFO:httpx:HTTP Request: PUT http://localhost:6333/collections/miraculous_clustered/points?wait=false \"HTTP/1.1 200 OK\"\n",
      "INFO:httpx:HTTP Request: PUT http://localhost:6333/collections/miraculous_clustered/points?wait=false \"HTTP/1.1 200 OK\"\n",
      "INFO:httpx:HTTP Request: PUT http://localhost:6333/collections/miraculous_clustered/points?wait=false \"HTTP/1.1 200 OK\"\n",
      "INFO:httpx:HTTP Request: PUT http://localhost:6333/collections/miraculous_clustered/points?wait=false \"HTTP/1.1 200 OK\"\n",
      "INFO:httpx:HTTP Request: PUT http://localhost:6333/collections/miraculous_clustered/points?wait=false \"HTTP/1.1 200 OK\"\n",
      "INFO:httpx:HTTP Request: PUT http://localhost:6333/collections/miraculous_clustered/points?wait=false \"HTTP/1.1 200 OK\"\n",
      "INFO:httpx:HTTP Request: PUT http://localhost:6333/collections/miraculous_clustered/points?wait=false \"HTTP/1.1 200 OK\"\n",
      "INFO:httpx:HTTP Request: PUT http://localhost:6333/collections/miraculous_clustered/points?wait=false \"HTTP/1.1 200 OK\"\n",
      "INFO:httpx:HTTP Request: PUT http://localhost:6333/collections/miraculous_clustered/points?wait=false \"HTTP/1.1 200 OK\"\n",
      "INFO:httpx:HTTP Request: PUT http://localhost:6333/collections/miraculous_clustered/points?wait=false \"HTTP/1.1 200 OK\"\n",
      "INFO:httpx:HTTP Request: PUT http://localhost:6333/collections/miraculous_clustered/points?wait=false \"HTTP/1.1 200 OK\"\n",
      "INFO:httpx:HTTP Request: PUT http://localhost:6333/collections/miraculous_clustered/points?wait=false \"HTTP/1.1 200 OK\"\n",
      "INFO:httpx:HTTP Request: PUT http://localhost:6333/collections/miraculous_clustered/points?wait=false \"HTTP/1.1 200 OK\"\n",
      "INFO:httpx:HTTP Request: PUT http://localhost:6333/collections/miraculous_clustered/points?wait=false \"HTTP/1.1 200 OK\"\n",
      "INFO:httpx:HTTP Request: PUT http://localhost:6333/collections/miraculous_clustered/points?wait=false \"HTTP/1.1 200 OK\"\n",
      "INFO:httpx:HTTP Request: PUT http://localhost:6333/collections/miraculous_clustered/points?wait=false \"HTTP/1.1 200 OK\"\n",
      "INFO:httpx:HTTP Request: PUT http://localhost:6333/collections/miraculous_clustered/points?wait=false \"HTTP/1.1 200 OK\"\n",
      "INFO:httpx:HTTP Request: PUT http://localhost:6333/collections/miraculous_clustered/points?wait=false \"HTTP/1.1 200 OK\"\n",
      "INFO:httpx:HTTP Request: PUT http://localhost:6333/collections/miraculous_clustered/points?wait=false \"HTTP/1.1 200 OK\"\n",
      "INFO:httpx:HTTP Request: PUT http://localhost:6333/collections/miraculous_clustered/points?wait=false \"HTTP/1.1 200 OK\"\n",
      "INFO:httpx:HTTP Request: PUT http://localhost:6333/collections/miraculous_clustered/points?wait=false \"HTTP/1.1 200 OK\"\n",
      "INFO:httpx:HTTP Request: PUT http://localhost:6333/collections/miraculous_clustered/points?wait=false \"HTTP/1.1 200 OK\"\n",
      "INFO:httpx:HTTP Request: PUT http://localhost:6333/collections/miraculous_clustered/points?wait=false \"HTTP/1.1 200 OK\"\n",
      "INFO:httpx:HTTP Request: PUT http://localhost:6333/collections/miraculous_clustered/points?wait=false \"HTTP/1.1 200 OK\"\n",
      "INFO:httpx:HTTP Request: PUT http://localhost:6333/collections/miraculous_clustered/points?wait=false \"HTTP/1.1 200 OK\"\n",
      "INFO:httpx:HTTP Request: PUT http://localhost:6333/collections/miraculous_clustered/points?wait=false \"HTTP/1.1 200 OK\"\n",
      "INFO:httpx:HTTP Request: PUT http://localhost:6333/collections/miraculous_clustered/points?wait=false \"HTTP/1.1 200 OK\"\n",
      "INFO:httpx:HTTP Request: PUT http://localhost:6333/collections/miraculous_clustered/points?wait=false \"HTTP/1.1 200 OK\"\n",
      "INFO:httpx:HTTP Request: PUT http://localhost:6333/collections/miraculous_clustered/points?wait=false \"HTTP/1.1 200 OK\"\n",
      "INFO:httpx:HTTP Request: PUT http://localhost:6333/collections/miraculous_clustered/points?wait=false \"HTTP/1.1 200 OK\"\n",
      "INFO:httpx:HTTP Request: PUT http://localhost:6333/collections/miraculous_clustered/points?wait=false \"HTTP/1.1 200 OK\"\n",
      "INFO:httpx:HTTP Request: PUT http://localhost:6333/collections/miraculous_clustered/points?wait=false \"HTTP/1.1 200 OK\"\n",
      "INFO:httpx:HTTP Request: PUT http://localhost:6333/collections/miraculous_clustered/points?wait=false \"HTTP/1.1 200 OK\"\n",
      "INFO:httpx:HTTP Request: PUT http://localhost:6333/collections/miraculous_clustered/points?wait=false \"HTTP/1.1 200 OK\"\n",
      "INFO:httpx:HTTP Request: PUT http://localhost:6333/collections/miraculous_clustered/points?wait=false \"HTTP/1.1 200 OK\"\n",
      "INFO:httpx:HTTP Request: PUT http://localhost:6333/collections/miraculous_clustered/points?wait=false \"HTTP/1.1 200 OK\"\n",
      "INFO:httpx:HTTP Request: PUT http://localhost:6333/collections/miraculous_clustered/points?wait=false \"HTTP/1.1 200 OK\"\n",
      "INFO:httpx:HTTP Request: PUT http://localhost:6333/collections/miraculous_clustered/points?wait=false \"HTTP/1.1 200 OK\"\n",
      "INFO:httpx:HTTP Request: PUT http://localhost:6333/collections/miraculous_clustered/points?wait=false \"HTTP/1.1 200 OK\"\n",
      "INFO:httpx:HTTP Request: PUT http://localhost:6333/collections/miraculous_clustered/points?wait=false \"HTTP/1.1 200 OK\"\n",
      "INFO:httpx:HTTP Request: PUT http://localhost:6333/collections/miraculous_clustered/points?wait=false \"HTTP/1.1 200 OK\"\n",
      "INFO:httpx:HTTP Request: PUT http://localhost:6333/collections/miraculous_clustered/points?wait=false \"HTTP/1.1 200 OK\"\n",
      "INFO:httpx:HTTP Request: PUT http://localhost:6333/collections/miraculous_clustered/points?wait=false \"HTTP/1.1 200 OK\"\n",
      "INFO:httpx:HTTP Request: PUT http://localhost:6333/collections/miraculous_clustered/points?wait=false \"HTTP/1.1 200 OK\"\n",
      "INFO:httpx:HTTP Request: PUT http://localhost:6333/collections/miraculous_clustered/points?wait=false \"HTTP/1.1 200 OK\"\n",
      "INFO:httpx:HTTP Request: PUT http://localhost:6333/collections/miraculous_clustered/points?wait=false \"HTTP/1.1 200 OK\"\n",
      "INFO:httpx:HTTP Request: PUT http://localhost:6333/collections/miraculous_clustered/points?wait=false \"HTTP/1.1 200 OK\"\n",
      "INFO:httpx:HTTP Request: PUT http://localhost:6333/collections/miraculous_clustered/points?wait=false \"HTTP/1.1 200 OK\"\n",
      "INFO:httpx:HTTP Request: PUT http://localhost:6333/collections/miraculous_clustered/points?wait=false \"HTTP/1.1 200 OK\"\n",
      "INFO:httpx:HTTP Request: PUT http://localhost:6333/collections/miraculous_clustered/points?wait=false \"HTTP/1.1 200 OK\"\n",
      "INFO:httpx:HTTP Request: PUT http://localhost:6333/collections/miraculous_clustered/points?wait=false \"HTTP/1.1 200 OK\"\n",
      "INFO:httpx:HTTP Request: PUT http://localhost:6333/collections/miraculous_clustered/points?wait=false \"HTTP/1.1 200 OK\"\n",
      "INFO:httpx:HTTP Request: PUT http://localhost:6333/collections/miraculous_clustered/points?wait=false \"HTTP/1.1 200 OK\"\n",
      "INFO:httpx:HTTP Request: PUT http://localhost:6333/collections/miraculous_clustered/points?wait=false \"HTTP/1.1 200 OK\"\n",
      "INFO:httpx:HTTP Request: PUT http://localhost:6333/collections/miraculous_clustered/points?wait=false \"HTTP/1.1 200 OK\"\n",
      "INFO:httpx:HTTP Request: PUT http://localhost:6333/collections/miraculous_clustered/points?wait=false \"HTTP/1.1 200 OK\"\n",
      "INFO:httpx:HTTP Request: PUT http://localhost:6333/collections/miraculous_clustered/points?wait=false \"HTTP/1.1 200 OK\"\n",
      "INFO:httpx:HTTP Request: PUT http://localhost:6333/collections/miraculous_clustered/points?wait=false \"HTTP/1.1 200 OK\"\n",
      "INFO:httpx:HTTP Request: PUT http://localhost:6333/collections/miraculous_clustered/points?wait=false \"HTTP/1.1 200 OK\"\n",
      "INFO:httpx:HTTP Request: PUT http://localhost:6333/collections/miraculous_clustered/points?wait=false \"HTTP/1.1 200 OK\"\n",
      "INFO:httpx:HTTP Request: PUT http://localhost:6333/collections/miraculous_clustered/points?wait=false \"HTTP/1.1 200 OK\"\n",
      "INFO:httpx:HTTP Request: PUT http://localhost:6333/collections/miraculous_clustered/points?wait=false \"HTTP/1.1 200 OK\"\n",
      "INFO:httpx:HTTP Request: PUT http://localhost:6333/collections/miraculous_clustered/points?wait=false \"HTTP/1.1 200 OK\"\n",
      "INFO:httpx:HTTP Request: PUT http://localhost:6333/collections/miraculous_clustered/points?wait=false \"HTTP/1.1 200 OK\"\n",
      "INFO:httpx:HTTP Request: PUT http://localhost:6333/collections/miraculous_clustered/points?wait=false \"HTTP/1.1 200 OK\"\n",
      "INFO:httpx:HTTP Request: PUT http://localhost:6333/collections/miraculous_clustered/points?wait=false \"HTTP/1.1 200 OK\"\n",
      "INFO:httpx:HTTP Request: PUT http://localhost:6333/collections/miraculous_clustered/points?wait=false \"HTTP/1.1 200 OK\"\n",
      "INFO:httpx:HTTP Request: PUT http://localhost:6333/collections/miraculous_clustered/points?wait=false \"HTTP/1.1 200 OK\"\n",
      "INFO:httpx:HTTP Request: PUT http://localhost:6333/collections/miraculous_clustered/points?wait=false \"HTTP/1.1 200 OK\"\n",
      "INFO:httpx:HTTP Request: PUT http://localhost:6333/collections/miraculous_clustered/points?wait=false \"HTTP/1.1 200 OK\"\n",
      "INFO:httpx:HTTP Request: PUT http://localhost:6333/collections/miraculous_clustered/points?wait=false \"HTTP/1.1 200 OK\"\n",
      "INFO:httpx:HTTP Request: PUT http://localhost:6333/collections/miraculous_clustered/points?wait=false \"HTTP/1.1 200 OK\"\n",
      "INFO:httpx:HTTP Request: PUT http://localhost:6333/collections/miraculous_clustered/points?wait=false \"HTTP/1.1 200 OK\"\n",
      "INFO:httpx:HTTP Request: PUT http://localhost:6333/collections/miraculous_clustered/points?wait=false \"HTTP/1.1 200 OK\"\n",
      "INFO:httpx:HTTP Request: PUT http://localhost:6333/collections/miraculous_clustered/points?wait=false \"HTTP/1.1 200 OK\"\n",
      "INFO:httpx:HTTP Request: PUT http://localhost:6333/collections/miraculous_clustered/points?wait=false \"HTTP/1.1 200 OK\"\n",
      "INFO:httpx:HTTP Request: PUT http://localhost:6333/collections/miraculous_clustered/points?wait=false \"HTTP/1.1 200 OK\"\n",
      "INFO:httpx:HTTP Request: PUT http://localhost:6333/collections/miraculous_clustered/points?wait=false \"HTTP/1.1 200 OK\"\n",
      "INFO:httpx:HTTP Request: PUT http://localhost:6333/collections/miraculous_clustered/points?wait=false \"HTTP/1.1 200 OK\"\n",
      "INFO:httpx:HTTP Request: PUT http://localhost:6333/collections/miraculous_clustered/points?wait=false \"HTTP/1.1 200 OK\"\n",
      "INFO:httpx:HTTP Request: PUT http://localhost:6333/collections/miraculous_clustered/points?wait=false \"HTTP/1.1 200 OK\"\n",
      "INFO:httpx:HTTP Request: PUT http://localhost:6333/collections/miraculous_clustered/points?wait=false \"HTTP/1.1 200 OK\"\n",
      "INFO:httpx:HTTP Request: PUT http://localhost:6333/collections/miraculous_clustered/points?wait=false \"HTTP/1.1 200 OK\"\n",
      "INFO:httpx:HTTP Request: PUT http://localhost:6333/collections/miraculous_clustered/points?wait=false \"HTTP/1.1 200 OK\"\n",
      "INFO:httpx:HTTP Request: PUT http://localhost:6333/collections/miraculous_clustered/points?wait=false \"HTTP/1.1 200 OK\"\n",
      "INFO:httpx:HTTP Request: PUT http://localhost:6333/collections/miraculous_clustered/points?wait=false \"HTTP/1.1 200 OK\"\n",
      "INFO:httpx:HTTP Request: PUT http://localhost:6333/collections/miraculous_clustered/points?wait=false \"HTTP/1.1 200 OK\"\n",
      "INFO:httpx:HTTP Request: PUT http://localhost:6333/collections/miraculous_clustered/points?wait=false \"HTTP/1.1 200 OK\"\n",
      "INFO:httpx:HTTP Request: PUT http://localhost:6333/collections/miraculous_clustered/points?wait=false \"HTTP/1.1 200 OK\"\n",
      "INFO:httpx:HTTP Request: PUT http://localhost:6333/collections/miraculous_clustered/points?wait=false \"HTTP/1.1 200 OK\"\n",
      "INFO:httpx:HTTP Request: PUT http://localhost:6333/collections/miraculous_clustered/points?wait=false \"HTTP/1.1 200 OK\"\n",
      "INFO:httpx:HTTP Request: PUT http://localhost:6333/collections/miraculous_clustered/points?wait=false \"HTTP/1.1 200 OK\"\n",
      "INFO:httpx:HTTP Request: PUT http://localhost:6333/collections/miraculous_clustered/points?wait=false \"HTTP/1.1 200 OK\"\n",
      "INFO:httpx:HTTP Request: PUT http://localhost:6333/collections/miraculous_clustered/points?wait=false \"HTTP/1.1 200 OK\"\n",
      "INFO:httpx:HTTP Request: PUT http://localhost:6333/collections/miraculous_clustered/points?wait=false \"HTTP/1.1 200 OK\"\n",
      "INFO:httpx:HTTP Request: PUT http://localhost:6333/collections/miraculous_clustered/points?wait=false \"HTTP/1.1 200 OK\"\n",
      "INFO:httpx:HTTP Request: PUT http://localhost:6333/collections/miraculous_clustered/points?wait=false \"HTTP/1.1 200 OK\"\n",
      "INFO:httpx:HTTP Request: PUT http://localhost:6333/collections/miraculous_clustered/points?wait=false \"HTTP/1.1 200 OK\"\n",
      "INFO:httpx:HTTP Request: PUT http://localhost:6333/collections/miraculous_clustered/points?wait=false \"HTTP/1.1 200 OK\"\n",
      "INFO:httpx:HTTP Request: PUT http://localhost:6333/collections/miraculous_clustered/points?wait=false \"HTTP/1.1 200 OK\"\n",
      "INFO:httpx:HTTP Request: PUT http://localhost:6333/collections/miraculous_clustered/points?wait=false \"HTTP/1.1 200 OK\"\n",
      "INFO:httpx:HTTP Request: PUT http://localhost:6333/collections/miraculous_clustered/points?wait=false \"HTTP/1.1 200 OK\"\n",
      "INFO:httpx:HTTP Request: PUT http://localhost:6333/collections/miraculous_clustered/points?wait=false \"HTTP/1.1 200 OK\"\n",
      "INFO:httpx:HTTP Request: PUT http://localhost:6333/collections/miraculous_clustered/points?wait=false \"HTTP/1.1 200 OK\"\n",
      "INFO:httpx:HTTP Request: PUT http://localhost:6333/collections/miraculous_clustered/points?wait=false \"HTTP/1.1 200 OK\"\n",
      "INFO:httpx:HTTP Request: PUT http://localhost:6333/collections/miraculous_clustered/points?wait=false \"HTTP/1.1 200 OK\"\n",
      "INFO:httpx:HTTP Request: PUT http://localhost:6333/collections/miraculous_clustered/points?wait=false \"HTTP/1.1 200 OK\"\n",
      "INFO:httpx:HTTP Request: PUT http://localhost:6333/collections/miraculous_clustered/points?wait=false \"HTTP/1.1 200 OK\"\n",
      "INFO:httpx:HTTP Request: PUT http://localhost:6333/collections/miraculous_clustered/points?wait=false \"HTTP/1.1 200 OK\"\n",
      "INFO:httpx:HTTP Request: PUT http://localhost:6333/collections/miraculous_clustered/points?wait=false \"HTTP/1.1 200 OK\"\n",
      "INFO:httpx:HTTP Request: PUT http://localhost:6333/collections/miraculous_clustered/points?wait=false \"HTTP/1.1 200 OK\"\n",
      "INFO:httpx:HTTP Request: PUT http://localhost:6333/collections/miraculous_clustered/points?wait=false \"HTTP/1.1 200 OK\"\n",
      "INFO:httpx:HTTP Request: PUT http://localhost:6333/collections/miraculous_clustered/points?wait=false \"HTTP/1.1 200 OK\"\n",
      "INFO:httpx:HTTP Request: PUT http://localhost:6333/collections/miraculous_clustered/points?wait=false \"HTTP/1.1 200 OK\"\n",
      "INFO:httpx:HTTP Request: PUT http://localhost:6333/collections/miraculous_clustered/points?wait=false \"HTTP/1.1 200 OK\"\n",
      "INFO:httpx:HTTP Request: PUT http://localhost:6333/collections/miraculous_clustered/points?wait=false \"HTTP/1.1 200 OK\"\n",
      "INFO:httpx:HTTP Request: PUT http://localhost:6333/collections/miraculous_clustered/points?wait=false \"HTTP/1.1 200 OK\"\n",
      "INFO:httpx:HTTP Request: PUT http://localhost:6333/collections/miraculous_clustered/points?wait=false \"HTTP/1.1 200 OK\"\n",
      "INFO:httpx:HTTP Request: PUT http://localhost:6333/collections/miraculous_clustered/points?wait=false \"HTTP/1.1 200 OK\"\n",
      "INFO:httpx:HTTP Request: PUT http://localhost:6333/collections/miraculous_clustered/points?wait=false \"HTTP/1.1 200 OK\"\n",
      "INFO:httpx:HTTP Request: PUT http://localhost:6333/collections/miraculous_clustered/points?wait=false \"HTTP/1.1 200 OK\"\n",
      "INFO:httpx:HTTP Request: PUT http://localhost:6333/collections/miraculous_clustered/points?wait=false \"HTTP/1.1 200 OK\"\n",
      "INFO:httpx:HTTP Request: PUT http://localhost:6333/collections/miraculous_clustered/points?wait=false \"HTTP/1.1 200 OK\"\n",
      "INFO:httpx:HTTP Request: PUT http://localhost:6333/collections/miraculous_clustered/points?wait=false \"HTTP/1.1 200 OK\"\n",
      "INFO:httpx:HTTP Request: PUT http://localhost:6333/collections/miraculous_clustered/points?wait=false \"HTTP/1.1 200 OK\"\n",
      "INFO:httpx:HTTP Request: PUT http://localhost:6333/collections/miraculous_clustered/points?wait=false \"HTTP/1.1 200 OK\"\n",
      "INFO:httpx:HTTP Request: PUT http://localhost:6333/collections/miraculous_clustered/points?wait=false \"HTTP/1.1 200 OK\"\n",
      "INFO:httpx:HTTP Request: PUT http://localhost:6333/collections/miraculous_clustered/points?wait=false \"HTTP/1.1 200 OK\"\n",
      "INFO:httpx:HTTP Request: PUT http://localhost:6333/collections/miraculous_clustered/points?wait=false \"HTTP/1.1 200 OK\"\n"
     ]
    }
   ],
   "source": [
    "# print(f\"QDRANT: Adding table {table_name} to {COLLECTION_NAME_CLUSTERED} collection\")\n",
    "assert os.path.exists(table_name), \"Table path does not exist\"\n",
    "df = pd.read_csv(table_name)\n",
    "\n",
    "# Load embeddings\n",
    "# embeddings_path = table_name.replace('.csv', '.pt')\n",
    "assert os.path.exists(embeddings_path), \"Embeddings path doesn't exist\"\n",
    "embeddings_list_flat = torch.load(embeddings_path)\n",
    "\n",
    "df['Embeddings'] = embeddings_list_flat\n",
    "\n",
    "df_unduplicated = df.drop_duplicates(subset='CellValue').reset_index(drop=True)\n",
    "\n",
    "df_records = df_unduplicated.to_dict('records')\n",
    "\n",
    "\n",
    "# Add to collection\n",
    "\n",
    "client.upload_records(\n",
    "collection_name=COLLECTION_NAME_CLUSTERED,\n",
    "records=[\n",
    "    models.Record(\n",
    "        id=str(uuid.uuid4()), vector=doc['Embeddings'].tolist(), payload={key: value for key, value in doc.items() if key!='Embeddings' }\n",
    "    )\n",
    "    for idx, doc in enumerate(df_records)\n",
    "],\n",
    ")\n"
   ]
  },
  {
   "cell_type": "code",
   "execution_count": 69,
   "metadata": {},
   "outputs": [],
   "source": [
    "clustering_index = pd.read_csv(BASE_DIR+'/merged_data/'+'clustering_index.csv')"
   ]
  },
  {
   "cell_type": "code",
   "execution_count": 70,
   "metadata": {},
   "outputs": [
    {
     "name": "stderr",
     "output_type": "stream",
     "text": [
      "Batches: 100%|██████████| 1/1 [00:00<00:00,  2.32it/s]\n"
     ]
    }
   ],
   "source": [
    "query_text = \"Family Recipes\"\n",
    "query_text_emb = model.encode(query_text)\n"
   ]
  },
  {
   "cell_type": "code",
   "execution_count": 71,
   "metadata": {},
   "outputs": [],
   "source": [
    "query_text_emb_umap = umap_trans.transform([query_text_emb])"
   ]
  },
  {
   "cell_type": "code",
   "execution_count": 72,
   "metadata": {},
   "outputs": [
    {
     "data": {
      "text/plain": [
       "[2.178265333175659, 7.778943061828613]"
      ]
     },
     "execution_count": 72,
     "metadata": {},
     "output_type": "execute_result"
    }
   ],
   "source": [
    "query_text_emb_umap[0].tolist()"
   ]
  },
  {
   "cell_type": "code",
   "execution_count": 73,
   "metadata": {},
   "outputs": [
    {
     "data": {
      "text/plain": [
       "['[0.91380763 7.153267  ]',\n",
       " '[-12.235409 -12.438371]',\n",
       " '[ -1.4015218 -10.339981 ]',\n",
       " '[ -8.801927 -17.130781]',\n",
       " '[ -4.9572296 -18.696278 ]',\n",
       " '[ 7.7985783 20.700756 ]',\n",
       " '[26.548054   1.0673656]',\n",
       " '[-14.312599  -8.845067]',\n",
       " '[ 5.543462 26.47296 ]',\n",
       " '[ 2.2950964 21.691807 ]',\n",
       " '[22.386328   1.3978672]',\n",
       " '[ 3.8196776 25.039392 ]',\n",
       " '[21.492651 19.360924]',\n",
       " '[13.778875 24.052605]',\n",
       " '[-19.443855  15.671729]',\n",
       " '[-10.077721  -9.556969]',\n",
       " '[-10.079085  -9.557676]',\n",
       " '[24.599876 10.523559]',\n",
       " '[23.58455   -2.5258367]',\n",
       " '[ 3.5444505 22.960936 ]',\n",
       " '[ 3.518858 22.934366]',\n",
       " '[17.854769 18.408506]',\n",
       " '[17.212154 22.93971 ]',\n",
       " '[21.90302  12.738827]',\n",
       " '[ 2.0609398 24.867691 ]',\n",
       " '[24.888119  8.083279]',\n",
       " '[26.754503  8.451588]',\n",
       " '[24.089739   5.4125843]',\n",
       " '[24.226753 13.397535]',\n",
       " '[-5.658251 15.769345]',\n",
       " '[22.406412   7.0950375]',\n",
       " '[23.116543 15.502286]',\n",
       " '[-13.591899  22.264605]',\n",
       " '[ 2.0445032 24.884192 ]',\n",
       " '[ 2.0488946 24.879805 ]',\n",
       " '[19.385406  8.633123]',\n",
       " '[-17.151728    4.1091394]',\n",
       " '[21.762978   9.2122345]',\n",
       " '[20.127789 11.882624]',\n",
       " '[-1.0022411 26.565428 ]',\n",
       " '[-15.571703   -2.7615635]',\n",
       " '[-18.097446  -4.230644]',\n",
       " '[ 13.536976 -15.63521 ]',\n",
       " '[15.286486 20.440533]',\n",
       " '[15.253511 20.473003]',\n",
       " '[19.837091  5.766462]',\n",
       " '[19.885283   5.7181044]',\n",
       " '[20.328371 10.227206]',\n",
       " '[20.328928  10.2262335]',\n",
       " '[14.874299  8.879248]',\n",
       " '[-1.0312971 26.535376 ]',\n",
       " '[17.18669 13.41476]',\n",
       " '[ 2.5771341 20.26095  ]',\n",
       " '[ 2.525048 18.60755 ]',\n",
       " '[-19.638071    0.4226888]',\n",
       " '[20.788721  14.9954815]',\n",
       " '[15.596002  13.3673725]',\n",
       " '[15.666742 12.263666]',\n",
       " '[20.778955 15.005391]',\n",
       " '[20.77143  15.013043]',\n",
       " '[-20.046717   9.705821]',\n",
       " '[-8.130813   1.2539202]',\n",
       " '[14.504861 17.493107]',\n",
       " '[-1.0788405 26.487127 ]',\n",
       " '[-1.0621094 26.504429 ]',\n",
       " '[-16.548141  12.196753]',\n",
       " '[ 15.658262 -13.062106]',\n",
       " '[14.5123205 17.500221 ]',\n",
       " '[14.519007 17.506485]',\n",
       " '[19.347021  -6.9703956]',\n",
       " '[21.478018  -5.6887126]',\n",
       " '[  1.1567779 -19.275866 ]',\n",
       " '[17.181803 15.61049 ]',\n",
       " '[  3.331186 -20.045471]',\n",
       " '[  3.471546 -17.884144]',\n",
       " '[-13.832025   9.879319]',\n",
       " '[-14.122391  14.557533]',\n",
       " '[-15.125883  15.804386]',\n",
       " '[-12.196056  11.071285]',\n",
       " '[-13.359877  12.482002]',\n",
       " '[-13.400958  12.521573]',\n",
       " '[17.958826  -4.2559323]',\n",
       " '[16.18531  -4.583216]',\n",
       " '[ 10.296682 -18.053225]',\n",
       " '[-16.850206   9.537629]',\n",
       " '[-16.855505   9.543441]',\n",
       " '[17.203543 15.631328]',\n",
       " '[17.227549 15.651437]',\n",
       " '[13.587584  -3.6506824]',\n",
       " '[-10.282258  26.296026]',\n",
       " '[-3.9886456 24.500542 ]',\n",
       " '[-4.0431323 26.960184 ]',\n",
       " '[14.144828 -5.908763]',\n",
       " '[14.146522 -5.908181]',\n",
       " '[-13.225843  17.892433]',\n",
       " '[-16.800188   9.488698]',\n",
       " '[-16.790377   9.478976]',\n",
       " '[-14.886867  19.013351]',\n",
       " '[-16.532492  18.128704]',\n",
       " '[ 12.539898 -13.065239]',\n",
       " '[ 10.8804245 -15.156155 ]',\n",
       " '[  8.580833 -14.991165]',\n",
       " '[  6.487573 -17.435759]',\n",
       " '[  6.476817 -17.446596]',\n",
       " '[ 18.276651 -11.371666]',\n",
       " '[15.504312  -2.8282347]',\n",
       " '[16.766554   -0.91235924]',\n",
       " '[-6.323509 18.630669]',\n",
       " '[  6.5338106 -17.389587 ]',\n",
       " '[  6.548928 -17.374546]',\n",
       " '[  6.5733156 -17.349508 ]',\n",
       " '[  6.6002874 -17.322794 ]',\n",
       " '[22.095926 -8.934855]',\n",
       " '[  9.542063 -13.023532]',\n",
       " '[-16.410833    0.5586177]',\n",
       " '[-16.39899     0.5713755]',\n",
       " '[ 6.6070976 -7.870077 ]',\n",
       " '[ 15.826639 -10.01329 ]',\n",
       " '[ 14.264841 -10.282674]',\n",
       " '[-7.5602446 25.567587 ]',\n",
       " '[-11.020499  13.359571]',\n",
       " '[20.344198 -9.782666]',\n",
       " '[20.34375  -9.782341]',\n",
       " '[ 6.5196753 -9.87598  ]',\n",
       " '[ 9.060368  -7.6699686]',\n",
       " '[-8.135977 21.185812]',\n",
       " '[-7.118589 23.060051]',\n",
       " '[-10.639632  19.667053]',\n",
       " '[-0.23920463 22.92927   ]',\n",
       " '[  8.078071 -11.239527]',\n",
       " '[  7.495072 -12.968169]',\n",
       " '[-8.901682 17.903135]',\n",
       " '[-14.489455   7.281803]',\n",
       " '[-13.329091   5.036839]',\n",
       " '[13.108721 -8.235871]',\n",
       " '[13.107674  -8.2347355]',\n",
       " '[10.95456  -8.524854]',\n",
       " '[  9.873166 -10.078833]',\n",
       " '[-11.3748455  15.765873 ]',\n",
       " '[-9.127598 15.568112]',\n",
       " '[ 0.4407476 18.098198 ]',\n",
       " '[-11.06739     2.4578066]',\n",
       " '[-10.593355   4.403212]',\n",
       " '[-10.478601  22.382544]',\n",
       " '[-10.467183  22.396858]',\n",
       " '[ 0.3788602 20.422737 ]',\n",
       " '[16.698872 -7.525056]',\n",
       " '[-1.7647015 16.109432 ]',\n",
       " '[19.409084 -1.861681]',\n",
       " '[-13.245613   -4.3789396]',\n",
       " '[5.6058784 0.7216513]',\n",
       " '[18.96872     0.42643327]',\n",
       " '[17.816004   1.7955247]',\n",
       " '[-10.886523    0.2841418]',\n",
       " '[-10.825601     0.22118473]',\n",
       " '[-13.120765    -0.36897835]',\n",
       " '[-13.612982    1.8429124]',\n",
       " '[5.1164174 2.9406052]',\n",
       " '[-10.822426   -2.1940162]',\n",
       " '[-4.598244 20.791788]',\n",
       " '[-1.6727316 20.438622 ]',\n",
       " '[-1.3437878 19.220797 ]',\n",
       " '[-2.6389003 17.986269 ]',\n",
       " '[-4.144004 18.692871]',\n",
       " '[-7.8487835 -4.5545764]',\n",
       " '[-7.4299607 -1.4807726]',\n",
       " '[-6.283909   -0.19444512]',\n",
       " '[-0.73167247 -2.5356991 ]',\n",
       " '[-10.926801  -4.336491]',\n",
       " '[-9.5545845 -5.4088655]',\n",
       " '[ 11.928313 -10.312641]',\n",
       " '[ 11.928168 -10.31312 ]',\n",
       " '[4.0134144 2.6811216]',\n",
       " '[3.900249  3.1860075]',\n",
       " '[-7.4175606 10.547696 ]',\n",
       " '[-8.6831875 -2.605938 ]',\n",
       " '[-8.682518  -2.6062348]',\n",
       " '[-4.6035857 -2.2587893]',\n",
       " '[-5.660671  -2.2592072]',\n",
       " '[12.7283   -0.806812]',\n",
       " '[-9.196417 11.373121]',\n",
       " '[-11.813777   7.204144]',\n",
       " '[-10.510521   8.418075]',\n",
       " '[ 6.9522853 10.911111 ]',\n",
       " '[-4.128642  -0.9683627]',\n",
       " '[-4.872549  -0.4028383]',\n",
       " '[-4.4154305   0.76220787]',\n",
       " '[-4.515039    0.63882875]',\n",
       " '[-1.4727137  -0.97084993]',\n",
       " '[-1.3779585  -0.84906936]',\n",
       " '[15.2453     1.6559778]',\n",
       " '[10.281227 -4.94653 ]',\n",
       " '[10.640957  -5.2870398]',\n",
       " '[1.4848739 1.4154043]',\n",
       " '[-4.5474057 20.73996  ]',\n",
       " '[-4.5731754 20.767117 ]',\n",
       " '[14.136685    0.48072162]',\n",
       " '[13.190751   1.7663982]',\n",
       " '[11.412977  -3.3108194]',\n",
       " '[10.498211  -1.8254266]',\n",
       " '[1.3335903 2.2612116]',\n",
       " '[2.736166   0.36740232]',\n",
       " '[ 1.786943  -2.3476484]',\n",
       " '[ 7.747382  -0.7785503]',\n",
       " '[2.8376572  0.44229496]',\n",
       " '[2.809474   0.41550988]',\n",
       " '[ 2.8605473 -0.3671608]',\n",
       " '[-2.7468529 21.966696 ]',\n",
       " '[ 6.8461914 -1.0726765]',\n",
       " '[ 7.0313907 -0.8033111]',\n",
       " '[ 8.230626 -4.989206]',\n",
       " '[-10.473459  10.363012]',\n",
       " '[-10.502696  10.33091 ]',\n",
       " '[13.966351 15.16275 ]',\n",
       " '[-2.5093622  1.0321912]',\n",
       " '[-2.509962   1.0299919]',\n",
       " '[3.6029513 3.0931385]',\n",
       " '[14.877286  3.804782]',\n",
       " '[14.876336   3.8028624]',\n",
       " '[ 8.453849 -3.67251 ]',\n",
       " '[ 8.6771965 -2.656219 ]',\n",
       " '[ 8.785522  -2.5649667]',\n",
       " '[ 5.131884  -1.7562809]',\n",
       " '[ 4.5336947 -4.1257553]',\n",
       " '[ 3.4678502 -3.7073953]',\n",
       " '[ 6.0131874 -4.689964 ]',\n",
       " '[ 7.0236278 -2.8013809]',\n",
       " '[ 6.8588605 -3.1447425]',\n",
       " '[ 1.9156482 -1.5744846]',\n",
       " '[0.6183067  0.21298738]',\n",
       " '[11.913972   4.2904353]',\n",
       " '[-8.885177   4.9226947]',\n",
       " '[10.179883 10.019167]',\n",
       " '[ 5.5367923 16.80732  ]',\n",
       " '[4.4585648 2.1264143]',\n",
       " '[4.8676515 2.175743 ]',\n",
       " '[ 4.653361  -2.7869983]',\n",
       " '[ 4.686872  -2.7167997]',\n",
       " '[-8.346317  6.13918 ]',\n",
       " '[12.294389 13.583826]',\n",
       " '[-8.161508  8.611932]',\n",
       " '[-2.7768564 21.93636  ]',\n",
       " '[-2.7669854 21.946339 ]',\n",
       " '[-0.84615785 -2.1065986 ]',\n",
       " '[0.30768636 2.1826472 ]',\n",
       " '[-7.3671713  4.536715 ]',\n",
       " '[-7.439313  5.248615]',\n",
       " '[-5.899574   3.4907715]',\n",
       " '[11.625547 11.226062]',\n",
       " '[10.793515 12.629314]',\n",
       " '[-2.7212012 21.991882 ]',\n",
       " '[-2.7351134 21.97822  ]',\n",
       " '[ 6.1570683 -4.5449224]',\n",
       " '[ 6.15895  -4.542842]',\n",
       " '[2.1313705  0.02437783]',\n",
       " '[13.954887 15.151537]',\n",
       " '[13.947867 15.144887]',\n",
       " '[ 8.758118 12.478517]',\n",
       " '[ 8.917971 14.336287]',\n",
       " '[0.92957807 0.15291986]',\n",
       " '[10.509612   2.6928406]',\n",
       " '[ 1.8367792  -0.03603355]',\n",
       " '[1.9088826  0.07866937]',\n",
       " '[ 1.5100439  -0.06867088]',\n",
       " '[11.994726   4.3705907]',\n",
       " '[11.967914   4.3442755]',\n",
       " '[-5.5814404  3.2836814]',\n",
       " '[-5.4665313  3.189789 ]',\n",
       " '[-0.920064 -2.134365]',\n",
       " '[-0.91493255 -2.1814966 ]',\n",
       " '[ 2.0850403 -1.8096356]',\n",
       " '[ 2.1793332 -1.8868661]',\n",
       " '[9.94719   0.5454715]',\n",
       " '[10.866565   1.1191636]',\n",
       " '[8.069554   0.78880715]',\n",
       " '[8.656836 5.481248]',\n",
       " '[1.271905   0.03119905]',\n",
       " '[1.1550392  0.08166658]',\n",
       " '[ 1.7779  -1.14016]',\n",
       " '[9.062759  1.3704473]',\n",
       " '[9.343556 5.037717]',\n",
       " '[9.4593525 7.11059  ]',\n",
       " '[8.836852  7.8059845]',\n",
       " '[-3.6593122 12.841198 ]',\n",
       " '[10.588686 16.262589]',\n",
       " '[10.615388 16.236265]',\n",
       " '[8.857989 2.529334]',\n",
       " '[9.916174 4.873895]',\n",
       " '[-6.662131 12.792574]',\n",
       " '[-5.5787163 11.833137 ]',\n",
       " '[-4.3097725 11.125713 ]',\n",
       " '[-3.092393 10.805684]',\n",
       " '[ 1.7321873 -0.3238786]',\n",
       " '[ 1.7139602 -0.6690128]',\n",
       " '[7.5133862 2.5967596]',\n",
       " '[ 6.01114  14.837812]',\n",
       " '[1.060832  2.2972322]',\n",
       " '[-0.05204089  2.0793295 ]',\n",
       " '[8.24675   2.6496785]',\n",
       " '[ 7.1961756 13.831741 ]',\n",
       " '[ 7.24242 13.75925]',\n",
       " '[8.329225  2.3281355]',\n",
       " '[8.29607   2.1182675]',\n",
       " '[9.60504   4.4766507]',\n",
       " '[9.472324  4.3906236]',\n",
       " '[7.3043156 7.6675014]',\n",
       " '[7.1800203 7.5357695]',\n",
       " '[7.0578895 7.4144306]',\n",
       " '[-4.117434 13.077097]',\n",
       " '[-4.0959835 13.057238 ]',\n",
       " '[-2.8839512  9.233601 ]',\n",
       " '[-2.8941305  9.2394285]',\n",
       " '[-3.6628823  4.2525387]',\n",
       " '[-3.3964355  4.1852846]',\n",
       " '[ 1.4091482 13.893289 ]',\n",
       " '[ 1.890647 12.811726]',\n",
       " '[-1.6481524 10.340932 ]',\n",
       " '[0.7905471 2.2935712]',\n",
       " '[0.6592992 2.2792482]',\n",
       " '[-6.1542807  8.440609 ]',\n",
       " '[-6.000491  9.975052]',\n",
       " '[-4.9743047  5.292208 ]',\n",
       " '[-3.5169923  6.4386   ]',\n",
       " '[-3.548373  6.473081]',\n",
       " '[ 4.5210414 13.886616 ]',\n",
       " '[ 5.567651  13.0212345]',\n",
       " '[ 1.4648128 15.616366 ]',\n",
       " '[4.0762353 9.772051 ]',\n",
       " '[ 4.829899 10.163839]',\n",
       " '[-6.6311436  6.7632504]',\n",
       " '[ 2.945571 11.385337]',\n",
       " '[7.3894973 7.7643237]',\n",
       " '[7.476119  7.8353963]',\n",
       " '[-5.138728   6.8794093]',\n",
       " '[ 2.2292252 10.370705 ]',\n",
       " '[ 1.5079536 10.043643 ]',\n",
       " '[5.8312407 5.6661186]',\n",
       " '[6.705498  5.4339457]',\n",
       " '[4.759887 5.608832]',\n",
       " '[-4.6405363  7.8298016]',\n",
       " '[-4.493913  8.074747]',\n",
       " '[4.067457 6.550082]',\n",
       " '[-6.0767584  3.6269372]',\n",
       " '[-6.1290336  3.6666133]',\n",
       " '[3.1404102 5.173455 ]',\n",
       " '[16.655941  -7.5747943]',\n",
       " '[16.661009  -7.5698137]',\n",
       " '[ 2.2132545 15.309926 ]',\n",
       " '[ 2.240574 15.287115]',\n",
       " '[3.438157  2.8629203]',\n",
       " '[3.4578328 2.903436 ]',\n",
       " '[5.070686 8.918484]',\n",
       " '[-0.89373165 13.292421  ]',\n",
       " '[-2.2015133  7.524446 ]',\n",
       " '[-2.019369  7.645993]',\n",
       " '[-1.0751413  7.214716 ]',\n",
       " '[-1.4342918  7.387574 ]',\n",
       " '[-1.2481232  8.310746 ]',\n",
       " '[ 3.094363 14.663887]',\n",
       " '[5.0548587 8.902103 ]',\n",
       " '[5.0423713 8.889632 ]',\n",
       " '[-0.86971694 13.317992  ]',\n",
       " '[-3.116758  3.124532]',\n",
       " '[-0.48973528 13.71228   ]',\n",
       " '[-0.21623366  2.011296  ]',\n",
       " '[-0.32503602  1.9376318 ]',\n",
       " '[-0.75315326 13.437691  ]',\n",
       " '[-0.70743257 13.48538   ]',\n",
       " '[ 3.0400696 14.716504 ]',\n",
       " '[ 2.9926598 14.69107  ]',\n",
       " '[-1.0381004  7.7336817]',\n",
       " '[-0.84753174 13.341428  ]',\n",
       " '[-0.8347154 13.354519 ]',\n",
       " '[ 3.173467 14.844899]',\n",
       " '[ 3.1418252 14.819045 ]',\n",
       " '[-0.6389735 13.557722 ]',\n",
       " '[-3.240818   3.2483284]',\n",
       " '[-3.186076  3.18786 ]',\n",
       " '[-0.53518903 13.664524  ]',\n",
       " '[3.2312894 8.302165 ]',\n",
       " '[-0.6095037 13.589144 ]',\n",
       " '[-3.2205338  3.224638 ]',\n",
       " '[-3.210856   3.2139854]',\n",
       " '[4.150955 7.702291]',\n",
       " '[3.3190696 7.6575885]',\n",
       " '[1.8684975 8.659187 ]',\n",
       " '[1.5279839 8.689424 ]',\n",
       " '[-0.56738544 13.631696  ]',\n",
       " '[3.6757207 8.295297 ]',\n",
       " '[1.1188142 8.648634 ]',\n",
       " '[-0.58479863 13.613566  ]',\n",
       " '[-0.5904395 13.607612 ]',\n",
       " '[0.23497868 9.5109    ]',\n",
       " '[3.6260176 7.9117594]',\n",
       " '[3.425225 8.015872]',\n",
       " '[-0.25939885  9.42043   ]',\n",
       " '[-0.42696196  9.585657  ]',\n",
       " '[-0.779876  9.274482]',\n",
       " '[-0.73664427  7.682483  ]',\n",
       " '[2.8049715 7.30541  ]',\n",
       " '[2.8247757 7.987813 ]',\n",
       " '[3.114594  7.9475727]',\n",
       " '[2.9401047 8.034324 ]',\n",
       " '[0.13327485 8.588866  ]',\n",
       " '[-0.31917328  9.110384  ]',\n",
       " '[0.21837485 8.959766  ]',\n",
       " '[0.371006 9.050518]',\n",
       " '[0.4611737 9.16137  ]',\n",
       " '[-0.33309597  8.956297  ]',\n",
       " '[-0.34162346  8.798194  ]',\n",
       " '[-0.03659224  8.707223  ]',\n",
       " '[-0.05867701  8.880965  ]',\n",
       " '[-0.5033694  8.480359 ]',\n",
       " '[-0.5623512  8.535601 ]',\n",
       " '[2.6843734 6.0823407]',\n",
       " '[2.4825912 6.417761 ]',\n",
       " '[2.3678281 6.5796013]',\n",
       " '[2.386154 6.408622]',\n",
       " '[0.7352858 8.229976 ]',\n",
       " '[2.426542 8.325915]',\n",
       " '[2.4932024 8.189431 ]',\n",
       " '[-0.5134106  7.3870993]',\n",
       " '[1.3243064 8.408722 ]',\n",
       " '[1.7277362 8.320347 ]',\n",
       " '[1.4620712 8.371076 ]',\n",
       " '[2.1978984 7.57445  ]',\n",
       " '[0.07196951 8.260798  ]',\n",
       " '[2.3051147 7.8278537]',\n",
       " '[2.5735822 7.69823  ]',\n",
       " '[2.515236  7.8807945]',\n",
       " '[0.3976841 8.391615 ]',\n",
       " '[0.3473746 8.175786 ]',\n",
       " '[0.28972661 8.275406  ]',\n",
       " '[-0.29432884  7.83608   ]',\n",
       " '[1.5469966 6.1764627]',\n",
       " '[0.01360882 5.7566013 ]',\n",
       " '[0.14369419 5.8385878 ]',\n",
       " '[0.4454372 6.1385255]',\n",
       " '[0.16114369 6.1159477 ]',\n",
       " '[0.01462022 5.9830427 ]',\n",
       " '[0.5650576 5.973033 ]',\n",
       " '[0.5663559 6.0611224]',\n",
       " '[0.83100396 6.236653  ]',\n",
       " '[0.07193113 7.20947   ]',\n",
       " '[1.1759899 6.2664075]',\n",
       " '[0.9816845 6.4293756]',\n",
       " '[1.2270344 5.9962835]',\n",
       " '[1.1701297 6.0238957]',\n",
       " '[1.6450955 7.7542405]',\n",
       " '[2.3296924 7.2002015]',\n",
       " '[1.1575471 7.8135467]',\n",
       " '[-0.18897687  7.252058  ]',\n",
       " '[0.92028534 6.9571548 ]',\n",
       " '[0.8252905 6.7431626]',\n",
       " '[0.30320418 7.8969717 ]',\n",
       " '[2.111303 7.309856]',\n",
       " '[-0.20076537  7.610467  ]',\n",
       " '[1.913133  6.9521575]',\n",
       " '[2.2799485 6.971558 ]',\n",
       " '[2.1212573 6.8684497]',\n",
       " '[0.9715606 7.726635 ]',\n",
       " '[1.0860066 7.473372 ]',\n",
       " '[-0.10889269  6.650088  ]',\n",
       " '[1.4146211 7.609978 ]',\n",
       " '[1.351203  7.3174176]',\n",
       " '[0.30407137 7.511816  ]',\n",
       " '[1.8370323 7.528266 ]',\n",
       " '[-0.2345209  6.4160013]',\n",
       " '[-0.3789744  6.4395227]',\n",
       " '[0.2844808 6.5033255]',\n",
       " '[0.46493962 6.861544  ]',\n",
       " '[0.5195088 7.565404 ]',\n",
       " '[1.6732619 7.1306806]',\n",
       " '[0.28562486 7.2896442 ]',\n",
       " '[0.4287896 7.179345 ]',\n",
       " '[0.7077139 7.4751678]',\n",
       " '[0.64791405 7.4354014 ]',\n",
       " '[0.09162509 7.698803  ]',\n",
       " '[4.0533524e-03 7.4019585e+00]',\n",
       " '[1.5490503 7.046873 ]',\n",
       " '[1.5315449 7.152783 ]',\n",
       " '[1.659489 7.377707]',\n",
       " '[1.7137082 7.257863 ]',\n",
       " '[1.8059319 7.2835574]']"
      ]
     },
     "execution_count": 73,
     "metadata": {},
     "output_type": "execute_result"
    }
   ],
   "source": [
    "clustering_index['Medoid'].values.tolist()"
   ]
  },
  {
   "cell_type": "code",
   "execution_count": 74,
   "metadata": {},
   "outputs": [
    {
     "ename": "ValueError",
     "evalue": "too many dimensions 'str'",
     "output_type": "error",
     "traceback": [
      "\u001b[0;31m---------------------------------------------------------------------------\u001b[0m",
      "\u001b[0;31mValueError\u001b[0m                                Traceback (most recent call last)",
      "\u001b[1;32m/Users/enaso/Library/CloudStorage/OneDrive-UniversiteitUtrecht/_GitHub/mira_gui/api_testing.ipynb Cell 83\u001b[0m line \u001b[0;36m1\n\u001b[0;32m----> <a href='vscode-notebook-cell:/Users/enaso/Library/CloudStorage/OneDrive-UniversiteitUtrecht/_GitHub/mira_gui/api_testing.ipynb#Y145sZmlsZQ%3D%3D?line=0'>1</a>\u001b[0m similarities \u001b[39m=\u001b[39m util\u001b[39m.\u001b[39;49mcos_sim(query_text_emb_umap[\u001b[39m0\u001b[39;49m], clustering_index[\u001b[39m'\u001b[39;49m\u001b[39mMedoid\u001b[39;49m\u001b[39m'\u001b[39;49m]\u001b[39m.\u001b[39;49mvalues\u001b[39m.\u001b[39;49mtolist())\n",
      "File \u001b[0;32m~/Library/CloudStorage/OneDrive-UniversiteitUtrecht/_GitHub/mira_gui/.venv/lib/python3.9/site-packages/sentence_transformers/util.py:39\u001b[0m, in \u001b[0;36mcos_sim\u001b[0;34m(a, b)\u001b[0m\n\u001b[1;32m     36\u001b[0m     a \u001b[39m=\u001b[39m torch\u001b[39m.\u001b[39mtensor(a)\n\u001b[1;32m     38\u001b[0m \u001b[39mif\u001b[39;00m \u001b[39mnot\u001b[39;00m \u001b[39misinstance\u001b[39m(b, torch\u001b[39m.\u001b[39mTensor):\n\u001b[0;32m---> 39\u001b[0m     b \u001b[39m=\u001b[39m torch\u001b[39m.\u001b[39;49mtensor(b)\n\u001b[1;32m     41\u001b[0m \u001b[39mif\u001b[39;00m \u001b[39mlen\u001b[39m(a\u001b[39m.\u001b[39mshape) \u001b[39m==\u001b[39m \u001b[39m1\u001b[39m:\n\u001b[1;32m     42\u001b[0m     a \u001b[39m=\u001b[39m a\u001b[39m.\u001b[39munsqueeze(\u001b[39m0\u001b[39m)\n",
      "\u001b[0;31mValueError\u001b[0m: too many dimensions 'str'"
     ]
    }
   ],
   "source": [
    "similarities = util.cos_sim(query_text_emb_umap[0], clustering_index['Medoid'].values.tolist())"
   ]
  },
  {
   "cell_type": "code",
   "execution_count": 47,
   "metadata": {},
   "outputs": [
    {
     "ename": "NameError",
     "evalue": "name 'similarities' is not defined",
     "output_type": "error",
     "traceback": [
      "\u001b[0;31m---------------------------------------------------------------------------\u001b[0m",
      "\u001b[0;31mNameError\u001b[0m                                 Traceback (most recent call last)",
      "\u001b[1;32m/Users/enaso/Library/CloudStorage/OneDrive-UniversiteitUtrecht/_GitHub/mira_gui/api_testing.ipynb Cell 84\u001b[0m line \u001b[0;36m1\n\u001b[0;32m----> <a href='vscode-notebook-cell:/Users/enaso/Library/CloudStorage/OneDrive-UniversiteitUtrecht/_GitHub/mira_gui/api_testing.ipynb#Y146sZmlsZQ%3D%3D?line=0'>1</a>\u001b[0m \u001b[39mlen\u001b[39m(similarities\u001b[39m.\u001b[39mnumpy()[\u001b[39m0\u001b[39m])\n",
      "\u001b[0;31mNameError\u001b[0m: name 'similarities' is not defined"
     ]
    }
   ],
   "source": [
    "len(similarities.numpy()[0])"
   ]
  },
  {
   "cell_type": "code",
   "execution_count": 48,
   "metadata": {},
   "outputs": [
    {
     "ename": "NameError",
     "evalue": "name 'similarities' is not defined",
     "output_type": "error",
     "traceback": [
      "\u001b[0;31m---------------------------------------------------------------------------\u001b[0m",
      "\u001b[0;31mNameError\u001b[0m                                 Traceback (most recent call last)",
      "\u001b[1;32m/Users/enaso/Library/CloudStorage/OneDrive-UniversiteitUtrecht/_GitHub/mira_gui/api_testing.ipynb Cell 85\u001b[0m line \u001b[0;36m1\n\u001b[0;32m----> <a href='vscode-notebook-cell:/Users/enaso/Library/CloudStorage/OneDrive-UniversiteitUtrecht/_GitHub/mira_gui/api_testing.ipynb#Y150sZmlsZQ%3D%3D?line=0'>1</a>\u001b[0m clustering_index[\u001b[39m'\u001b[39m\u001b[39mSimilarity\u001b[39m\u001b[39m'\u001b[39m] \u001b[39m=\u001b[39m similarities\u001b[39m.\u001b[39mnumpy()[\u001b[39m0\u001b[39m]\n",
      "\u001b[0;31mNameError\u001b[0m: name 'similarities' is not defined"
     ]
    }
   ],
   "source": [
    "clustering_index['Similarity'] = similarities.numpy()[0]"
   ]
  },
  {
   "cell_type": "code",
   "execution_count": 180,
   "metadata": {},
   "outputs": [],
   "source": [
    "clustering_index = clustering_index.sort_values('Similarity', ascending=False)"
   ]
  },
  {
   "cell_type": "code",
   "execution_count": 218,
   "metadata": {},
   "outputs": [],
   "source": [
    "top_k_clusters = clustering_index.iloc[:5]"
   ]
  },
  {
   "cell_type": "code",
   "execution_count": 219,
   "metadata": {},
   "outputs": [],
   "source": [
    "top_k_clusters = top_k_clusters['Cluster'].values.tolist()"
   ]
  },
  {
   "cell_type": "code",
   "execution_count": 220,
   "metadata": {},
   "outputs": [
    {
     "data": {
      "text/plain": [
       "[146, 145, 4, 119, 200]"
      ]
     },
     "execution_count": 220,
     "metadata": {},
     "output_type": "execute_result"
    }
   ],
   "source": [
    "top_k_clusters "
   ]
  },
  {
   "cell_type": "code",
   "execution_count": 201,
   "metadata": {},
   "outputs": [
    {
     "name": "stdout",
     "output_type": "stream",
     "text": [
      "ANN SEARCH\n"
     ]
    },
    {
     "data": {
      "text/html": [
       "<div>\n",
       "<style scoped>\n",
       "    .dataframe tbody tr th:only-of-type {\n",
       "        vertical-align: middle;\n",
       "    }\n",
       "\n",
       "    .dataframe tbody tr th {\n",
       "        vertical-align: top;\n",
       "    }\n",
       "\n",
       "    .dataframe thead th {\n",
       "        text-align: right;\n",
       "    }\n",
       "</style>\n",
       "<table border=\"1\" class=\"dataframe\">\n",
       "  <thead>\n",
       "    <tr style=\"text-align: right;\">\n",
       "      <th></th>\n",
       "      <th>TableName</th>\n",
       "      <th>CellValue</th>\n",
       "      <th>CellValue_Column</th>\n",
       "      <th>Cluster</th>\n",
       "      <th>SimilaritiyScores</th>\n",
       "    </tr>\n",
       "  </thead>\n",
       "  <tbody>\n",
       "    <tr>\n",
       "      <th>0</th>\n",
       "      <td>jobs.csv</td>\n",
       "      <td>Data Scientist</td>\n",
       "      <td>Job Name</td>\n",
       "      <td>146</td>\n",
       "      <td>1.000000</td>\n",
       "    </tr>\n",
       "    <tr>\n",
       "      <th>1</th>\n",
       "      <td>jobs.csv</td>\n",
       "      <td>Data Analyst</td>\n",
       "      <td>Job Name</td>\n",
       "      <td>146</td>\n",
       "      <td>0.875535</td>\n",
       "    </tr>\n",
       "    <tr>\n",
       "      <th>2</th>\n",
       "      <td>jobs.csv</td>\n",
       "      <td>Research Scientist</td>\n",
       "      <td>Job Name</td>\n",
       "      <td>102</td>\n",
       "      <td>0.728945</td>\n",
       "    </tr>\n",
       "    <tr>\n",
       "      <th>3</th>\n",
       "      <td>jobs.csv</td>\n",
       "      <td>Researcher</td>\n",
       "      <td>Job Name</td>\n",
       "      <td>102</td>\n",
       "      <td>0.698688</td>\n",
       "    </tr>\n",
       "    <tr>\n",
       "      <th>4</th>\n",
       "      <td>jobs.csv</td>\n",
       "      <td>Software Developer</td>\n",
       "      <td>Job Name</td>\n",
       "      <td>145</td>\n",
       "      <td>0.690097</td>\n",
       "    </tr>\n",
       "    <tr>\n",
       "      <th>5</th>\n",
       "      <td>jobs.csv</td>\n",
       "      <td>Software Engineer</td>\n",
       "      <td>Job Name</td>\n",
       "      <td>-1</td>\n",
       "      <td>0.683607</td>\n",
       "    </tr>\n",
       "    <tr>\n",
       "      <th>6</th>\n",
       "      <td>jobs.csv</td>\n",
       "      <td>Systems Analyst</td>\n",
       "      <td>Job Name</td>\n",
       "      <td>146</td>\n",
       "      <td>0.680318</td>\n",
       "    </tr>\n",
       "    <tr>\n",
       "      <th>7</th>\n",
       "      <td>jobs.csv</td>\n",
       "      <td>Financial Analyst</td>\n",
       "      <td>Job Name</td>\n",
       "      <td>173</td>\n",
       "      <td>0.658135</td>\n",
       "    </tr>\n",
       "    <tr>\n",
       "      <th>8</th>\n",
       "      <td>jobs.csv</td>\n",
       "      <td>Web Developer</td>\n",
       "      <td>Job Name</td>\n",
       "      <td>145</td>\n",
       "      <td>0.593639</td>\n",
       "    </tr>\n",
       "    <tr>\n",
       "      <th>9</th>\n",
       "      <td>jobs.csv</td>\n",
       "      <td>Human Resources Specialist</td>\n",
       "      <td>Job Name</td>\n",
       "      <td>221</td>\n",
       "      <td>0.558448</td>\n",
       "    </tr>\n",
       "  </tbody>\n",
       "</table>\n",
       "</div>"
      ],
      "text/plain": [
       "  TableName                   CellValue CellValue_Column  Cluster  \\\n",
       "0  jobs.csv              Data Scientist         Job Name      146   \n",
       "1  jobs.csv                Data Analyst         Job Name      146   \n",
       "2  jobs.csv          Research Scientist         Job Name      102   \n",
       "3  jobs.csv                  Researcher         Job Name      102   \n",
       "4  jobs.csv          Software Developer         Job Name      145   \n",
       "5  jobs.csv           Software Engineer         Job Name       -1   \n",
       "6  jobs.csv             Systems Analyst         Job Name      146   \n",
       "7  jobs.csv           Financial Analyst         Job Name      173   \n",
       "8  jobs.csv               Web Developer         Job Name      145   \n",
       "9  jobs.csv  Human Resources Specialist         Job Name      221   \n",
       "\n",
       "   SimilaritiyScores  \n",
       "0           1.000000  \n",
       "1           0.875535  \n",
       "2           0.728945  \n",
       "3           0.698688  \n",
       "4           0.690097  \n",
       "5           0.683607  \n",
       "6           0.680318  \n",
       "7           0.658135  \n",
       "8           0.593639  \n",
       "9           0.558448  "
      ]
     },
     "execution_count": 201,
     "metadata": {},
     "output_type": "execute_result"
    }
   ],
   "source": [
    "print(\"ANN SEARCH\")\n",
    "client = QdrantClient(\"localhost\", port=6333)\n",
    "\n",
    "hits = client.search(\n",
    "    collection_name=COLLECTION_NAME_CLUSTERED,\n",
    "    query_vector=model.encode(\"Data Scientist\").tolist(),\n",
    "    limit=QDRANT_TOP_K,\n",
    ")\n",
    "\n",
    "data = []\n",
    "\n",
    "for hit in hits:\n",
    "    payload_data = {\n",
    "        'TableName': hit.payload.get('TableName', None),\n",
    "        'CellValue': hit.payload.get('CellValue', None),\n",
    "        'CellValue_Column': hit.payload.get('CellValue_Column', None),\n",
    "        'Cluster': hit.payload.get('Cluster', None),\n",
    "        'SimilaritiyScores': hit.score\n",
    "    }\n",
    "    data.append(payload_data)\n",
    "\n",
    "df_ann = pd.DataFrame(data)\n",
    "\n",
    "df_ann"
   ]
  },
  {
   "cell_type": "code",
   "execution_count": 221,
   "metadata": {},
   "outputs": [
    {
     "name": "stdout",
     "output_type": "stream",
     "text": [
      "EFFICIENT SEARCH\n"
     ]
    },
    {
     "data": {
      "text/html": [
       "<div>\n",
       "<style scoped>\n",
       "    .dataframe tbody tr th:only-of-type {\n",
       "        vertical-align: middle;\n",
       "    }\n",
       "\n",
       "    .dataframe tbody tr th {\n",
       "        vertical-align: top;\n",
       "    }\n",
       "\n",
       "    .dataframe thead th {\n",
       "        text-align: right;\n",
       "    }\n",
       "</style>\n",
       "<table border=\"1\" class=\"dataframe\">\n",
       "  <thead>\n",
       "    <tr style=\"text-align: right;\">\n",
       "      <th></th>\n",
       "      <th>TableName</th>\n",
       "      <th>CellValue</th>\n",
       "      <th>CellValue_Column</th>\n",
       "      <th>Cluster</th>\n",
       "      <th>SimilaritiyScores</th>\n",
       "    </tr>\n",
       "  </thead>\n",
       "  <tbody>\n",
       "    <tr>\n",
       "      <th>0</th>\n",
       "      <td>jobs.csv</td>\n",
       "      <td>Data Scientist</td>\n",
       "      <td>Job Name</td>\n",
       "      <td>146</td>\n",
       "      <td>1.000000</td>\n",
       "    </tr>\n",
       "    <tr>\n",
       "      <th>1</th>\n",
       "      <td>jobs.csv</td>\n",
       "      <td>Data Analyst</td>\n",
       "      <td>Job Name</td>\n",
       "      <td>146</td>\n",
       "      <td>0.875535</td>\n",
       "    </tr>\n",
       "    <tr>\n",
       "      <th>2</th>\n",
       "      <td>jobs.csv</td>\n",
       "      <td>Software Developer</td>\n",
       "      <td>Job Name</td>\n",
       "      <td>145</td>\n",
       "      <td>0.690097</td>\n",
       "    </tr>\n",
       "    <tr>\n",
       "      <th>3</th>\n",
       "      <td>jobs.csv</td>\n",
       "      <td>Systems Analyst</td>\n",
       "      <td>Job Name</td>\n",
       "      <td>146</td>\n",
       "      <td>0.680318</td>\n",
       "    </tr>\n",
       "    <tr>\n",
       "      <th>4</th>\n",
       "      <td>jobs.csv</td>\n",
       "      <td>Web Developer</td>\n",
       "      <td>Job Name</td>\n",
       "      <td>145</td>\n",
       "      <td>0.593639</td>\n",
       "    </tr>\n",
       "    <tr>\n",
       "      <th>5</th>\n",
       "      <td>jobs.csv</td>\n",
       "      <td>IT Support Specialist</td>\n",
       "      <td>Job Name</td>\n",
       "      <td>146</td>\n",
       "      <td>0.558256</td>\n",
       "    </tr>\n",
       "    <tr>\n",
       "      <th>6</th>\n",
       "      <td>jobs.csv</td>\n",
       "      <td>DevOps Engineer</td>\n",
       "      <td>Job Name</td>\n",
       "      <td>145</td>\n",
       "      <td>0.537959</td>\n",
       "    </tr>\n",
       "    <tr>\n",
       "      <th>7</th>\n",
       "      <td>jobs.csv</td>\n",
       "      <td>Analytics</td>\n",
       "      <td>Business Capability</td>\n",
       "      <td>146</td>\n",
       "      <td>0.518827</td>\n",
       "    </tr>\n",
       "    <tr>\n",
       "      <th>8</th>\n",
       "      <td>jobs.csv</td>\n",
       "      <td>Quality Assurance Engineer</td>\n",
       "      <td>Job Name</td>\n",
       "      <td>146</td>\n",
       "      <td>0.444004</td>\n",
       "    </tr>\n",
       "    <tr>\n",
       "      <th>9</th>\n",
       "      <td>jobs.csv</td>\n",
       "      <td>System Administrator</td>\n",
       "      <td>Job Name</td>\n",
       "      <td>119</td>\n",
       "      <td>0.378990</td>\n",
       "    </tr>\n",
       "  </tbody>\n",
       "</table>\n",
       "</div>"
      ],
      "text/plain": [
       "  TableName                   CellValue     CellValue_Column  Cluster  \\\n",
       "0  jobs.csv              Data Scientist             Job Name      146   \n",
       "1  jobs.csv                Data Analyst             Job Name      146   \n",
       "2  jobs.csv          Software Developer             Job Name      145   \n",
       "3  jobs.csv             Systems Analyst             Job Name      146   \n",
       "4  jobs.csv               Web Developer             Job Name      145   \n",
       "5  jobs.csv       IT Support Specialist             Job Name      146   \n",
       "6  jobs.csv             DevOps Engineer             Job Name      145   \n",
       "7  jobs.csv                   Analytics  Business Capability      146   \n",
       "8  jobs.csv  Quality Assurance Engineer             Job Name      146   \n",
       "9  jobs.csv        System Administrator             Job Name      119   \n",
       "\n",
       "   SimilaritiyScores  \n",
       "0           1.000000  \n",
       "1           0.875535  \n",
       "2           0.690097  \n",
       "3           0.680318  \n",
       "4           0.593639  \n",
       "5           0.558256  \n",
       "6           0.537959  \n",
       "7           0.518827  \n",
       "8           0.444004  \n",
       "9           0.378990  "
      ]
     },
     "execution_count": 221,
     "metadata": {},
     "output_type": "execute_result"
    }
   ],
   "source": [
    "print(\"EFFICIENT SEARCH\")\n",
    "client = QdrantClient(\"localhost\", port=6333)\n",
    "\n",
    "hits = client.search(\n",
    "    collection_name=COLLECTION_NAME_CLUSTERED,\n",
    "    query_vector=model.encode(\"Data Scientist\").tolist(),\n",
    "    query_filter=models.Filter(\n",
    "    must=[models.FieldCondition(key=\"Cluster\", match=models.MatchAny(any=top_k_clusters))]\n",
    "    ),\n",
    "    limit=QDRANT_TOP_K,\n",
    ")\n",
    "\n",
    "data = []\n",
    "\n",
    "for hit in hits:\n",
    "    payload_data = {\n",
    "        'TableName': hit.payload.get('TableName', None),\n",
    "        'CellValue': hit.payload.get('CellValue', None),\n",
    "        'CellValue_Column': hit.payload.get('CellValue_Column', None),\n",
    "        'Cluster': hit.payload.get('Cluster', None),\n",
    "        'SimilaritiyScores': hit.score\n",
    "    }\n",
    "    data.append(payload_data)\n",
    "\n",
    "df_efficient = pd.DataFrame(data)\n",
    "\n",
    "df_efficient"
   ]
  },
  {
   "cell_type": "code",
   "execution_count": 205,
   "metadata": {},
   "outputs": [
    {
     "data": {
      "text/html": [
       "<div>\n",
       "<style scoped>\n",
       "    .dataframe tbody tr th:only-of-type {\n",
       "        vertical-align: middle;\n",
       "    }\n",
       "\n",
       "    .dataframe tbody tr th {\n",
       "        vertical-align: top;\n",
       "    }\n",
       "\n",
       "    .dataframe thead th {\n",
       "        text-align: right;\n",
       "    }\n",
       "</style>\n",
       "<table border=\"1\" class=\"dataframe\">\n",
       "  <thead>\n",
       "    <tr style=\"text-align: right;\">\n",
       "      <th></th>\n",
       "      <th>TableName</th>\n",
       "      <th>CellValue</th>\n",
       "      <th>CellValue_Column</th>\n",
       "      <th>Cluster</th>\n",
       "      <th>SimilaritiyScores</th>\n",
       "    </tr>\n",
       "  </thead>\n",
       "  <tbody>\n",
       "    <tr>\n",
       "      <th>0</th>\n",
       "      <td>jobs.csv</td>\n",
       "      <td>Data Scientist</td>\n",
       "      <td>Job Name</td>\n",
       "      <td>146</td>\n",
       "      <td>1.000000</td>\n",
       "    </tr>\n",
       "    <tr>\n",
       "      <th>1</th>\n",
       "      <td>jobs.csv</td>\n",
       "      <td>Data Analyst</td>\n",
       "      <td>Job Name</td>\n",
       "      <td>146</td>\n",
       "      <td>0.875535</td>\n",
       "    </tr>\n",
       "    <tr>\n",
       "      <th>2</th>\n",
       "      <td>jobs.csv</td>\n",
       "      <td>Research Scientist</td>\n",
       "      <td>Job Name</td>\n",
       "      <td>102</td>\n",
       "      <td>0.728945</td>\n",
       "    </tr>\n",
       "    <tr>\n",
       "      <th>3</th>\n",
       "      <td>jobs.csv</td>\n",
       "      <td>Researcher</td>\n",
       "      <td>Job Name</td>\n",
       "      <td>102</td>\n",
       "      <td>0.698688</td>\n",
       "    </tr>\n",
       "    <tr>\n",
       "      <th>4</th>\n",
       "      <td>jobs.csv</td>\n",
       "      <td>Software Developer</td>\n",
       "      <td>Job Name</td>\n",
       "      <td>145</td>\n",
       "      <td>0.690097</td>\n",
       "    </tr>\n",
       "    <tr>\n",
       "      <th>5</th>\n",
       "      <td>jobs.csv</td>\n",
       "      <td>Software Engineer</td>\n",
       "      <td>Job Name</td>\n",
       "      <td>-1</td>\n",
       "      <td>0.683607</td>\n",
       "    </tr>\n",
       "    <tr>\n",
       "      <th>6</th>\n",
       "      <td>jobs.csv</td>\n",
       "      <td>Systems Analyst</td>\n",
       "      <td>Job Name</td>\n",
       "      <td>146</td>\n",
       "      <td>0.680318</td>\n",
       "    </tr>\n",
       "    <tr>\n",
       "      <th>7</th>\n",
       "      <td>jobs.csv</td>\n",
       "      <td>Financial Analyst</td>\n",
       "      <td>Job Name</td>\n",
       "      <td>173</td>\n",
       "      <td>0.658135</td>\n",
       "    </tr>\n",
       "    <tr>\n",
       "      <th>8</th>\n",
       "      <td>jobs.csv</td>\n",
       "      <td>Web Developer</td>\n",
       "      <td>Job Name</td>\n",
       "      <td>145</td>\n",
       "      <td>0.593639</td>\n",
       "    </tr>\n",
       "    <tr>\n",
       "      <th>9</th>\n",
       "      <td>jobs.csv</td>\n",
       "      <td>Human Resources Specialist</td>\n",
       "      <td>Job Name</td>\n",
       "      <td>221</td>\n",
       "      <td>0.558448</td>\n",
       "    </tr>\n",
       "  </tbody>\n",
       "</table>\n",
       "</div>"
      ],
      "text/plain": [
       "  TableName                   CellValue CellValue_Column  Cluster  \\\n",
       "0  jobs.csv              Data Scientist         Job Name      146   \n",
       "1  jobs.csv                Data Analyst         Job Name      146   \n",
       "2  jobs.csv          Research Scientist         Job Name      102   \n",
       "3  jobs.csv                  Researcher         Job Name      102   \n",
       "4  jobs.csv          Software Developer         Job Name      145   \n",
       "5  jobs.csv           Software Engineer         Job Name       -1   \n",
       "6  jobs.csv             Systems Analyst         Job Name      146   \n",
       "7  jobs.csv           Financial Analyst         Job Name      173   \n",
       "8  jobs.csv               Web Developer         Job Name      145   \n",
       "9  jobs.csv  Human Resources Specialist         Job Name      221   \n",
       "\n",
       "   SimilaritiyScores  \n",
       "0           1.000000  \n",
       "1           0.875535  \n",
       "2           0.728945  \n",
       "3           0.698688  \n",
       "4           0.690097  \n",
       "5           0.683607  \n",
       "6           0.680318  \n",
       "7           0.658135  \n",
       "8           0.593639  \n",
       "9           0.558448  "
      ]
     },
     "execution_count": 205,
     "metadata": {},
     "output_type": "execute_result"
    }
   ],
   "source": [
    "df_ann"
   ]
  },
  {
   "cell_type": "code",
   "execution_count": 27,
   "metadata": {},
   "outputs": [],
   "source": [
    "count_embeddings_per_cluster(cluster_labels)"
   ]
  },
  {
   "cell_type": "code",
   "execution_count": 109,
   "metadata": {},
   "outputs": [],
   "source": [
    "unique_embeddings, counts = np.unique(all_embeddings_array, axis=0, return_counts=True)"
   ]
  },
  {
   "cell_type": "code",
   "execution_count": 110,
   "metadata": {},
   "outputs": [
    {
     "data": {
      "text/plain": [
       "array([ 65,  76,  61,  74,  77, 137,  55,  56,  51,  64, 127, 270, 897,\n",
       "        99])"
      ]
     },
     "execution_count": 110,
     "metadata": {},
     "output_type": "execute_result"
    }
   ],
   "source": [
    "counts[counts>50]"
   ]
  },
  {
   "cell_type": "markdown",
   "metadata": {},
   "source": [
    "## Efficient Search - Pipeline"
   ]
  },
  {
   "cell_type": "code",
   "execution_count": 239,
   "metadata": {},
   "outputs": [],
   "source": [
    "from semantic_matching.code.semantic_matching_tables import *"
   ]
  },
  {
   "cell_type": "code",
   "execution_count": 241,
   "metadata": {},
   "outputs": [
    {
     "name": "stderr",
     "output_type": "stream",
     "text": [
      "Processing CSV files:   0%|          | 0/3 [00:00<?, ?it/s]"
     ]
    },
    {
     "name": "stdout",
     "output_type": "stream",
     "text": [
      "Processing table: semantic_matching/data/jobs.csv\n",
      "Processing table: semantic_matching/data/music.csv\n",
      "Processing table: semantic_matching/data/shopping_trends.csv\n"
     ]
    },
    {
     "name": "stderr",
     "output_type": "stream",
     "text": [
      "Processing CSV files: 100%|██████████| 3/3 [00:00<00:00, 10.10it/s]\n"
     ]
    }
   ],
   "source": [
    "merged_df, all_embeddings = create_data_and_save_embeddings(BASE_DIR+DATA_DIR, BASE_DIR+EMBEDDINGS_DIR)"
   ]
  },
  {
   "cell_type": "code",
   "execution_count": 243,
   "metadata": {},
   "outputs": [],
   "source": [
    "embeddings_array = np.vstack(all_embeddings)"
   ]
  },
  {
   "cell_type": "code",
   "execution_count": 244,
   "metadata": {},
   "outputs": [
    {
     "name": "stdout",
     "output_type": "stream",
     "text": [
      "Computing k-NNs process finished. Runtime: 0.46s\n"
     ]
    }
   ],
   "source": [
    "knn = precompute_umap_knn(embeddings_array, 20, 'euclidean', save=False, filename=\"precomputed_knns.joblib\")"
   ]
  },
  {
   "cell_type": "code",
   "execution_count": 247,
   "metadata": {},
   "outputs": [
    {
     "name": "stdout",
     "output_type": "stream",
     "text": [
      "UMAP finished. Runtime: 20.57s\n"
     ]
    }
   ],
   "source": [
    "umap_embeddings, umap_trans, _ = generate_umap_embeddings(20, 2, embeddings_array, pre_computed_knn=knn, n_jobs = -1)"
   ]
  },
  {
   "cell_type": "code",
   "execution_count": 300,
   "metadata": {},
   "outputs": [
    {
     "data": {
      "text/plain": [
       "['semantic_matching/merged_data/umap_trans.joblib']"
      ]
     },
     "execution_count": 300,
     "metadata": {},
     "output_type": "execute_result"
    }
   ],
   "source": [
    "joblib.dump(umap_trans, BASE_DIR+'/merged_data/'+\"umap_trans.joblib\")"
   ]
  },
  {
   "cell_type": "code",
   "execution_count": 288,
   "metadata": {},
   "outputs": [
    {
     "name": "stdout",
     "output_type": "stream",
     "text": [
      "HDBSCAN finished. Runtime: 0.2s\n"
     ]
    }
   ],
   "source": [
    "cluster_labels, clustering_index, cluster_medoids, runtime = hdbscan_clustering(umap_embeddings, 10)"
   ]
  },
  {
   "cell_type": "code",
   "execution_count": 295,
   "metadata": {},
   "outputs": [
    {
     "name": "stdout",
     "output_type": "stream",
     "text": [
      "Creating collection: miraculous_clustered\n"
     ]
    }
   ],
   "source": [
    "create_collection(client , COLLECTION_NAME_CLUSTERED)"
   ]
  },
  {
   "cell_type": "code",
   "execution_count": 251,
   "metadata": {},
   "outputs": [],
   "source": [
    "merged_df['Cluster'] = cluster_labels\n",
    "merged_df.drop('Embeddings', axis=1, inplace=True)\n",
    "merged_df.to_csv(BASE_DIR+'/merged_data/datamerged_df_clustered.csv', index=False)"
   ]
  },
  {
   "cell_type": "code",
   "execution_count": 297,
   "metadata": {},
   "outputs": [
    {
     "name": "stdout",
     "output_type": "stream",
     "text": [
      "QDRANT: Adding table semantic_matching/merged_data/datamerged_df_clustered.csv to miraculous_clustered collection\n"
     ]
    },
    {
     "data": {
      "text/plain": [
       "'Success'"
      ]
     },
     "execution_count": 297,
     "metadata": {},
     "output_type": "execute_result"
    }
   ],
   "source": [
    "add_to_collection_clustered(BASE_DIR+'/merged_data/datamerged_df_clustered.csv', client, BASE_DIR+EMBEDDINGS_DIR+'/all_embeddings.pt', COLLECTION_NAME_CLUSTERED)"
   ]
  },
  {
   "cell_type": "code",
   "execution_count": 290,
   "metadata": {},
   "outputs": [],
   "source": [
    "clustering_index_path = BASE_DIR+'/merged_data/'+'clustering_index.joblib'\n",
    "# clustering_index.to_csv(clustering_index_path, index=False)\n",
    "# joblib.dump(clustering_index, filename=clustering_index_path)\n",
    "clustering_index = joblib.load(clustering_index_path)"
   ]
  },
  {
   "cell_type": "code",
   "execution_count": 302,
   "metadata": {},
   "outputs": [
    {
     "data": {
      "text/plain": [
       "UpdateResult(operation_id=36, status=<UpdateStatus.COMPLETED: 'completed'>)"
      ]
     },
     "execution_count": 302,
     "metadata": {},
     "output_type": "execute_result"
    }
   ],
   "source": [
    "client.create_payload_index(\n",
    "    collection_name=COLLECTION_NAME_CLUSTERED,\n",
    "    field_name=\"Cluster\",\n",
    "    field_schema=\"integer\",\n",
    ")"
   ]
  },
  {
   "cell_type": "code",
   "execution_count": 303,
   "metadata": {},
   "outputs": [
    {
     "name": "stdout",
     "output_type": "stream",
     "text": [
      "EFFICIENT SEARCH\n"
     ]
    }
   ],
   "source": [
    "df_efficient = cluster_search(\"Data Scientist\", 10, 10,  clustering_index_path, umap_trans, client, COLLECTION_NAME_CLUSTERED)"
   ]
  },
  {
   "cell_type": "code",
   "execution_count": 304,
   "metadata": {},
   "outputs": [
    {
     "data": {
      "text/html": [
       "<div>\n",
       "<style scoped>\n",
       "    .dataframe tbody tr th:only-of-type {\n",
       "        vertical-align: middle;\n",
       "    }\n",
       "\n",
       "    .dataframe tbody tr th {\n",
       "        vertical-align: top;\n",
       "    }\n",
       "\n",
       "    .dataframe thead th {\n",
       "        text-align: right;\n",
       "    }\n",
       "</style>\n",
       "<table border=\"1\" class=\"dataframe\">\n",
       "  <thead>\n",
       "    <tr style=\"text-align: right;\">\n",
       "      <th></th>\n",
       "      <th>TableName</th>\n",
       "      <th>CellValue</th>\n",
       "      <th>CellValue_Column</th>\n",
       "      <th>Cluster</th>\n",
       "      <th>SimilaritiyScores</th>\n",
       "    </tr>\n",
       "  </thead>\n",
       "  <tbody>\n",
       "    <tr>\n",
       "      <th>0</th>\n",
       "      <td>jobs.csv</td>\n",
       "      <td>Data Scientist</td>\n",
       "      <td>Job Name</td>\n",
       "      <td>139</td>\n",
       "      <td>1.000000</td>\n",
       "    </tr>\n",
       "    <tr>\n",
       "      <th>1</th>\n",
       "      <td>jobs.csv</td>\n",
       "      <td>Data Analyst</td>\n",
       "      <td>Job Name</td>\n",
       "      <td>139</td>\n",
       "      <td>0.875535</td>\n",
       "    </tr>\n",
       "    <tr>\n",
       "      <th>2</th>\n",
       "      <td>jobs.csv</td>\n",
       "      <td>Research Scientist</td>\n",
       "      <td>Job Name</td>\n",
       "      <td>134</td>\n",
       "      <td>0.728945</td>\n",
       "    </tr>\n",
       "    <tr>\n",
       "      <th>3</th>\n",
       "      <td>jobs.csv</td>\n",
       "      <td>Researcher</td>\n",
       "      <td>Job Name</td>\n",
       "      <td>134</td>\n",
       "      <td>0.698688</td>\n",
       "    </tr>\n",
       "    <tr>\n",
       "      <th>4</th>\n",
       "      <td>jobs.csv</td>\n",
       "      <td>Software Developer</td>\n",
       "      <td>Job Name</td>\n",
       "      <td>139</td>\n",
       "      <td>0.690097</td>\n",
       "    </tr>\n",
       "    <tr>\n",
       "      <th>5</th>\n",
       "      <td>jobs.csv</td>\n",
       "      <td>Software Engineer</td>\n",
       "      <td>Job Name</td>\n",
       "      <td>139</td>\n",
       "      <td>0.683607</td>\n",
       "    </tr>\n",
       "    <tr>\n",
       "      <th>6</th>\n",
       "      <td>jobs.csv</td>\n",
       "      <td>Systems Analyst</td>\n",
       "      <td>Job Name</td>\n",
       "      <td>139</td>\n",
       "      <td>0.680318</td>\n",
       "    </tr>\n",
       "    <tr>\n",
       "      <th>7</th>\n",
       "      <td>jobs.csv</td>\n",
       "      <td>Financial Analyst</td>\n",
       "      <td>Job Name</td>\n",
       "      <td>142</td>\n",
       "      <td>0.658135</td>\n",
       "    </tr>\n",
       "    <tr>\n",
       "      <th>8</th>\n",
       "      <td>jobs.csv</td>\n",
       "      <td>Web Developer</td>\n",
       "      <td>Job Name</td>\n",
       "      <td>139</td>\n",
       "      <td>0.593639</td>\n",
       "    </tr>\n",
       "    <tr>\n",
       "      <th>9</th>\n",
       "      <td>jobs.csv</td>\n",
       "      <td>IT Support Specialist</td>\n",
       "      <td>Job Name</td>\n",
       "      <td>139</td>\n",
       "      <td>0.558256</td>\n",
       "    </tr>\n",
       "  </tbody>\n",
       "</table>\n",
       "</div>"
      ],
      "text/plain": [
       "  TableName              CellValue CellValue_Column  Cluster  \\\n",
       "0  jobs.csv         Data Scientist         Job Name      139   \n",
       "1  jobs.csv           Data Analyst         Job Name      139   \n",
       "2  jobs.csv     Research Scientist         Job Name      134   \n",
       "3  jobs.csv             Researcher         Job Name      134   \n",
       "4  jobs.csv     Software Developer         Job Name      139   \n",
       "5  jobs.csv      Software Engineer         Job Name      139   \n",
       "6  jobs.csv        Systems Analyst         Job Name      139   \n",
       "7  jobs.csv      Financial Analyst         Job Name      142   \n",
       "8  jobs.csv          Web Developer         Job Name      139   \n",
       "9  jobs.csv  IT Support Specialist         Job Name      139   \n",
       "\n",
       "   SimilaritiyScores  \n",
       "0           1.000000  \n",
       "1           0.875535  \n",
       "2           0.728945  \n",
       "3           0.698688  \n",
       "4           0.690097  \n",
       "5           0.683607  \n",
       "6           0.680318  \n",
       "7           0.658135  \n",
       "8           0.593639  \n",
       "9           0.558256  "
      ]
     },
     "execution_count": 304,
     "metadata": {},
     "output_type": "execute_result"
    }
   ],
   "source": [
    "df_efficient "
   ]
  },
  {
   "cell_type": "code",
   "execution_count": null,
   "metadata": {},
   "outputs": [],
   "source": []
  },
  {
   "cell_type": "code",
   "execution_count": 306,
   "metadata": {},
   "outputs": [],
   "source": [
    "model = SentenceTransformer(SBERT_PATH)"
   ]
  },
  {
   "cell_type": "code",
   "execution_count": 340,
   "metadata": {},
   "outputs": [],
   "source": [
    "sen1 = model.encode(\"Data Scientists\")\n",
    "sen2 = model.encode(\"Data Scientists: 69\")\n",
    "sen3 = model.encode(\"69 Data Scientist\")"
   ]
  },
  {
   "cell_type": "code",
   "execution_count": 380,
   "metadata": {},
   "outputs": [
    {
     "data": {
      "text/plain": [
       "['backup',\n",
       " 'GroundTruth_Data',\n",
       " 'jobs.csv',\n",
       " 'music.csv',\n",
       " 'newdataembedding',\n",
       " 'shopping_trends.csv']"
      ]
     },
     "execution_count": 380,
     "metadata": {},
     "output_type": "execute_result"
    }
   ],
   "source": [
    "UPLOAD_DIR = \"semantic_matching/data/\"\n",
    "os.listdir(UPLOAD_DIR)"
   ]
  },
  {
   "cell_type": "code",
   "execution_count": 382,
   "metadata": {},
   "outputs": [
    {
     "data": {
      "text/plain": [
       "'6.44'"
      ]
     },
     "execution_count": 382,
     "metadata": {},
     "output_type": "execute_result"
    }
   ],
   "source": [
    "UPLOAD_DIR_sp = \"/semantic_matching/data/\"\n",
    "\n",
    "str(round(os.path.getsize(UPLOAD_DIR+'jobs.csv') / 1024, 2))"
   ]
  },
  {
   "cell_type": "markdown",
   "metadata": {},
   "source": [
    "# Table Embeddings"
   ]
  },
  {
   "cell_type": "code",
   "execution_count": 344,
   "metadata": {},
   "outputs": [],
   "source": [
    "table1 = pd.read_csv(\"semantic_matching/data/\"+'jobs.csv')"
   ]
  },
  {
   "cell_type": "code",
   "execution_count": 349,
   "metadata": {},
   "outputs": [],
   "source": [
    "table1_str = table1.to_string(columns=table1.columns)\n",
    "table1_str_emb = model.encode(table1_str)"
   ]
  },
  {
   "cell_type": "code",
   "execution_count": 373,
   "metadata": {},
   "outputs": [],
   "source": [
    "sen1 = model.encode(\"Jobs and Salaries\")"
   ]
  },
  {
   "cell_type": "code",
   "execution_count": 354,
   "metadata": {},
   "outputs": [],
   "source": [
    "summary = \"The provided table contains job listings with details such as job name, associated business capability, date posted, seniority level, and salary. The roles span various fields, including Information Technology (IT), Analytics, Management, Design, Marketing, Finance, Human Resources, Customer Service, Sales, Research, and Logistics. The positions range from Senior to Junior and Mid-Level roles, each associated with a specific salary. Notable roles include Software Engineer with a senior level in IT, a Data Analyst in Analytics, a Product Manager in Management, and a Customer Success Manager in Customer Service. The table offers a comprehensive overview of diverse job opportunities, each characterized by its unique specifications within different business capabilities.\"\n",
    "summary_emb = model.encode(summary)"
   ]
  },
  {
   "cell_type": "code",
   "execution_count": 359,
   "metadata": {},
   "outputs": [],
   "source": [
    "table_n_summary = table1_str + summary\n",
    "table_n_summary_emb = model.encode(table_n_summary)"
   ]
  },
  {
   "cell_type": "code",
   "execution_count": 374,
   "metadata": {},
   "outputs": [
    {
     "data": {
      "text/plain": [
       "tensor([[0.4855]])"
      ]
     },
     "execution_count": 374,
     "metadata": {},
     "output_type": "execute_result"
    }
   ],
   "source": [
    "util.cos_sim(sen1, table1_str_emb)"
   ]
  },
  {
   "cell_type": "code",
   "execution_count": 375,
   "metadata": {},
   "outputs": [
    {
     "data": {
      "text/plain": [
       "tensor([[0.5500]])"
      ]
     },
     "execution_count": 375,
     "metadata": {},
     "output_type": "execute_result"
    }
   ],
   "source": [
    "util.cos_sim(sen1, summary_emb)"
   ]
  },
  {
   "cell_type": "code",
   "execution_count": 376,
   "metadata": {},
   "outputs": [
    {
     "data": {
      "text/plain": [
       "tensor([[0.4855]])"
      ]
     },
     "execution_count": 376,
     "metadata": {},
     "output_type": "execute_result"
    }
   ],
   "source": [
    "util.cos_sim(sen1, table_n_summary_emb)"
   ]
  },
  {
   "cell_type": "code",
   "execution_count": 362,
   "metadata": {},
   "outputs": [],
   "source": [
    "table2 = \"\"\"Job Name,Business Capability,Date Posted,Senior Level,Salary\n",
    "Software Engineer,IT,15-02-22,Senior,120000\n",
    "Data Analyst,Analytics,20-03-22,Junior,65000\n",
    "Product Manager,Management,10-01-22,Senior,140000\n",
    "Graphic Designer,Design,05-05-22,Junior,55000\n",
    "Marketing Specialist,Marketing,30-04-22,Mid-Level,80000\n",
    "Financial Analyst,Finance,28-02-22,Mid-Level,90000\n",
    "Network Administrator,IT,15-06-22,Senior,110000\n",
    "HR Coordinator,Human Resources,05-03-22,Junior,50000\n",
    "Customer Support Representative,Customer Service,12-04-22,Junior,52000\n",
    "Operations Manager,Management,25-01-22,Senior,130000\n",
    "Sales Associate,Sales,20-05-22,Mid-Level,75000\n",
    "Research Scientist,Research,10-02-22,Senior,115000\n",
    "Web Developer,IT,08-03-22,Mid-Level,95000\n",
    "Accountant,Finance,01-06-22,Mid-Level,85000\n",
    "Technical Writer,Documentation,18-04-22,Junior,60000\n",
    "Project Coordinator,Management,15-01-22,Junior,53000\n",
    "Legal Assistant,Legal,10-05-22,Junior,54000\n",
    "Customer Success Manager,Customer Service,20-02-22,Senior,125000\n",
    "UX Designer,Design,25-03-22,Mid-Level,88000\n",
    "Supply Chain Analyst,Logistics,10-06-22,Mid-Level,92000\n",
    "Software Engineer,IT,15-02-22,Senior,120000\n",
    "Data Analyst,Analytics,20-03-22,Junior,65000\n",
    "Product Manager,Management,10-01-22,Senior,140000\n",
    "Graphic Designer,Design,05-05-22,Junior,55000\n",
    "Marketing Specialist,Marketing,30-04-22,Mid-Level,80000\"\"\"\n",
    "\n",
    "table2_emb = model.encode(table2)"
   ]
  },
  {
   "cell_type": "code",
   "execution_count": 377,
   "metadata": {},
   "outputs": [
    {
     "data": {
      "text/plain": [
       "tensor([[0.5561]])"
      ]
     },
     "execution_count": 377,
     "metadata": {},
     "output_type": "execute_result"
    }
   ],
   "source": [
    "util.cos_sim(sen1, table2_emb)"
   ]
  },
  {
   "cell_type": "markdown",
   "metadata": {},
   "source": [
    "# Viewing point"
   ]
  },
  {
   "cell_type": "markdown",
   "metadata": {},
   "source": []
  },
  {
   "cell_type": "code",
   "execution_count": null,
   "metadata": {},
   "outputs": [],
   "source": []
  }
 ],
 "metadata": {
  "kernelspec": {
   "display_name": ".venv",
   "language": "python",
   "name": "python3"
  },
  "language_info": {
   "codemirror_mode": {
    "name": "ipython",
    "version": 3
   },
   "file_extension": ".py",
   "mimetype": "text/x-python",
   "name": "python",
   "nbconvert_exporter": "python",
   "pygments_lexer": "ipython3",
   "version": "3.9.6"
  },
  "orig_nbformat": 4
 },
 "nbformat": 4,
 "nbformat_minor": 2
}
