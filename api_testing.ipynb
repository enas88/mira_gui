{
 "cells": [
  {
   "cell_type": "code",
   "execution_count": 5,
   "metadata": {},
   "outputs": [],
   "source": [
    "# import requests\n",
    "\n",
    "# # Define the URL of your FastAPI server\n",
    "# url = \"http://localhost:8000\"  # Update with your server's URL\n",
    "\n",
    "# # Define the data to send as JSON\n",
    "# data = {\n",
    "#     \"text1\": \"Input Text 1\",\n",
    "#     \"text2\": \"Input Text 2\"\n",
    "# }\n",
    "\n",
    "# # Send a POST request with JSON data\n",
    "# response = requests.post(url, json=data)\n",
    "\n",
    "# # Check the response\n",
    "# if response.status_code == 200:\n",
    "#     result = response.json()\n",
    "#     similarity = result[\"similarity\"]\n",
    "#     print(f\"Cosine Similarity: {similarity}\")\n",
    "# else:\n",
    "#     print(f\"Request failed with status code: {response.status_code}\")"
   ]
  },
  {
   "cell_type": "code",
   "execution_count": 3,
   "metadata": {},
   "outputs": [
    {
     "name": "stdout",
     "output_type": "stream",
     "text": [
      "Person added successfully\n"
     ]
    }
   ],
   "source": [
    "import requests\n",
    "\n",
    "# Define the URL of your FastAPI server\n",
    "url = \"http://localhost:8000/add_person\"  # Update with your server's URL\n",
    "\n",
    "# Define the data to send as JSON\n",
    "person_data = {\n",
    "    \"first_name\": \"enas\",\n",
    "    \"last_name\": \"khwaileh\",\n",
    "    \"age\": 35\n",
    "}\n",
    "\n",
    "# Send a POST request with JSON data to add a person\n",
    "response = requests.post(url, json=person_data)\n",
    "\n",
    "# Check the response\n",
    "if response.status_code == 200:\n",
    "    result = response.json()\n",
    "    print(result[\"message\"])\n",
    "else:\n",
    "    print(f\"Request failed with status code: {response.status_code}\")\n"
   ]
  },
  {
   "cell_type": "code",
   "execution_count": null,
   "metadata": {},
   "outputs": [],
   "source": []
  }
 ],
 "metadata": {
  "kernelspec": {
   "display_name": ".venv",
   "language": "python",
   "name": "python3"
  },
  "language_info": {
   "codemirror_mode": {
    "name": "ipython",
    "version": 3
   },
   "file_extension": ".py",
   "mimetype": "text/x-python",
   "name": "python",
   "nbconvert_exporter": "python",
   "pygments_lexer": "ipython3",
   "version": "3.9.6"
  },
  "orig_nbformat": 4
 },
 "nbformat": 4,
 "nbformat_minor": 2
}
